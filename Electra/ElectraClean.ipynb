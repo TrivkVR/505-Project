{
 "cells": [
  {
   "cell_type": "code",
   "execution_count": 1,
   "id": "258b605e",
   "metadata": {},
   "outputs": [],
   "source": [
    "# Import packages\n",
    "import os\n",
    "os.environ['WANDB_DISABLED'] = 'true'\n",
    "import numpy as np\n",
    "import pandas as pd\n",
    "import seaborn as sns\n",
    "import torch\n",
    "from transformers import pipeline, BertTokenizer, BertForSequenceClassification\n",
    "import matplotlib.pyplot as plt\n",
    "from torch.utils.data import TensorDataset\n",
    "from torch.utils.data import DataLoader, RandomSampler, SequentialSampler\n",
    "from transformers import AdamW, get_linear_schedule_with_warmup\n",
    "from tqdm import tqdm\n",
    "import imblearn\n",
    "from imblearn.over_sampling import RandomOverSampler\n",
    "from sklearn.metrics import f1_score\n",
    "import re\n",
    "from sklearn.model_selection import train_test_split\n",
    "from sklearn.model_selection import train_test_split\n",
    "from sklearn.metrics import classification_report\n",
    "import transformers\n",
    "from transformers import AutoModelForSequenceClassification, AutoTokenizer\n",
    "from transformers import TrainingArguments, Trainer\n",
    "from datasets import Dataset, DatasetDict, load_metric\n",
    "import matplotlib.pyplot as plt\n",
    "from sklearn.metrics import confusion_matrix\n",
    "from sklearn.metrics import f1_score,accuracy_score\n",
    "\n",
    "\n",
    "def preprocessing(tweet):\n",
    "    temp = tweet.lower()\n",
    "    temp = re.sub('@[A-Za-z]+[A-Za-z0-9-_]+', ' ', temp)\n",
    "    temp = re.sub(r'https\\S+', '', temp)\n",
    "    temp = re.sub(r'http\\S+', '', temp)\n",
    "    temp = re.sub(\"[0-9]\", \" \", temp)\n",
    "    temp = re.sub(\"\\s\\s+\", \" \", temp)\n",
    "    return temp"
   ]
  },
  {
   "cell_type": "code",
   "execution_count": 2,
   "id": "82927815",
   "metadata": {},
   "outputs": [],
   "source": [
    "# Define constants\n",
    "EPOCHS = 5\n",
    "BATCH_SIZE = 16\n",
    "LEARNING_RATE = 1e-5\n",
    "SEED = 4222\n",
    "\n",
    "MODEL_SAVE_PATH = \"Model_4/electra\"\n",
    "MODEL_CHECKPOINT_PATH = \"Model_4/electra_checkpoint\"\n",
    "MODEL_LOGGING_PATH = \"Model_4/electra_checkpoint/logs\""
   ]
  },
  {
   "cell_type": "code",
   "execution_count": 3,
   "id": "c8330a83",
   "metadata": {},
   "outputs": [
    {
     "name": "stdout",
     "output_type": "stream",
     "text": [
      "1    6935\n",
      "0    2420\n",
      "Name: label, dtype: int64\n",
      "0    6935\n",
      "1    6935\n",
      "Name: label, dtype: int64\n",
      "['theo walcott is still shit\\\\u c watch rafa and johnny deal with him on saturday.', 'its not that i\\\\u m a gsp fan\\\\u c i just hate nick diaz. can\\\\u t wait for february.', 'iranian general says israel\\\\u s iron dome can\\\\u t deal with their missiles (keep talking like that and we may end up finding out)', 'with j davlar th. main rivals are team poland. hopefully we an make it a successful end to a tough week of training tomorrow.', 'talking about act\\\\u s && sat\\\\u s\\\\u c deciding where i want to go to college\\\\u c applying to colleges and everything about college stresses me out.', 'they may have a superbowl in dallas\\\\u c but dallas ain\\\\u t winning a superbowl. not with that quarterback and owner. ', ' i just watched it! sridevi\\\\u s comeback.... u remember her from the s?? sun mornings on nta ;)', 'one of my best th graders kory was excited after his touchdown today!! he did the victor cruz!!lol ', ' i didnt want to just pop up... but yep we have chapel hill next wednesday you should come.. and shes great ill tell her you asked', ' serge is amazing... like hes actually a god the lanky sex god... i saw kasabian and noel together in august. it was amazing.']\n"
     ]
    }
   ],
   "source": [
    "#oversampling since there are much less negative sentiment tweets than positive or neutral\n",
    "oversample = RandomOverSampler(sampling_strategy='minority', random_state = 17)\n",
    "\n",
    "full_training_data = pd.read_csv('full_training_data_noneutral.csv')\n",
    "X_training_data_imb2 = pd.read_csv('full_training_data_noneutral.csv', usecols = [2])\n",
    "Y_training_data_imb2 = pd.read_csv('full_training_data_noneutral.csv', usecols = [3])\n",
    "\n",
    "X_training_data_over, Y_training_data_over = oversample.fit_resample(X_training_data_imb2, Y_training_data_imb2)\n",
    "\n",
    "\n",
    "\n",
    "label_dict = {}\n",
    "possible_labels = full_training_data.sentiment.unique()\n",
    "\n",
    "for index, possible_label in enumerate(possible_labels):\n",
    "    label_dict[possible_label] = index\n",
    "\n",
    "\n",
    "print(Y_training_data_imb2['label'].value_counts())\n",
    "print(Y_training_data_over['label'].value_counts())\n",
    "\n",
    "X_training_data_over2 = X_training_data_over.tweet_text\n",
    "Y_training_data_over2 = Y_training_data_over.label\n",
    "\n",
    "#preprocessing the tweets\n",
    "\n",
    "X_training_data_over2 = [preprocessing(tweet) for tweet in X_training_data_over2]\n",
    "print(X_training_data_over2[:10])"
   ]
  },
  {
   "cell_type": "code",
   "execution_count": 9,
   "id": "4ad853cb",
   "metadata": {},
   "outputs": [],
   "source": [
    "# Remember to change between imb and over\n",
    "X_training_data_full = X_training_data_over2\n",
    "Y_training_data_full = Y_training_data_over2\n",
    "d = {'Polarity':Y_training_data_full,'text':X_training_data_full}\n",
    "df = pd.DataFrame(data=d)"
   ]
  },
  {
   "cell_type": "code",
   "execution_count": 10,
   "id": "f08d07ba",
   "metadata": {},
   "outputs": [],
   "source": [
    "test = pd.read_csv('full_test_data.csv')"
   ]
  },
  {
   "cell_type": "code",
   "execution_count": 11,
   "id": "9598d11f",
   "metadata": {},
   "outputs": [],
   "source": [
    "# Load ELECTRA tokenizer\n",
    "tokenizer = AutoTokenizer.from_pretrained(\"google/electra-small-discriminator\", do_lower_case = True)"
   ]
  },
  {
   "cell_type": "code",
   "execution_count": 12,
   "id": "dd3d4641",
   "metadata": {},
   "outputs": [
    {
     "name": "stderr",
     "output_type": "stream",
     "text": [
      "Some weights of the model checkpoint at google/electra-small-discriminator were not used when initializing ElectraForSequenceClassification: ['discriminator_predictions.dense.bias', 'discriminator_predictions.dense_prediction.weight', 'discriminator_predictions.dense_prediction.bias', 'discriminator_predictions.dense.weight']\n",
      "- This IS expected if you are initializing ElectraForSequenceClassification from the checkpoint of a model trained on another task or with another architecture (e.g. initializing a BertForSequenceClassification model from a BertForPreTraining model).\n",
      "- This IS NOT expected if you are initializing ElectraForSequenceClassification from the checkpoint of a model that you expect to be exactly identical (initializing a BertForSequenceClassification model from a BertForSequenceClassification model).\n",
      "Some weights of ElectraForSequenceClassification were not initialized from the model checkpoint at google/electra-small-discriminator and are newly initialized: ['classifier.out_proj.bias', 'classifier.dense.weight', 'classifier.dense.bias', 'classifier.out_proj.weight']\n",
      "You should probably TRAIN this model on a down-stream task to be able to use it for predictions and inference.\n"
     ]
    }
   ],
   "source": [
    "# Import ELECTRA-base pretrained model\n",
    "model = AutoModelForSequenceClassification.from_pretrained(\"google/electra-small-discriminator\", num_labels=2)"
   ]
  },
  {
   "cell_type": "code",
   "execution_count": 13,
   "id": "cd154253",
   "metadata": {},
   "outputs": [],
   "source": [
    "def dataset_conversion(train, test):\n",
    "  \"\"\"Converts pandas dataframe to Dataset.\"\"\"\n",
    "\n",
    "  train.reset_index(drop=True, inplace=True)\n",
    "  test.reset_index(drop=True, inplace=True)\n",
    "#   val.reset_index(drop=True, inplace=True)\n",
    "\n",
    "  train_dataset = Dataset.from_pandas(train)\n",
    "  test_dataset = Dataset.from_pandas(test)\n",
    "#   val_dataset = Dataset.from_pandas(val)\n",
    "\n",
    "  return DatasetDict({\"train\": train_dataset,\n",
    "                      \"test\": test_dataset})\n",
    "#                       \"val\": val_dataset})\n",
    "\n",
    "raw_datasets = dataset_conversion(df, test)"
   ]
  },
  {
   "cell_type": "code",
   "execution_count": 14,
   "id": "96037477",
   "metadata": {},
   "outputs": [
    {
     "data": {
      "application/vnd.jupyter.widget-view+json": {
       "model_id": "e4b51488b9ba476bb7c05e01d92bc89b",
       "version_major": 2,
       "version_minor": 0
      },
      "text/plain": [
       "  0%|          | 0/14 [00:00<?, ?ba/s]"
      ]
     },
     "metadata": {},
     "output_type": "display_data"
    },
    {
     "data": {
      "application/vnd.jupyter.widget-view+json": {
       "model_id": "743cca2537424567aba3fed5bd567e20",
       "version_major": 2,
       "version_minor": 0
      },
      "text/plain": [
       "  0%|          | 0/15 [00:00<?, ?ba/s]"
      ]
     },
     "metadata": {},
     "output_type": "display_data"
    }
   ],
   "source": [
    "def tokenize_function(dataset):\n",
    "    return tokenizer(dataset[\"text\"], padding=\"max_length\", truncation=True)\n",
    "\n",
    "tokenized_datasets = raw_datasets.map(tokenize_function, batched=True)"
   ]
  },
  {
   "cell_type": "code",
   "execution_count": 15,
   "id": "cb9554a2",
   "metadata": {},
   "outputs": [],
   "source": [
    "# Tokenise datasets\n",
    "SAMPLE_SIZE = 20\n",
    "small_train_dataset = tokenized_datasets[\"train\"].shuffle(seed=SEED).select(range(SAMPLE_SIZE))\n",
    "small_test_dataset = tokenized_datasets[\"test\"].shuffle(seed=SEED).select(range(SAMPLE_SIZE))\n",
    "# small_val_dataset = tokenized_datasets[\"val\"].shuffle(seed=SEED).select(range(SAMPLE_SIZE))\n",
    "\n",
    "full_train_dataset = tokenized_datasets[\"train\"]\n",
    "full_test_dataset = tokenized_datasets[\"test\"]\n",
    "# full_val_dataset = tokenized_datasets[\"val\"]"
   ]
  },
  {
   "cell_type": "code",
   "execution_count": 16,
   "id": "e3be4b05",
   "metadata": {},
   "outputs": [],
   "source": [
    "full_train_dataset = full_train_dataset.rename_column(\"Polarity\", \"label\")\n",
    "full_test_dataset = full_test_dataset.rename_column(\"Polarity\", \"label\")\n",
    "# full_val_dataset = full_val_dataset.rename_column(\"Polarity\", \"label\")"
   ]
  },
  {
   "cell_type": "code",
   "execution_count": 17,
   "id": "96b02211",
   "metadata": {},
   "outputs": [],
   "source": [
    "# Define custom metrics for computation\n",
    "def compute_metrics(eval_pred):\n",
    "    metric_acc = load_metric(\"accuracy\")\n",
    "    metric_rec = load_metric(\"recall\")\n",
    "    metric_pre = load_metric(\"precision\")\n",
    "    metric_f1 = load_metric(\"f1\")\n",
    "    \n",
    "    logits, labels = eval_pred\n",
    "    predictions = np.argmax(logits, axis=-1)\n",
    "    \n",
    "    accuracy = metric_acc.compute(predictions=predictions, references=labels)[\"accuracy\"]\n",
    "    recall = metric_rec.compute(predictions=predictions, references=labels)[\"recall\"]\n",
    "    precision = metric_pre.compute(predictions=predictions, references=labels)[\"precision\"]\n",
    "    f1 = metric_f1.compute(predictions=predictions, references=labels)[\"f1\"]\n",
    "\n",
    "    return {\"accuracy\": accuracy, \"recall\": recall, \"precision\": precision, \"f1\": f1}"
   ]
  },
  {
   "cell_type": "code",
   "execution_count": 18,
   "id": "049eb6b2",
   "metadata": {},
   "outputs": [
    {
     "name": "stderr",
     "output_type": "stream",
     "text": [
      "Using the `WAND_DISABLED` environment variable is deprecated and will be removed in v5. Use the --report_to flag to control the integrations used for logging result (for instance --report_to none).\n"
     ]
    }
   ],
   "source": [
    "# Define model and training parameters\n",
    "training_args = TrainingArguments(\n",
    "    output_dir=MODEL_CHECKPOINT_PATH,\n",
    "    overwrite_output_dir = True,\n",
    "#     report_to = 'wandb',\n",
    "    learning_rate=LEARNING_RATE,\n",
    "    num_train_epochs=EPOCHS,\n",
    "    per_device_train_batch_size=BATCH_SIZE,\n",
    "    per_device_eval_batch_size=BATCH_SIZE,\n",
    "    seed=SEED,\n",
    "    # evaluation_strategy=\"epoch\",\n",
    "    logging_dir=MODEL_LOGGING_PATH,\n",
    "    save_strategy=\"steps\",\n",
    "    save_steps=433\n",
    ")\n",
    "\n",
    "trainer = Trainer(\n",
    "    model=model,\n",
    "    args=training_args,\n",
    "    train_dataset=full_train_dataset,\n",
    "    eval_dataset=full_test_dataset,\n",
    "    tokenizer=tokenizer,\n",
    "    compute_metrics=compute_metrics\n",
    ")"
   ]
  },
  {
   "cell_type": "code",
   "execution_count": 19,
   "id": "cbddc535",
   "metadata": {},
   "outputs": [
    {
     "name": "stderr",
     "output_type": "stream",
     "text": [
      "The following columns in the training set  don't have a corresponding argument in `ElectraForSequenceClassification.forward` and have been ignored: text. If text are not expected by `ElectraForSequenceClassification.forward`,  you can safely ignore this message.\n",
      "/usr4/cs505/orawal/.local/lib/python3.8/site-packages/transformers/optimization.py:306: FutureWarning: This implementation of AdamW is deprecated and will be removed in a future version. Use the PyTorch implementation torch.optim.AdamW instead, or set `no_deprecation_warning=True` to disable this warning\n",
      "  warnings.warn(\n",
      "***** Running training *****\n",
      "  Num examples = 13870\n",
      "  Num Epochs = 5\n",
      "  Instantaneous batch size per device = 16\n",
      "  Total train batch size (w. parallel, distributed & accumulation) = 16\n",
      "  Gradient Accumulation steps = 1\n",
      "  Total optimization steps = 4335\n"
     ]
    },
    {
     "data": {
      "text/html": [
       "\n",
       "    <div>\n",
       "      \n",
       "      <progress value='4335' max='4335' style='width:300px; height:20px; vertical-align: middle;'></progress>\n",
       "      [4335/4335 08:56, Epoch 5/5]\n",
       "    </div>\n",
       "    <table border=\"1\" class=\"dataframe\">\n",
       "  <thead>\n",
       " <tr style=\"text-align: left;\">\n",
       "      <th>Step</th>\n",
       "      <th>Training Loss</th>\n",
       "    </tr>\n",
       "  </thead>\n",
       "  <tbody>\n",
       "    <tr>\n",
       "      <td>500</td>\n",
       "      <td>0.559600</td>\n",
       "    </tr>\n",
       "    <tr>\n",
       "      <td>1000</td>\n",
       "      <td>0.361400</td>\n",
       "    </tr>\n",
       "    <tr>\n",
       "      <td>1500</td>\n",
       "      <td>0.300900</td>\n",
       "    </tr>\n",
       "    <tr>\n",
       "      <td>2000</td>\n",
       "      <td>0.266200</td>\n",
       "    </tr>\n",
       "    <tr>\n",
       "      <td>2500</td>\n",
       "      <td>0.245300</td>\n",
       "    </tr>\n",
       "    <tr>\n",
       "      <td>3000</td>\n",
       "      <td>0.222200</td>\n",
       "    </tr>\n",
       "    <tr>\n",
       "      <td>3500</td>\n",
       "      <td>0.210700</td>\n",
       "    </tr>\n",
       "    <tr>\n",
       "      <td>4000</td>\n",
       "      <td>0.201200</td>\n",
       "    </tr>\n",
       "  </tbody>\n",
       "</table><p>"
      ],
      "text/plain": [
       "<IPython.core.display.HTML object>"
      ]
     },
     "metadata": {},
     "output_type": "display_data"
    },
    {
     "name": "stderr",
     "output_type": "stream",
     "text": [
      "Saving model checkpoint to Model_4/electra_checkpoint/checkpoint-433\n",
      "Configuration saved in Model_4/electra_checkpoint/checkpoint-433/config.json\n",
      "Model weights saved in Model_4/electra_checkpoint/checkpoint-433/pytorch_model.bin\n",
      "tokenizer config file saved in Model_4/electra_checkpoint/checkpoint-433/tokenizer_config.json\n",
      "Special tokens file saved in Model_4/electra_checkpoint/checkpoint-433/special_tokens_map.json\n",
      "Saving model checkpoint to Model_4/electra_checkpoint/checkpoint-866\n",
      "Configuration saved in Model_4/electra_checkpoint/checkpoint-866/config.json\n",
      "Model weights saved in Model_4/electra_checkpoint/checkpoint-866/pytorch_model.bin\n",
      "tokenizer config file saved in Model_4/electra_checkpoint/checkpoint-866/tokenizer_config.json\n",
      "Special tokens file saved in Model_4/electra_checkpoint/checkpoint-866/special_tokens_map.json\n",
      "Saving model checkpoint to Model_4/electra_checkpoint/checkpoint-1299\n",
      "Configuration saved in Model_4/electra_checkpoint/checkpoint-1299/config.json\n",
      "Model weights saved in Model_4/electra_checkpoint/checkpoint-1299/pytorch_model.bin\n",
      "tokenizer config file saved in Model_4/electra_checkpoint/checkpoint-1299/tokenizer_config.json\n",
      "Special tokens file saved in Model_4/electra_checkpoint/checkpoint-1299/special_tokens_map.json\n",
      "Saving model checkpoint to Model_4/electra_checkpoint/checkpoint-1732\n",
      "Configuration saved in Model_4/electra_checkpoint/checkpoint-1732/config.json\n",
      "Model weights saved in Model_4/electra_checkpoint/checkpoint-1732/pytorch_model.bin\n",
      "tokenizer config file saved in Model_4/electra_checkpoint/checkpoint-1732/tokenizer_config.json\n",
      "Special tokens file saved in Model_4/electra_checkpoint/checkpoint-1732/special_tokens_map.json\n",
      "Saving model checkpoint to Model_4/electra_checkpoint/checkpoint-2165\n",
      "Configuration saved in Model_4/electra_checkpoint/checkpoint-2165/config.json\n",
      "Model weights saved in Model_4/electra_checkpoint/checkpoint-2165/pytorch_model.bin\n",
      "tokenizer config file saved in Model_4/electra_checkpoint/checkpoint-2165/tokenizer_config.json\n",
      "Special tokens file saved in Model_4/electra_checkpoint/checkpoint-2165/special_tokens_map.json\n",
      "Saving model checkpoint to Model_4/electra_checkpoint/checkpoint-2598\n",
      "Configuration saved in Model_4/electra_checkpoint/checkpoint-2598/config.json\n",
      "Model weights saved in Model_4/electra_checkpoint/checkpoint-2598/pytorch_model.bin\n",
      "tokenizer config file saved in Model_4/electra_checkpoint/checkpoint-2598/tokenizer_config.json\n",
      "Special tokens file saved in Model_4/electra_checkpoint/checkpoint-2598/special_tokens_map.json\n",
      "Saving model checkpoint to Model_4/electra_checkpoint/checkpoint-3031\n",
      "Configuration saved in Model_4/electra_checkpoint/checkpoint-3031/config.json\n",
      "Model weights saved in Model_4/electra_checkpoint/checkpoint-3031/pytorch_model.bin\n",
      "tokenizer config file saved in Model_4/electra_checkpoint/checkpoint-3031/tokenizer_config.json\n",
      "Special tokens file saved in Model_4/electra_checkpoint/checkpoint-3031/special_tokens_map.json\n",
      "Saving model checkpoint to Model_4/electra_checkpoint/checkpoint-3464\n",
      "Configuration saved in Model_4/electra_checkpoint/checkpoint-3464/config.json\n",
      "Model weights saved in Model_4/electra_checkpoint/checkpoint-3464/pytorch_model.bin\n",
      "tokenizer config file saved in Model_4/electra_checkpoint/checkpoint-3464/tokenizer_config.json\n",
      "Special tokens file saved in Model_4/electra_checkpoint/checkpoint-3464/special_tokens_map.json\n",
      "Saving model checkpoint to Model_4/electra_checkpoint/checkpoint-3897\n",
      "Configuration saved in Model_4/electra_checkpoint/checkpoint-3897/config.json\n",
      "Model weights saved in Model_4/electra_checkpoint/checkpoint-3897/pytorch_model.bin\n",
      "tokenizer config file saved in Model_4/electra_checkpoint/checkpoint-3897/tokenizer_config.json\n",
      "Special tokens file saved in Model_4/electra_checkpoint/checkpoint-3897/special_tokens_map.json\n",
      "Saving model checkpoint to Model_4/electra_checkpoint/checkpoint-4330\n",
      "Configuration saved in Model_4/electra_checkpoint/checkpoint-4330/config.json\n",
      "Model weights saved in Model_4/electra_checkpoint/checkpoint-4330/pytorch_model.bin\n",
      "tokenizer config file saved in Model_4/electra_checkpoint/checkpoint-4330/tokenizer_config.json\n",
      "Special tokens file saved in Model_4/electra_checkpoint/checkpoint-4330/special_tokens_map.json\n",
      "\n",
      "\n",
      "Training completed. Do not forget to share your model on huggingface.co/models =)\n",
      "\n",
      "\n"
     ]
    },
    {
     "data": {
      "text/plain": [
       "TrainOutput(global_step=4335, training_loss=0.28869559212126944, metrics={'train_runtime': 536.3962, 'train_samples_per_second': 129.289, 'train_steps_per_second': 8.082, 'total_flos': 2040252091699200.0, 'train_loss': 0.28869559212126944, 'epoch': 5.0})"
      ]
     },
     "execution_count": 19,
     "metadata": {},
     "output_type": "execute_result"
    }
   ],
   "source": [
    "trainer.train()"
   ]
  },
  {
   "cell_type": "code",
   "execution_count": 20,
   "id": "4300b72e",
   "metadata": {},
   "outputs": [
    {
     "data": {
      "text/plain": [
       "[{'loss': 0.5596,\n",
       "  'learning_rate': 8.846597462514419e-06,\n",
       "  'epoch': 0.58,\n",
       "  'step': 500},\n",
       " {'loss': 0.3614,\n",
       "  'learning_rate': 7.693194925028837e-06,\n",
       "  'epoch': 1.15,\n",
       "  'step': 1000},\n",
       " {'loss': 0.3009,\n",
       "  'learning_rate': 6.539792387543253e-06,\n",
       "  'epoch': 1.73,\n",
       "  'step': 1500},\n",
       " {'loss': 0.2662,\n",
       "  'learning_rate': 5.38638985005767e-06,\n",
       "  'epoch': 2.31,\n",
       "  'step': 2000},\n",
       " {'loss': 0.2453,\n",
       "  'learning_rate': 4.232987312572088e-06,\n",
       "  'epoch': 2.88,\n",
       "  'step': 2500},\n",
       " {'loss': 0.2222,\n",
       "  'learning_rate': 3.0795847750865054e-06,\n",
       "  'epoch': 3.46,\n",
       "  'step': 3000},\n",
       " {'loss': 0.2107,\n",
       "  'learning_rate': 1.926182237600923e-06,\n",
       "  'epoch': 4.04,\n",
       "  'step': 3500},\n",
       " {'loss': 0.2012,\n",
       "  'learning_rate': 7.727797001153404e-07,\n",
       "  'epoch': 4.61,\n",
       "  'step': 4000},\n",
       " {'train_runtime': 536.3962,\n",
       "  'train_samples_per_second': 129.289,\n",
       "  'train_steps_per_second': 8.082,\n",
       "  'total_flos': 2040252091699200.0,\n",
       "  'train_loss': 0.28869559212126944,\n",
       "  'epoch': 5.0,\n",
       "  'step': 4335}]"
      ]
     },
     "execution_count": 20,
     "metadata": {},
     "output_type": "execute_result"
    }
   ],
   "source": [
    "trainer.state.log_history"
   ]
  },
  {
   "cell_type": "code",
   "execution_count": 21,
   "id": "b50355db",
   "metadata": {},
   "outputs": [
    {
     "name": "stderr",
     "output_type": "stream",
     "text": [
      "The following columns in the test set  don't have a corresponding argument in `ElectraForSequenceClassification.forward` and have been ignored: Unnamed: 0, text. If Unnamed: 0, text are not expected by `ElectraForSequenceClassification.forward`,  you can safely ignore this message.\n",
      "***** Running Prediction *****\n",
      "  Num examples = 14908\n",
      "  Batch size = 16\n"
     ]
    },
    {
     "data": {
      "text/html": [
       "\n",
       "    <div>\n",
       "      \n",
       "      <progress value='932' max='932' style='width:300px; height:20px; vertical-align: middle;'></progress>\n",
       "      [932/932 00:38]\n",
       "    </div>\n",
       "    "
      ],
      "text/plain": [
       "<IPython.core.display.HTML object>"
      ]
     },
     "metadata": {},
     "output_type": "display_data"
    }
   ],
   "source": [
    "predictions = trainer.predict(full_test_dataset)"
   ]
  },
  {
   "cell_type": "code",
   "execution_count": 22,
   "id": "f7f64dd7",
   "metadata": {},
   "outputs": [
    {
     "name": "stdout",
     "output_type": "stream",
     "text": [
      "PredictionOutput(predictions=array([[-1.6495962,  1.7638965],\n",
      "       [-1.6618115,  1.7538954],\n",
      "       [-2.0869374,  2.2262235],\n",
      "       ...,\n",
      "       [-2.0822341,  2.2274313],\n",
      "       [-2.0460558,  2.166389 ],\n",
      "       [ 1.4849364, -1.8358902]], dtype=float32), label_ids=array([1, 0, 1, ..., 1, 1, 0]), metrics={'test_loss': 0.3293605148792267, 'test_accuracy': 0.8946874161524014, 'test_recall': 0.8956595905989386, 'test_precision': 0.9527217741935484, 'test_f1': 0.9233098866744822, 'test_runtime': 39.8585, 'test_samples_per_second': 374.023, 'test_steps_per_second': 23.383})\n"
     ]
    }
   ],
   "source": [
    "print(predictions)"
   ]
  },
  {
   "cell_type": "code",
   "execution_count": 23,
   "id": "48e39fca",
   "metadata": {},
   "outputs": [],
   "source": [
    "logits = predictions.predictions\n",
    "predicted_val = np.argmax(logits, axis=-1)\n",
    "true_vals = predictions.label_ids"
   ]
  },
  {
   "cell_type": "code",
   "execution_count": 24,
   "id": "09a0848a",
   "metadata": {},
   "outputs": [
    {
     "name": "stdout",
     "output_type": "stream",
     "text": [
      "Confusion matrix is: \n",
      "\n",
      "[[3887  469]\n",
      " [1101 9451]]\n"
     ]
    }
   ],
   "source": [
    "cf_matrix = confusion_matrix(true_vals,predicted_val)\n",
    "print(\"Confusion matrix is: \\n\")\n",
    "print(cf_matrix)"
   ]
  },
  {
   "cell_type": "code",
   "execution_count": 25,
   "id": "ff59a9a9",
   "metadata": {},
   "outputs": [
    {
     "data": {
      "image/png": "[encoded data removed]",
      "text/plain": [
       "<Figure size 1080x540 with 2 Axes>"
      ]
     },
     "metadata": {
      "needs_background": "light"
     },
     "output_type": "display_data"
    }
   ],
   "source": [
    "import seaborn as sns\n",
    "plt.figure(figsize=(15, 7.5))\n",
    "\n",
    "cf_matrix = cf_matrix.astype('float') / cf_matrix.sum(axis=1)[:, np.newaxis]\n",
    "\n",
    "ax = sns.heatmap(cf_matrix, annot=True, cmap='Blues')\n",
    "\n",
    "ax.set_title('Seaborn Confusion Matrix with labels\\n\\n');\n",
    "ax.set_xlabel('\\nPredicted Values')\n",
    "ax.set_ylabel('Actual Values ');\n",
    "\n",
    "## Ticket labels - List must be in alphabetical order\n",
    "ax.xaxis.set_ticklabels(['False','True'])\n",
    "ax.yaxis.set_ticklabels(['False','True'])\n",
    "\n",
    "plt.savefig('NoisyConfusionPlot.png')\n",
    "## Display the visualization of the Confusion Matrix.\n",
    "plt.show()"
   ]
  },
  {
   "cell_type": "code",
   "execution_count": 26,
   "id": "ee287db3",
   "metadata": {},
   "outputs": [
    {
     "name": "stdout",
     "output_type": "stream",
     "text": [
      "Weighted F1 score is : \n",
      " \n",
      "0.8966233537990147\n"
     ]
    }
   ],
   "source": [
    "print(\"Weighted F1 score is : \\n \")\n",
    "print(f1_score(true_vals,predicted_val,average='weighted'))"
   ]
  },
  {
   "cell_type": "code",
   "execution_count": 27,
   "id": "9a249df2",
   "metadata": {},
   "outputs": [],
   "source": [
    "def accuracy_per_class(preds, labels):\n",
    "    label_dict = {'Negative' : 0 , 'Positive' : 1}\n",
    "    label_dict_inverse = {v: k for k, v in label_dict.items()}\n",
    "    \n",
    "    #make prediction\n",
    "    preds_flat = preds.flatten()\n",
    "    labels_flat = labels.flatten()\n",
    "    \n",
    "    for label in np.unique(labels_flat):\n",
    "        y_preds = preds_flat[labels_flat==label]\n",
    "        y_true = labels_flat[labels_flat==label]\n",
    "        print(f'Class: {label_dict_inverse[label]}')\n",
    "        print(f'Accuracy:{len(y_preds[y_preds==label])}/{len(y_true)}\\n')\n",
    "    \n",
    "    print(f'Total accuracy is : {accuracy_score(labels_flat,preds_flat)}\\n')\n",
    "    \n",
    "    return accuracy_score(labels_flat,preds_flat)"
   ]
  },
  {
   "cell_type": "code",
   "execution_count": 28,
   "id": "acfdf95f",
   "metadata": {},
   "outputs": [
    {
     "name": "stdout",
     "output_type": "stream",
     "text": [
      "Class: Negative\n",
      "Accuracy:3887/4356\n",
      "\n",
      "Class: Positive\n",
      "Accuracy:9451/10552\n",
      "\n",
      "Total accuracy is : 0.8946874161524014\n",
      "\n"
     ]
    },
    {
     "data": {
      "text/plain": [
       "0.8946874161524014"
      ]
     },
     "execution_count": 28,
     "metadata": {},
     "output_type": "execute_result"
    }
   ],
   "source": [
    "accuracy_per_class(predicted_val, true_vals)"
   ]
  },
  {
   "cell_type": "markdown",
   "id": "4ac7c5ff",
   "metadata": {},
   "source": [
    "# Final accuracy is 0.894 and weighted F1 score is 0.896"
   ]
  }
 ],
 "metadata": {
  "kernelspec": {
   "display_name": "Python 3",
   "language": "python",
   "name": "python3"
  },
  "language_info": {
   "codemirror_mode": {
    "name": "ipython",
    "version": 3
   },
   "file_extension": ".py",
   "mimetype": "text/x-python",
   "name": "python",
   "nbconvert_exporter": "python",
   "pygments_lexer": "ipython3",
   "version": "3.8.10"
  }
 },
 "nbformat": 4,
 "nbformat_minor": 5
}
