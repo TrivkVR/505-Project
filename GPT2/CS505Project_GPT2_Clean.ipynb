{
 "cells": [
  {
   "cell_type": "code",
   "execution_count": 90,
   "id": "add1022b",
   "metadata": {},
   "outputs": [],
   "source": [
    "import numpy as np\n",
    "import pandas as pd\n",
    "import seaborn as sns\n",
    "import torch\n",
    "from transformers import pipeline, GPT2TokenizerFast, GPT2ForSequenceClassification\n",
    "import matplotlib.pyplot as plt\n",
    "from torch.utils.data import TensorDataset\n",
    "from torch.utils.data import DataLoader, RandomSampler, SequentialSampler\n",
    "from transformers import AdamW, get_linear_schedule_with_warmup\n",
    "from tqdm import tqdm\n",
    "import imblearn\n",
    "from imblearn.over_sampling import RandomOverSampler\n",
    "from sklearn.metrics import f1_score\n",
    "import re"
   ]
  },
  {
   "cell_type": "code",
   "execution_count": 105,
   "id": "ffbb7fac",
   "metadata": {},
   "outputs": [
    {
     "data": {
      "text/plain": [
       "'/projectnb2/cs505/students/pkath/Project'"
      ]
     },
     "execution_count": 105,
     "metadata": {},
     "output_type": "execute_result"
    }
   ],
   "source": [
    "import os\n",
    "\n",
    "os.getcwd()"
   ]
  },
  {
   "cell_type": "code",
   "execution_count": 91,
   "id": "6f193ee9",
   "metadata": {},
   "outputs": [],
   "source": [
    "#read the train and test data\n",
    "prefix = './2017_English_final/GOLD/Subtask_A/'\n",
    "train2013 = pd.read_csv(prefix + 'twitter-2013train-A.txt', header=0, sep = '\\t', usecols = [1,2], names = ['sentiment', 'tweet_text'])\n",
    "train2014 = pd.read_csv(prefix + 'twitter-2014sarcasm-A.txt', header=0, sep = '\\t', usecols = [1,2], names = ['sentiment', 'tweet_text'])\n",
    "train2015 = pd.read_csv(prefix + 'twitter-2015train-A.txt', header=0, sep = '\\t', usecols = [1,2], names = ['sentiment', 'tweet_text'])\n",
    "train2016 = pd.read_csv(prefix + 'twitter-2016train-A.txt', header=0, sep = '\\t', usecols = [1,2], names = ['sentiment', 'tweet_text'])\n",
    "\n",
    "test2013 = pd.read_csv(prefix + 'twitter-2013test-A.txt', header=0, sep = '\\t', usecols = [1,2],  names = ['sentiment', 'tweet_text'])\n",
    "test2014 = pd.read_csv(prefix + 'twitter-2014test-A.txt', header=0, sep = '\\t', usecols = [1,2], names = ['sentiment', 'tweet_text'])\n",
    "test2015 = pd.read_csv(prefix + 'twitter-2015test-A.txt', header=0, sep = '\\t', usecols = [1,2], names = ['sentiment', 'tweet_text'])\n",
    "test2016 = pd.read_csv(prefix + 'twitter-2016test-A.txt', header=0, sep = '\\t', usecols = [1,2], names = ['sentiment', 'tweet_text'])\n",
    "\n",
    "traindf = pd.concat([train2013, train2014, train2015, train2016], ignore_index=True)\n",
    "testdf = pd.concat([test2013, test2014, test2015, test2016], ignore_index=True)"
   ]
  },
  {
   "cell_type": "code",
   "execution_count": 92,
   "id": "58a9383c",
   "metadata": {},
   "outputs": [
    {
     "name": "stderr",
     "output_type": "stream",
     "text": [
      "/share/pkg.7/python3/3.8.10/install/lib/python3.8/site-packages/seaborn/_decorators.py:36: FutureWarning: Pass the following variable as a keyword arg: x. From version 0.12, the only valid positional argument will be `data`, and passing other arguments without an explicit keyword will result in an error or misinterpretation.\n",
      "  warnings.warn(\n"
     ]
    },
    {
     "data": {
      "text/plain": [
       "Text(0.5, 0, 'Sentiment')"
      ]
     },
     "execution_count": 92,
     "metadata": {},
     "output_type": "execute_result"
    },
    {
     "data": {
      "image/png": "[encoded data removed]",
      "text/plain": [
       "<Figure size 432x288 with 1 Axes>"
      ]
     },
     "metadata": {
      "needs_background": "light"
     },
     "output_type": "display_data"
    }
   ],
   "source": [
    "sns.countplot(traindf.sentiment)\n",
    "\n",
    "plt.xlabel('Sentiment')"
   ]
  },
  {
   "cell_type": "code",
   "execution_count": 93,
   "id": "e0b67c84",
   "metadata": {},
   "outputs": [
    {
     "name": "stdout",
     "output_type": "stream",
     "text": [
      "9355 14908\n"
     ]
    }
   ],
   "source": [
    "def preprocessing(tweet):\n",
    "    temp = tweet.lower()\n",
    "    temp = re.sub('@[A-Za-z]+[A-Za-z0-9-_]+', ' ', temp)\n",
    "    temp = re.sub(r'https\\S+', '', temp)\n",
    "    temp = re.sub(r'http\\S+', '', temp)\n",
    "    temp = re.sub(\"[0-9]\", \" \", temp)\n",
    "    temp = re.sub(\"\\s\\s+\", \" \", temp)\n",
    "    return temp\n",
    "\n",
    "### Dropping neutral tweets####\n",
    "traindf = traindf.drop(traindf[traindf.sentiment == 'neutral'].index)\n",
    "testdf = testdf.drop(testdf[testdf.sentiment == 'neutral'].index)\n",
    "\n",
    "print(len(traindf), len(testdf))"
   ]
  },
  {
   "cell_type": "code",
   "execution_count": 94,
   "id": "c2bb7cdb",
   "metadata": {},
   "outputs": [],
   "source": [
    "possible_labels = traindf.sentiment.unique()\n",
    "label_dict = {}\n",
    "for index, possible_label in enumerate(possible_labels):\n",
    "    label_dict[possible_label] = index\n",
    "\n",
    "traindf['label'] = traindf.sentiment.replace(label_dict)\n",
    "testdf['label'] = testdf.sentiment.replace(label_dict)\n",
    "\n",
    "\n",
    "traindf.to_csv(\"full_training_data_noneutral.csv\",index=True)\n",
    "testdf.to_csv(\"full_testing_data_noneutral.csv\",index=True)"
   ]
  },
  {
   "cell_type": "code",
   "execution_count": 95,
   "id": "051cdc54",
   "metadata": {},
   "outputs": [
    {
     "data": {
      "text/plain": [
       "{'negative': 0, 'positive': 1}"
      ]
     },
     "execution_count": 95,
     "metadata": {},
     "output_type": "execute_result"
    }
   ],
   "source": [
    "label_dict"
   ]
  },
  {
   "cell_type": "code",
   "execution_count": 96,
   "id": "48caf484",
   "metadata": {},
   "outputs": [
    {
     "data": {
      "text/html": [
       "<div>\n",
       "<style scoped>\n",
       "    .dataframe tbody tr th:only-of-type {\n",
       "        vertical-align: middle;\n",
       "    }\n",
       "\n",
       "    .dataframe tbody tr th {\n",
       "        vertical-align: top;\n",
       "    }\n",
       "\n",
       "    .dataframe thead th {\n",
       "        text-align: right;\n",
       "    }\n",
       "</style>\n",
       "<table border=\"1\" class=\"dataframe\">\n",
       "  <thead>\n",
       "    <tr style=\"text-align: right;\">\n",
       "      <th></th>\n",
       "      <th>Unnamed: 0</th>\n",
       "      <th>sentiment</th>\n",
       "      <th>tweet_text</th>\n",
       "      <th>label</th>\n",
       "    </tr>\n",
       "  </thead>\n",
       "  <tbody>\n",
       "    <tr>\n",
       "      <th>0</th>\n",
       "      <td>0</td>\n",
       "      <td>negative</td>\n",
       "      <td>Theo Walcott is still shit\\u002c watch Rafa an...</td>\n",
       "      <td>0</td>\n",
       "    </tr>\n",
       "    <tr>\n",
       "      <th>1</th>\n",
       "      <td>1</td>\n",
       "      <td>negative</td>\n",
       "      <td>its not that I\\u2019m a GSP fan\\u002c i just h...</td>\n",
       "      <td>0</td>\n",
       "    </tr>\n",
       "    <tr>\n",
       "      <th>2</th>\n",
       "      <td>2</td>\n",
       "      <td>negative</td>\n",
       "      <td>Iranian general says Israel\\u2019s Iron Dome c...</td>\n",
       "      <td>0</td>\n",
       "    </tr>\n",
       "    <tr>\n",
       "      <th>3</th>\n",
       "      <td>5</td>\n",
       "      <td>positive</td>\n",
       "      <td>with J Davlar 11th. Main rivals are team Polan...</td>\n",
       "      <td>1</td>\n",
       "    </tr>\n",
       "    <tr>\n",
       "      <th>4</th>\n",
       "      <td>6</td>\n",
       "      <td>negative</td>\n",
       "      <td>Talking about ACT\\u2019s &amp;&amp; SAT\\u2019s\\u002c d...</td>\n",
       "      <td>0</td>\n",
       "    </tr>\n",
       "  </tbody>\n",
       "</table>\n",
       "</div>"
      ],
      "text/plain": [
       "   Unnamed: 0 sentiment                                         tweet_text  \\\n",
       "0           0  negative  Theo Walcott is still shit\\u002c watch Rafa an...   \n",
       "1           1  negative  its not that I\\u2019m a GSP fan\\u002c i just h...   \n",
       "2           2  negative  Iranian general says Israel\\u2019s Iron Dome c...   \n",
       "3           5  positive  with J Davlar 11th. Main rivals are team Polan...   \n",
       "4           6  negative  Talking about ACT\\u2019s && SAT\\u2019s\\u002c d...   \n",
       "\n",
       "   label  \n",
       "0      0  \n",
       "1      0  \n",
       "2      0  \n",
       "3      1  \n",
       "4      0  "
      ]
     },
     "execution_count": 96,
     "metadata": {},
     "output_type": "execute_result"
    }
   ],
   "source": [
    "#without oversampling\n",
    "full_training_data = pd.read_csv('full_training_data_noneutral.csv')\n",
    "\n",
    "\n",
    "X_training_data_imb = full_training_data.tweet_text\n",
    "Y_training_data_imb = full_training_data.label\n",
    "full_training_data.head()"
   ]
  },
  {
   "cell_type": "code",
   "execution_count": 97,
   "id": "c3adee42",
   "metadata": {},
   "outputs": [
    {
     "data": {
      "text/plain": [
       "positive    6935\n",
       "negative    2420\n",
       "Name: sentiment, dtype: int64"
      ]
     },
     "execution_count": 97,
     "metadata": {},
     "output_type": "execute_result"
    }
   ],
   "source": [
    "full_training_data['sentiment'].value_counts()"
   ]
  },
  {
   "cell_type": "code",
   "execution_count": 98,
   "id": "777466fa",
   "metadata": {},
   "outputs": [
    {
     "name": "stdout",
     "output_type": "stream",
     "text": [
      "1    6935\n",
      "0    2420\n",
      "Name: label, dtype: int64\n",
      "0    6935\n",
      "1    6935\n",
      "Name: label, dtype: int64\n",
      "['theo walcott is still shit\\\\u c watch rafa and johnny deal with him on saturday.', 'its not that i\\\\u m a gsp fan\\\\u c i just hate nick diaz. can\\\\u t wait for february.', 'iranian general says israel\\\\u s iron dome can\\\\u t deal with their missiles (keep talking like that and we may end up finding out)', 'with j davlar th. main rivals are team poland. hopefully we an make it a successful end to a tough week of training tomorrow.', 'talking about act\\\\u s && sat\\\\u s\\\\u c deciding where i want to go to college\\\\u c applying to colleges and everything about college stresses me out.', 'they may have a superbowl in dallas\\\\u c but dallas ain\\\\u t winning a superbowl. not with that quarterback and owner. ', ' i just watched it! sridevi\\\\u s comeback.... u remember her from the s?? sun mornings on nta ;)', 'one of my best th graders kory was excited after his touchdown today!! he did the victor cruz!!lol ', ' i didnt want to just pop up... but yep we have chapel hill next wednesday you should come.. and shes great ill tell her you asked', ' serge is amazing... like hes actually a god the lanky sex god... i saw kasabian and noel together in august. it was amazing.']\n"
     ]
    }
   ],
   "source": [
    "#oversampling since there are much less negative sentiment tweets than positive or neutral\n",
    "oversample = RandomOverSampler(sampling_strategy='minority', random_state = 17)\n",
    "\n",
    "X_training_data_imb2 = pd.read_csv('full_training_data_noneutral.csv', usecols = [2])\n",
    "Y_training_data_imb2 = pd.read_csv('full_training_data_noneutral.csv', usecols = [3])\n",
    "\n",
    "X_training_data_over, Y_training_data_over = oversample.fit_resample(X_training_data_imb2, Y_training_data_imb2)\n",
    "\n",
    "\n",
    "print(Y_training_data_imb2['label'].value_counts())\n",
    "print(Y_training_data_over['label'].value_counts())\n",
    "\n",
    "X_training_data_over2 = X_training_data_over.tweet_text\n",
    "Y_training_data_over2 = Y_training_data_over.label\n",
    "\n",
    "#preprocessing the tweets\n",
    "\n",
    "X_training_data_over2 = [preprocessing(tweet) for tweet in X_training_data_over2]\n",
    "print(X_training_data_over2[:10])"
   ]
  },
  {
   "cell_type": "code",
   "execution_count": 99,
   "id": "3f997594",
   "metadata": {},
   "outputs": [],
   "source": [
    "# Remember to change between imb and over\n",
    "X_training_data_full = X_training_data_over2\n",
    "Y_training_data_full = Y_training_data_over2"
   ]
  },
  {
   "cell_type": "code",
   "execution_count": 100,
   "id": "c4cab796",
   "metadata": {},
   "outputs": [],
   "source": [
    "tokenizer = GPT2TokenizerFast.from_pretrained(\"gpt2\",do_lower_case = True)\n",
    "tokenizer.pad_token = tokenizer.eos_token"
   ]
  },
  {
   "cell_type": "code",
   "execution_count": 101,
   "id": "347a4022",
   "metadata": {},
   "outputs": [
    {
     "name": "stderr",
     "output_type": "stream",
     "text": [
      "/usr4/cs505/pkath/.local/lib/python3.8/site-packages/transformers/tokenization_utils_base.py:2263: FutureWarning: The `pad_to_max_length` argument is deprecated and will be removed in a future version, use `padding=True` or `padding='longest'` to pad to the longest sequence in the batch, or use `padding='max_length'` to pad to a max length. In this case, you can give a specific length with `max_length` (e.g. `max_length=45`) or leave max_length to None to pad to the maximal input size of the model (e.g. 512 for Bert).\n",
      "  warnings.warn(\n"
     ]
    }
   ],
   "source": [
    "#encode train\n",
    "encoded_data_train = tokenizer.batch_encode_plus(X_training_data_full,\n",
    "                                                add_special_tokens = True,\n",
    "                                                return_attention_mask = True,\n",
    "                                                pad_to_max_length = True,\n",
    "                                                return_tensors = 'pt')\n",
    "\n",
    "input_ids_train = encoded_data_train['input_ids']\n",
    "attention_masks_train = encoded_data_train['attention_mask']\n",
    "labels_train = torch.tensor(Y_training_data_full)"
   ]
  },
  {
   "cell_type": "code",
   "execution_count": null,
   "id": "e179505b",
   "metadata": {},
   "outputs": [],
   "source": [
    "from transformers import GPT2Config\n",
    "\n",
    "# creating the configurations from which the model can be made\n",
    "config = GPT2Config(\n",
    "  vocab_size=tokenizer.vocab_size,\n",
    "  bos_token_id=tokenizer.bos_token_id,\n",
    "  eos_token_id=tokenizer.eos_token_id\n",
    ")\n",
    "# creating the model\n",
    "model = TFGPT2LMHeadModel(config)"
   ]
  },
  {
   "cell_type": "code",
   "execution_count": 72,
   "id": "77466778",
   "metadata": {},
   "outputs": [
    {
     "name": "stderr",
     "output_type": "stream",
     "text": [
      "Some weights of GPT2ForSequenceClassification were not initialized from the model checkpoint at gpt2 and are newly initialized: ['score.weight']\n",
      "You should probably TRAIN this model on a down-stream task to be able to use it for predictions and inference.\n"
     ]
    }
   ],
   "source": [
    "model = GPT2ForSequenceClassification.from_pretrained('gpt2',\n",
    "                                                      num_labels = len(label_dict),\n",
    "                                                      output_attentions = False,\n",
    "                                                      output_hidden_states = False)\n",
    "model.config.pad_token_id = model.config.eos_token_id"
   ]
  },
  {
   "cell_type": "code",
   "execution_count": 73,
   "id": "f1f64539",
   "metadata": {},
   "outputs": [],
   "source": [
    "#train set\n",
    "dataset_train = TensorDataset(input_ids_train, attention_masks_train, labels_train)\n",
    "\n",
    "batch_size = 32\n",
    "#train set\n",
    "dataloader_train = DataLoader(dataset_train, sampler = RandomSampler(dataset_train), batch_size = batch_size)"
   ]
  },
  {
   "cell_type": "code",
   "execution_count": 74,
   "id": "148361af",
   "metadata": {},
   "outputs": [],
   "source": [
    "optimizer = AdamW(model.parameters(),\n",
    "                 lr = 1e-5,\n",
    "                 eps = 1e-8) #2e-5 > 5e-5\n",
    "                 \n",
    "epochs = 10\n",
    "\n",
    "scheduler = get_linear_schedule_with_warmup(optimizer,\n",
    "                                           num_warmup_steps = 0,\n",
    "                                           num_training_steps = len(dataloader_train)*epochs)\n"
   ]
  },
  {
   "cell_type": "code",
   "execution_count": 75,
   "id": "35c6db64",
   "metadata": {},
   "outputs": [],
   "source": [
    "#set seed and device\n",
    "import random\n",
    "\n",
    "seed_val = 17\n",
    "random.seed(seed_val)\n",
    "np.random.seed(seed_val)\n",
    "torch.manual_seed(seed_val)\n",
    "torch.cuda.manual_seed_all(seed_val)\n",
    "\n",
    "device = torch.device(\"cuda\")"
   ]
  },
  {
   "cell_type": "code",
   "execution_count": 76,
   "id": "68704f1c",
   "metadata": {
    "scrolled": true
   },
   "outputs": [
    {
     "name": "stderr",
     "output_type": "stream",
     "text": [
      "  0%|          | 0/10 [00:56<?, ?it/s]"
     ]
    },
    {
     "name": "stdout",
     "output_type": "stream",
     "text": [
      "Epoch 1\n",
      "Training loss: 0.4907062945175006\n"
     ]
    },
    {
     "name": "stderr",
     "output_type": "stream",
     "text": [
      "\r",
      " 10%|█         | 1/10 [01:12<10:56, 72.91s/it]"
     ]
    },
    {
     "name": "stdout",
     "output_type": "stream",
     "text": [
      "Validation loss: 0.25787728613985966\n",
      "Class: negative\n",
      "Accuracy:3859/4356 88.59044995408631%\n",
      "Class: positive\n",
      "Accuracy:9477/10552 89.81235784685367%\n"
     ]
    },
    {
     "name": "stderr",
     "output_type": "stream",
     "text": [
      " 10%|█         | 1/10 [02:10<10:56, 72.91s/it]"
     ]
    },
    {
     "name": "stdout",
     "output_type": "stream",
     "text": [
      "Epoch 2\n",
      "Training loss: 0.24747991311247997\n"
     ]
    },
    {
     "name": "stderr",
     "output_type": "stream",
     "text": [
      "\r",
      " 20%|██        | 2/10 [02:26<09:44, 73.05s/it]"
     ]
    },
    {
     "name": "stdout",
     "output_type": "stream",
     "text": [
      "Validation loss: 0.27423354092377833\n",
      "Class: negative\n",
      "Accuracy:4058/4356 93.15886134067952%\n",
      "Class: positive\n",
      "Accuracy:9192/10552 87.11144806671722%\n"
     ]
    },
    {
     "name": "stderr",
     "output_type": "stream",
     "text": [
      " 20%|██        | 2/10 [03:23<09:44, 73.05s/it]"
     ]
    },
    {
     "name": "stdout",
     "output_type": "stream",
     "text": [
      "Epoch 3\n",
      "Training loss: 0.18093926202471491\n"
     ]
    },
    {
     "name": "stderr",
     "output_type": "stream",
     "text": [
      "\r",
      " 30%|███       | 3/10 [03:39<08:31, 73.14s/it]"
     ]
    },
    {
     "name": "stdout",
     "output_type": "stream",
     "text": [
      "Validation loss: 0.26145913852418695\n",
      "Class: negative\n",
      "Accuracy:3899/4356 89.50872359963269%\n",
      "Class: positive\n",
      "Accuracy:9529/10552 90.3051554207733%\n"
     ]
    },
    {
     "name": "stderr",
     "output_type": "stream",
     "text": [
      " 30%|███       | 3/10 [04:36<08:31, 73.14s/it]"
     ]
    },
    {
     "name": "stdout",
     "output_type": "stream",
     "text": [
      "Epoch 4\n",
      "Training loss: 0.14198821729203592\n"
     ]
    },
    {
     "name": "stderr",
     "output_type": "stream",
     "text": [
      "\r",
      " 40%|████      | 4/10 [04:52<07:18, 73.05s/it]"
     ]
    },
    {
     "name": "stdout",
     "output_type": "stream",
     "text": [
      "Validation loss: 0.31053597364542695\n",
      "Class: negative\n",
      "Accuracy:4008/4356 92.01101928374655%\n",
      "Class: positive\n",
      "Accuracy:9365/10552 88.75094768764215%\n"
     ]
    },
    {
     "name": "stderr",
     "output_type": "stream",
     "text": [
      " 40%|████      | 4/10 [05:49<07:18, 73.05s/it]"
     ]
    },
    {
     "name": "stdout",
     "output_type": "stream",
     "text": [
      "Epoch 5\n",
      "Training loss: 0.10520239188099786\n"
     ]
    },
    {
     "name": "stderr",
     "output_type": "stream",
     "text": [
      "\r",
      " 50%|█████     | 5/10 [06:05<06:04, 72.99s/it]"
     ]
    },
    {
     "name": "stdout",
     "output_type": "stream",
     "text": [
      "Validation loss: 0.3251115592354469\n",
      "Class: negative\n",
      "Accuracy:3896/4356 89.4398530762167%\n",
      "Class: positive\n",
      "Accuracy:9548/10552 90.48521607278242%\n"
     ]
    },
    {
     "name": "stderr",
     "output_type": "stream",
     "text": [
      " 50%|█████     | 5/10 [07:01<06:04, 72.99s/it]"
     ]
    },
    {
     "name": "stdout",
     "output_type": "stream",
     "text": [
      "Epoch 6\n",
      "Training loss: 0.08898137995494693\n"
     ]
    },
    {
     "name": "stderr",
     "output_type": "stream",
     "text": [
      "\r",
      " 60%|██████    | 6/10 [07:17<04:51, 72.92s/it]"
     ]
    },
    {
     "name": "stdout",
     "output_type": "stream",
     "text": [
      "Validation loss: 0.34919617172278655\n",
      "Class: negative\n",
      "Accuracy:3804/4356 87.32782369146005%\n",
      "Class: positive\n",
      "Accuracy:9693/10552 91.85936315390447%\n"
     ]
    },
    {
     "name": "stderr",
     "output_type": "stream",
     "text": [
      " 60%|██████    | 6/10 [08:14<04:51, 72.92s/it]"
     ]
    },
    {
     "name": "stdout",
     "output_type": "stream",
     "text": [
      "Epoch 7\n",
      "Training loss: 0.07470744748775254\n"
     ]
    },
    {
     "name": "stderr",
     "output_type": "stream",
     "text": [
      "\r",
      " 70%|███████   | 7/10 [08:30<03:38, 72.87s/it]"
     ]
    },
    {
     "name": "stdout",
     "output_type": "stream",
     "text": [
      "Validation loss: 0.402276572855809\n",
      "Class: negative\n",
      "Accuracy:3795/4356 87.12121212121212%\n",
      "Class: positive\n",
      "Accuracy:9679/10552 91.72668688400303%\n"
     ]
    },
    {
     "name": "stderr",
     "output_type": "stream",
     "text": [
      " 70%|███████   | 7/10 [09:27<03:38, 72.87s/it]"
     ]
    },
    {
     "name": "stdout",
     "output_type": "stream",
     "text": [
      "Epoch 8\n",
      "Training loss: 0.06193012336681035\n"
     ]
    },
    {
     "name": "stderr",
     "output_type": "stream",
     "text": [
      "\r",
      " 80%|████████  | 8/10 [09:43<02:25, 72.85s/it]"
     ]
    },
    {
     "name": "stdout",
     "output_type": "stream",
     "text": [
      "Validation loss: 0.44042432912032803\n",
      "Class: negative\n",
      "Accuracy:3896/4356 89.4398530762167%\n",
      "Class: positive\n",
      "Accuracy:9534/10552 90.35253980288097%\n"
     ]
    },
    {
     "name": "stderr",
     "output_type": "stream",
     "text": [
      " 80%|████████  | 8/10 [10:40<02:25, 72.85s/it]"
     ]
    },
    {
     "name": "stdout",
     "output_type": "stream",
     "text": [
      "Epoch 9\n",
      "Training loss: 0.058706258963053176\n"
     ]
    },
    {
     "name": "stderr",
     "output_type": "stream",
     "text": [
      "\r",
      " 90%|█████████ | 9/10 [10:56<01:12, 72.82s/it]"
     ]
    },
    {
     "name": "stdout",
     "output_type": "stream",
     "text": [
      "Validation loss: 0.4474414059137346\n",
      "Class: negative\n",
      "Accuracy:3850/4356 88.38383838383838%\n",
      "Class: positive\n",
      "Accuracy:9596/10552 90.94010614101592%\n"
     ]
    },
    {
     "name": "stderr",
     "output_type": "stream",
     "text": [
      " 90%|█████████ | 9/10 [11:53<01:12, 72.82s/it]"
     ]
    },
    {
     "name": "stdout",
     "output_type": "stream",
     "text": [
      "Epoch 10\n",
      "Training loss: 0.05585974379001917\n"
     ]
    },
    {
     "name": "stderr",
     "output_type": "stream",
     "text": [
      "100%|██████████| 10/10 [12:08<00:00, 72.90s/it]"
     ]
    },
    {
     "name": "stdout",
     "output_type": "stream",
     "text": [
      "Validation loss: 0.4564859368772168\n",
      "Class: negative\n",
      "Accuracy:3856/4356 88.52157943067034%\n",
      "Class: positive\n",
      "Accuracy:9579/10552 90.77899924184989%\n"
     ]
    },
    {
     "name": "stderr",
     "output_type": "stream",
     "text": [
      "\n"
     ]
    }
   ],
   "source": [
    "#remember to run the cells below first before running this one, need dataloader and evaluate etc...\n",
    "#also remember to oversample\n",
    "vallosses = []\n",
    "predvtrue = []\n",
    "trainlosses = []\n",
    "\n",
    "with torch.no_grad():\n",
    "    torch.cuda.empty_cache()\n",
    "    \n",
    "for epoch in tqdm(range(1, epochs+1)):\n",
    "    \n",
    "    model.cuda()\n",
    "    model.train()\n",
    "    \n",
    "    loss_train_total = 0\n",
    "    \n",
    "# #     progress_bar = tqdm(dataloader_train, \n",
    "#                         desc = 'Epoch {:1d}'.format(epoch), \n",
    "#                         leave = False, \n",
    "#                         disable = False)\n",
    "    counter = 0\n",
    "    for batch in dataloader_train:\n",
    "        \n",
    "        model.zero_grad() #set gradient to 0\n",
    "    \n",
    "        batch = tuple(b.to(device) for b in batch)\n",
    "        \n",
    "        inputs = {'input_ids': batch[0], \n",
    "                  'attention_mask': batch[1], \n",
    "                  'labels': batch[2]}\n",
    "        \n",
    "        outputs = model(**inputs) #unpack the dict straight into inputs\n",
    "        \n",
    "        loss = outputs[0]\n",
    "        loss_train_total += loss.item()\n",
    "        loss.backward()\n",
    "        \n",
    "        torch.nn.utils.clip_grad_norm_(model.parameters(), 1.0)\n",
    "        \n",
    "        optimizer.step()\n",
    "        scheduler.step()\n",
    "        counter += 1\n",
    "\n",
    "    torch.save(model.state_dict(), f'Models/GPT2_clean_ft_epoch{epoch}.model')\n",
    "    \n",
    "    tqdm.write(f'Epoch {epoch}')\n",
    "    \n",
    "    loss_train_ave = loss_train_total / len(dataloader_train)\n",
    "    print(f'Training loss: {loss_train_ave}')\n",
    "    trainlosses.append(loss_train_ave)\n",
    "    \n",
    "    val_loss, predictions, true_vals = evaluate(dataloader_test)\n",
    "    print(f'Validation loss: {val_loss}')\n",
    "    accuracy_per_class(predictions, true_vals)\n",
    "    \n",
    "    vallosses.append(val_loss)\n",
    "    predvtrue.append([predictions, true_vals])"
   ]
  },
  {
   "cell_type": "code",
   "execution_count": 67,
   "id": "37dca43e",
   "metadata": {},
   "outputs": [
    {
     "name": "stdout",
     "output_type": "stream",
     "text": [
      "['musical awareness: great big beautiful tomorrow has an ending, now is the time does not', \"kapan sih lo ngebuktiin,jan ngomong doang susah susah.usaha aja blm udh nyerah,inget.if you never try you'll never know.cowok kok gentle bgt\", 'show your love for your local field & it might win an award! gallagher park #bedlington current th in national award ', ' can you tell me when an update for the apple tv rd gen becomes available? the missing update holds me back from buying #appletv ', \" the crown, filthy mcnastys, katy dalys or the duke if york in belfast! can't wait to catch you guys tomorrow night!\", 'my #cre blog oklahoma per square foot returns to the blog hub tomorrow. i will have some interesting local data to share.', 'trey burke has been suspended for the northern michigan game (exhibition) tomorrow. ', 'w.o.w wednesday!marni lands this lumberjack vest for the ladies looking to bring a little tom boy toughness ', 'activists in deir ezzor captured this image of musab bin umair mosque after regime forces set it on fire wednesday. ', ' you will appreciate this.. sunday brunch coffee: normal cup in b/g and then the bowl of java. yowza. ']\n"
     ]
    }
   ],
   "source": [
    "#preprocessing test data\n",
    "full_testing_data = pd.read_csv('full_testing_data_noneutral.csv')\n",
    "\n",
    "X_testing_data_full = full_testing_data.tweet_text\n",
    "Y_testing_data_full = full_testing_data.label\n",
    "\n",
    "X_testing_data_full = [preprocessing(tweet) for tweet in X_testing_data_full]\n",
    "print(X_testing_data_full[:10])\n",
    "\n",
    "encoded_data_test = tokenizer.batch_encode_plus(X_testing_data_full,\n",
    "                                                add_special_tokens = True,\n",
    "                                                return_attention_mask = True,\n",
    "                                                padding = True,\n",
    "                                                return_tensors = 'pt')\n",
    "\n",
    "input_ids_test = encoded_data_test['input_ids']\n",
    "attention_masks_test = encoded_data_test['attention_mask']\n",
    "labels_test = torch.tensor(Y_testing_data_full)"
   ]
  },
  {
   "cell_type": "code",
   "execution_count": 68,
   "id": "351cbc99",
   "metadata": {},
   "outputs": [],
   "source": [
    "#test set\n",
    "dataset_test = TensorDataset(input_ids_test, attention_masks_test, labels_test)\n",
    "\n",
    "batch_size = 32\n",
    "#train set\n",
    "\n",
    "dataloader_test = DataLoader(dataset_test,\n",
    "                              sampler = RandomSampler(dataset_test),\n",
    "                              batch_size = 32) "
   ]
  },
  {
   "cell_type": "code",
   "execution_count": 69,
   "id": "0b0ba44f",
   "metadata": {},
   "outputs": [
    {
     "data": {
      "text/plain": [
       "tensor([1, 0, 1,  ..., 1, 1, 0])"
      ]
     },
     "execution_count": 69,
     "metadata": {},
     "output_type": "execute_result"
    }
   ],
   "source": [
    "labels_test"
   ]
  },
  {
   "cell_type": "code",
   "execution_count": 53,
   "id": "2e957880",
   "metadata": {},
   "outputs": [],
   "source": [
    "def evaluate(dataloader_test):\n",
    "\n",
    "    #evaluation mode \n",
    "    model.eval()\n",
    "    \n",
    "    #tracking variables\n",
    "    loss_val_total = 0\n",
    "    predictions, true_vals = [], []\n",
    "    \n",
    "    for batch in dataloader_test:\n",
    "        \n",
    "        #load into GPU\n",
    "        batch = tuple(b.to(device)  for b in batch)\n",
    "        \n",
    "        #define inputs\n",
    "        inputs = {'input_ids':      batch[0],\n",
    "                  'attention_mask': batch[1],\n",
    "                  'labels':         batch[2]}\n",
    "\n",
    "        #compute logits\n",
    "        with torch.no_grad():        \n",
    "            outputs = model(**inputs)\n",
    "        \n",
    "        #compute loss\n",
    "        loss = outputs[0]\n",
    "        logits = outputs[1]\n",
    "        loss_val_total += loss.item()\n",
    "\n",
    "        #compute accuracy\n",
    "        logits = logits.detach().cpu().numpy()\n",
    "        label_ids = inputs['labels'].cpu().numpy()\n",
    "        predictions.append(logits)\n",
    "        true_vals.append(label_ids)\n",
    "    \n",
    "    #compute average loss\n",
    "    loss_val_avg = loss_val_total/len(dataloader_test) \n",
    "    \n",
    "    predictions = np.concatenate(predictions, axis=0)\n",
    "    true_vals = np.concatenate(true_vals, axis=0)\n",
    "            \n",
    "    return loss_val_avg, predictions, true_vals\n",
    "\n",
    "def accuracy_per_class(preds, labels):\n",
    "    label_dict_inverse = {v: k for k, v in label_dict.items()}\n",
    "    \n",
    "    #make prediction\n",
    "    preds_flat = np.argmax(preds, axis=1).flatten()\n",
    "    labels_flat = labels.flatten()\n",
    "    \n",
    "    for label in np.unique(labels_flat):\n",
    "        y_preds = preds_flat[labels_flat==label]\n",
    "        y_true = labels_flat[labels_flat==label]\n",
    "        print(f'Class: {label_dict_inverse[label]}')\n",
    "        percent = (len(y_preds[y_preds==label]) / len(y_true)) * 100\n",
    "        print(f'Accuracy:{len(y_preds[y_preds==label])}/{len(y_true)} {percent}%')"
   ]
  },
  {
   "cell_type": "code",
   "execution_count": 78,
   "id": "6225670d",
   "metadata": {},
   "outputs": [],
   "source": [
    "#You don't need to run this cell and the ones below for the training\n",
    "#No need to run this cell if you've just trained the model in current session\n",
    "vallosses = []\n",
    "predvtrue = []\n",
    "\n",
    "#validation losses\n",
    "for i in range(1,epochs+1):\n",
    "    model.load_state_dict(torch.load(f'Models/GPT2_clean_ft_epoch{i}.model'))\n",
    "    val_loss, predictions, true_vals = evaluate(dataloader_test)\n",
    "    vallosses.append(val_loss)\n",
    "    predvtrue.append([predictions, true_vals])"
   ]
  },
  {
   "cell_type": "code",
   "execution_count": 80,
   "id": "0e8d4725",
   "metadata": {},
   "outputs": [
    {
     "data": {
      "image/png": "[encoded data removed]",
      "text/plain": [
       "<Figure size 1080x504 with 1 Axes>"
      ]
     },
     "metadata": {
      "needs_background": "light"
     },
     "output_type": "display_data"
    }
   ],
   "source": [
    "#Plot the training and validation loss\n",
    "plt.figure(figsize=(15, 7))\n",
    "RANGE = range(1, 11)\n",
    "#trainlosses =  [0.317, 0.135, 0.065, 0.042, 0.026, 0.015, 0.014, 0.009, 0.006, 0.005]\n",
    "plt.plot(RANGE, trainlosses,\n",
    "         label = \"Training Loss\")\n",
    "plt.plot(RANGE, vallosses, label = \"Validation Loss\")\n",
    "\n",
    "plt.xticks(RANGE)\n",
    "plt.ylabel('Loss')\n",
    "plt.legend()\n",
    "plt.show()"
   ]
  },
  {
   "cell_type": "code",
   "execution_count": 81,
   "id": "3218e1a4",
   "metadata": {},
   "outputs": [],
   "source": [
    "#Predictions for calculating F1score, just reusing code from accuracyscore\n",
    "predvtrue2 = []\n",
    "\n",
    "def predictions(preds, labels):\n",
    "    label_dict_inverse = {v: k for k, v in label_dict.items()}\n",
    "    \n",
    "    #make prediction\n",
    "    preds_flat = np.argmax(preds, axis=1).flatten()\n",
    "    labels_flat = labels.flatten()\n",
    "    \n",
    "    for label in np.unique(labels_flat):\n",
    "        y_preds = preds_flat[labels_flat==label]\n",
    "        y_true = labels_flat[labels_flat==label]\n",
    "    \n",
    "    return y_preds, y_true\n",
    "\n",
    "for preds, labels in predvtrue:\n",
    "    predlabels, truelabels = predictions(preds, labels)\n",
    "    predvtrue2.append([predlabels,truelabels])"
   ]
  },
  {
   "cell_type": "code",
   "execution_count": 82,
   "id": "26dfa737",
   "metadata": {},
   "outputs": [],
   "source": [
    "#Calculating F1 Scores\n",
    "f1scores = []\n",
    "for i in range(len(predvtrue2)):\n",
    "    f1scores.append(f1_score(predvtrue2[i][0], predvtrue2[i][1], average='weighted'))"
   ]
  },
  {
   "cell_type": "code",
   "execution_count": 83,
   "id": "c7f9c769",
   "metadata": {},
   "outputs": [
    {
     "data": {
      "image/png": "[encoded data removed]",
      "text/plain": [
       "<Figure size 1080x540 with 1 Axes>"
      ]
     },
     "metadata": {
      "needs_background": "light"
     },
     "output_type": "display_data"
    },
    {
     "name": "stdout",
     "output_type": "stream",
     "text": [
      "Max F1 Score at Epoch 6: 0.8796174927644318\n"
     ]
    }
   ],
   "source": [
    "#Plotting F1 Scores\n",
    "plt.figure(figsize=(15, 7.5))\n",
    "plt.plot(RANGE, f1scores)\n",
    "plt.ylabel('F1 Score')\n",
    "plt.xticks(RANGE)\n",
    "plt.show()\n",
    "max_value = max(f1scores)\n",
    "max_index = f1scores.index(max_value) + 1\n",
    "print(f\"Max F1 Score at Epoch {max_index}: {max_value}\")"
   ]
  }
 ],
 "metadata": {
  "kernelspec": {
   "display_name": "Python 3",
   "language": "python",
   "name": "python3"
  },
  "language_info": {
   "codemirror_mode": {
    "name": "ipython",
    "version": 3
   },
   "file_extension": ".py",
   "mimetype": "text/x-python",
   "name": "python",
   "nbconvert_exporter": "python",
   "pygments_lexer": "ipython3",
   "version": "3.8.10"
  }
 },
 "nbformat": 4,
 "nbformat_minor": 5
}
