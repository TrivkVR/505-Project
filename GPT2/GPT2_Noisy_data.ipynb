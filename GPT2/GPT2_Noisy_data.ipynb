{
 "cells": [
  {
   "cell_type": "markdown",
   "id": "86d60904",
   "metadata": {},
   "source": [
    "Adapted from BERT/CSProjectNoisy.ipynb"
   ]
  },
  {
   "cell_type": "code",
   "execution_count": 1,
   "id": "6269df76",
   "metadata": {},
   "outputs": [],
   "source": [
    "import pandas as pd\n",
    "import numpy as np\n",
    "from transformers import GPT2TokenizerFast\n",
    "from transformers import GPT2ForSequenceClassification\n",
    "from torch.utils.data import TensorDataset\n",
    "from torch.utils.data import DataLoader, RandomSampler, SequentialSampler\n",
    "from transformers import AdamW, get_linear_schedule_with_warmup\n",
    "import torch\n",
    "from tqdm import tqdm\n",
    "import random\n",
    "import numpy as np\n",
    "from sklearn.metrics import f1_score\n",
    "from sklearn.metrics import accuracy_score\n",
    "import re\n",
    "seed_val = 17\n",
    "random.seed(seed_val)\n",
    "np.random.seed(seed_val)\n",
    "torch.manual_seed(seed_val)\n",
    "torch.cuda.manual_seed_all(seed_val)"
   ]
  },
  {
   "cell_type": "code",
   "execution_count": 76,
   "id": "7b016cc6",
   "metadata": {},
   "outputs": [],
   "source": [
    "import pickle\n",
    "import matplotlib.pyplot as plt\n",
    "from sklearn.metrics import confusion_matrix"
   ]
  },
  {
   "cell_type": "code",
   "execution_count": 2,
   "id": "80b7612a",
   "metadata": {},
   "outputs": [],
   "source": [
    "## Reading the full data\n",
    "full_train_data = pd.read_csv(\"training.1600000.processed.noemoticon.csv\",encoding='latin-1',sep=',',\n",
    "                              names=['Polarity','tweetID','date','query','user','text'])"
   ]
  },
  {
   "cell_type": "code",
   "execution_count": 3,
   "id": "46b32939",
   "metadata": {},
   "outputs": [],
   "source": [
    "# Reading full test data\n",
    "full_test_data = pd.read_csv('full_testing_data_noneutral.csv')"
   ]
  },
  {
   "cell_type": "code",
   "execution_count": 9,
   "id": "44c06660",
   "metadata": {},
   "outputs": [],
   "source": [
    "## Defining the preprocessing function removing twitter handles ,  website links , digits and double spacing\n",
    "def preprocessing(tweet):\n",
    "  temp = tweet.lower()\n",
    "  temp = re.sub('(@[A-Za-z]+[A-Za-z0-9-_]+)', ' ', temp)\n",
    "  temp = re.sub(r'https\\S+', '', temp)\n",
    "  temp = re.sub(r'http\\S+', '', temp)\n",
    "  temp = re.sub(r'www\\S+', '', temp)\n",
    "#   temp = re.sub(r\"([^ ]+(?<=\\.[a-z]{3}))\", \" \", temp)\n",
    "  temp = re.sub(\"[0-9]\", \" \", temp)\n",
    "  temp = re.sub(\"\\s\\s+\", \" \", temp)\n",
    "  return temp"
   ]
  },
  {
   "cell_type": "code",
   "execution_count": 10,
   "id": "c6093cc9",
   "metadata": {},
   "outputs": [
    {
     "data": {
      "text/plain": [
       "'My #cre blog Oklahoma Per Square Foot returns to the @JournalRecord blog hub tomorrow. I will have some interesting local data to share.'"
      ]
     },
     "execution_count": 10,
     "metadata": {},
     "output_type": "execute_result"
    }
   ],
   "source": [
    "full_test_data.iloc[5,:].tweet_text"
   ]
  },
  {
   "cell_type": "code",
   "execution_count": 11,
   "id": "32adb201",
   "metadata": {},
   "outputs": [
    {
     "data": {
      "text/plain": [
       "(14908, 4)"
      ]
     },
     "execution_count": 11,
     "metadata": {},
     "output_type": "execute_result"
    }
   ],
   "source": [
    "full_test_data.shape"
   ]
  },
  {
   "cell_type": "code",
   "execution_count": 12,
   "id": "0adfaef7",
   "metadata": {},
   "outputs": [
    {
     "data": {
      "text/plain": [
       "'@firecore Can you tell me when an update for the Apple TV 3rd gen becomes available? The missing update holds me back from buying #appletv3'"
      ]
     },
     "execution_count": 12,
     "metadata": {},
     "output_type": "execute_result"
    }
   ],
   "source": [
    "full_test_data.iloc[3,:].tweet_text"
   ]
  },
  {
   "cell_type": "code",
   "execution_count": 13,
   "id": "e45ddced",
   "metadata": {},
   "outputs": [
    {
     "data": {
      "text/plain": [
       "Unnamed: 0                                                    2\n",
       "sentiment                                              negative\n",
       "tweet_text    Kapan sih lo ngebuktiin,jan ngomong doang Susa...\n",
       "label                                                         0\n",
       "Name: 1, dtype: object"
      ]
     },
     "execution_count": 13,
     "metadata": {},
     "output_type": "execute_result"
    }
   ],
   "source": [
    "full_test_data.iloc[1]"
   ]
  },
  {
   "cell_type": "code",
   "execution_count": 14,
   "id": "f3b15097",
   "metadata": {},
   "outputs": [
    {
     "name": "stderr",
     "output_type": "stream",
     "text": [
      "100%|██████████| 14908/14908 [00:01<00:00, 8203.69it/s]\n"
     ]
    }
   ],
   "source": [
    "preprocessed_test_tweets = []\n",
    "labels = []\n",
    "for i in tqdm(range(full_test_data.shape[0])):\n",
    "    row_val = full_test_data.iloc[i]\n",
    "    #if row_val.label == 1:\n",
    "    #    continue\n",
    "    tweet = preprocessing(row_val.tweet_text)\n",
    "    preprocessed_test_tweets.append(tweet)\n",
    "    if row_val.label == 2 or row_val.label==1:\n",
    "        labels.append(1)\n",
    "    else:\n",
    "        labels.append(0)"
   ]
  },
  {
   "cell_type": "code",
   "execution_count": 15,
   "id": "aa7801bb",
   "metadata": {},
   "outputs": [],
   "source": [
    "test_info = {'Polarity':labels,'text':preprocessed_test_tweets}\n",
    "full_test_data = pd.DataFrame(data=test_info)\n",
    "full_test_data.to_csv(\"full_test_data.csv\",index=True)"
   ]
  },
  {
   "cell_type": "code",
   "execution_count": 16,
   "id": "1b92aada",
   "metadata": {},
   "outputs": [
    {
     "data": {
      "text/plain": [
       "1    10552\n",
       "0     4356\n",
       "Name: Polarity, dtype: int64"
      ]
     },
     "execution_count": 16,
     "metadata": {},
     "output_type": "execute_result"
    }
   ],
   "source": [
    "full_test_data.Polarity.value_counts()"
   ]
  },
  {
   "cell_type": "code",
   "execution_count": null,
   "id": "bdf41fc1",
   "metadata": {},
   "outputs": [],
   "source": [
    "columns = full_train_data.columns"
   ]
  },
  {
   "cell_type": "code",
   "execution_count": 13,
   "id": "7a23e83c",
   "metadata": {},
   "outputs": [
    {
     "data": {
      "text/plain": [
       "Index(['Polarity', 'tweetID', 'date', 'query', 'user', 'text'], dtype='object')"
      ]
     },
     "execution_count": 13,
     "metadata": {},
     "output_type": "execute_result"
    }
   ],
   "source": [
    "columns"
   ]
  },
  {
   "cell_type": "code",
   "execution_count": 14,
   "id": "ffa56d49",
   "metadata": {},
   "outputs": [
    {
     "name": "stderr",
     "output_type": "stream",
     "text": [
      "100%|██████████| 1600000/1600000 [00:10<00:00, 150549.78it/s]\n"
     ]
    }
   ],
   "source": [
    "pre_processed_all_tweets = []\n",
    "for tweet in tqdm(full_train_data.text):\n",
    "  tweet = preprocessing(tweet)\n",
    "  pre_processed_all_tweets.append(tweet)"
   ]
  },
  {
   "cell_type": "code",
   "execution_count": 15,
   "id": "3fb3cb12",
   "metadata": {},
   "outputs": [],
   "source": [
    "info = {'Polarity':full_train_data['Polarity'],'text':pre_processed_all_tweets}\n",
    "full_training_data = pd.DataFrame(data = info)"
   ]
  },
  {
   "cell_type": "code",
   "execution_count": 16,
   "id": "a1d5dcb7",
   "metadata": {},
   "outputs": [],
   "source": [
    "## Changing the polarity of the positive tweet to 1\n",
    "full_training_data['Polarity'].mask(full_training_data['Polarity'] == 4, 1, inplace=True)"
   ]
  },
  {
   "cell_type": "code",
   "execution_count": 17,
   "id": "08555b1b",
   "metadata": {},
   "outputs": [],
   "source": [
    "## Writing to CSV file\n",
    "full_training_data.to_csv(\"full_training_data.csv\",index=True)"
   ]
  },
  {
   "cell_type": "code",
   "execution_count": 18,
   "id": "20f9d771",
   "metadata": {},
   "outputs": [],
   "source": [
    "X_training_data_full = full_training_data.text.tolist()\n",
    "Y_training_data_full = full_training_data.Polarity.tolist()"
   ]
  },
  {
   "cell_type": "code",
   "execution_count": 18,
   "id": "72fb2e97",
   "metadata": {},
   "outputs": [],
   "source": [
    "X_testing_data = full_test_data.text.tolist()\n",
    "Y_testing_data = full_test_data.Polarity.tolist()"
   ]
  },
  {
   "cell_type": "code",
   "execution_count": 67,
   "id": "3cb711a6",
   "metadata": {},
   "outputs": [],
   "source": [
    "# Using the BERT tokenizer to tokenize the values\n",
    "tokenizer = GPT2TokenizerFast.from_pretrained('gpt2',\n",
    "                                         do_lower_case = True)\n",
    "tokenizer.pad_token = tokenizer.eos_token"
   ]
  },
  {
   "cell_type": "code",
   "execution_count": 21,
   "id": "5e1227c0",
   "metadata": {},
   "outputs": [
    {
     "name": "stderr",
     "output_type": "stream",
     "text": [
      "Truncation was not explicitly activated but `max_length` is provided a specific value, please use `truncation=True` to explicitly truncate examples to max length. Defaulting to 'longest_first' truncation strategy. If you encode pairs of sequences (GLUE-style) with the tokenizer you can select this strategy more precisely by providing a specific strategy to `truncation`.\n",
      "/usr4/cs505/tvranga/.local/lib/python3.8/site-packages/transformers/tokenization_utils_base.py:2263: FutureWarning: The `pad_to_max_length` argument is deprecated and will be removed in a future version, use `padding=True` or `padding='longest'` to pad to the longest sequence in the batch, or use `padding='max_length'` to pad to a max length. In this case, you can give a specific length with `max_length` (e.g. `max_length=45`) or leave max_length to None to pad to the maximal input size of the model (e.g. 512 for Bert).\n",
      "  warnings.warn(\n"
     ]
    }
   ],
   "source": [
    "#encode train set\n",
    "encoded_data_train = tokenizer.batch_encode_plus(X_training_data_full,\n",
    "                                                add_special_tokens = True,\n",
    "                                                return_attention_mask = True,\n",
    "                                                pad_to_max_length = True,\n",
    "                                                max_length = 256,\n",
    "                                                return_tensors = 'pt')"
   ]
  },
  {
   "cell_type": "code",
   "execution_count": 68,
   "id": "64c40a0f",
   "metadata": {},
   "outputs": [
    {
     "name": "stderr",
     "output_type": "stream",
     "text": [
      "Truncation was not explicitly activated but `max_length` is provided a specific value, please use `truncation=True` to explicitly truncate examples to max length. Defaulting to 'longest_first' truncation strategy. If you encode pairs of sequences (GLUE-style) with the tokenizer you can select this strategy more precisely by providing a specific strategy to `truncation`.\n",
      "/usr4/cs505/tvranga/.local/lib/python3.8/site-packages/transformers/tokenization_utils_base.py:2263: FutureWarning: The `pad_to_max_length` argument is deprecated and will be removed in a future version, use `padding=True` or `padding='longest'` to pad to the longest sequence in the batch, or use `padding='max_length'` to pad to a max length. In this case, you can give a specific length with `max_length` (e.g. `max_length=45`) or leave max_length to None to pad to the maximal input size of the model (e.g. 512 for Bert).\n",
      "  warnings.warn(\n"
     ]
    }
   ],
   "source": [
    "#encode test set\n",
    "encoded_data_test = tokenizer.batch_encode_plus(X_testing_data,\n",
    "                                                add_special_tokens = True,\n",
    "                                                return_attention_mask = True,\n",
    "                                                pad_to_max_length = True,\n",
    "                                                max_length = 256,\n",
    "                                                return_tensors = 'pt')"
   ]
  },
  {
   "cell_type": "code",
   "execution_count": 23,
   "id": "6b45a059",
   "metadata": {},
   "outputs": [],
   "source": [
    "#train set\n",
    "input_ids_train = encoded_data_train['input_ids']\n",
    "attention_masks_train = encoded_data_train['attention_mask']\n",
    "labels_train = torch.tensor(Y_training_data_full)\n"
   ]
  },
  {
   "cell_type": "code",
   "execution_count": 69,
   "id": "5373cbb9",
   "metadata": {},
   "outputs": [],
   "source": [
    "#test set\n",
    "input_ids_test = encoded_data_test['input_ids']\n",
    "attention_masks_test = encoded_data_test['attention_mask']\n",
    "labels_test = torch.tensor(Y_testing_data)"
   ]
  },
  {
   "cell_type": "code",
   "execution_count": 54,
   "id": "54cf6582",
   "metadata": {},
   "outputs": [],
   "source": [
    "label_dict = {'Negative' : 0 , 'Positive' : 1}"
   ]
  },
  {
   "cell_type": "code",
   "execution_count": 26,
   "id": "47ef9705",
   "metadata": {},
   "outputs": [
    {
     "name": "stderr",
     "output_type": "stream",
     "text": [
      "Some weights of GPT2ForSequenceClassification were not initialized from the model checkpoint at gpt2 and are newly initialized: ['score.weight']\n",
      "You should probably TRAIN this model on a down-stream task to be able to use it for predictions and inference.\n"
     ]
    }
   ],
   "source": [
    "model = GPT2ForSequenceClassification.from_pretrained('gpt2',\n",
    "                                                      num_labels = len(label_dict),\n",
    "                                                      output_attentions = False,\n",
    "                                                      output_hidden_states = False)\n",
    "model.config.pad_token_id = model.config.eos_token_id"
   ]
  },
  {
   "cell_type": "code",
   "execution_count": 27,
   "id": "ab0bb3f2",
   "metadata": {},
   "outputs": [],
   "source": [
    "#train set\n",
    "dataset_train = TensorDataset(input_ids_train, \n",
    "                              attention_masks_train,\n",
    "                              labels_train)"
   ]
  },
  {
   "cell_type": "code",
   "execution_count": 70,
   "id": "b6632531",
   "metadata": {},
   "outputs": [],
   "source": [
    "#test set\n",
    "dataset_test = TensorDataset(input_ids_test, \n",
    "                              attention_masks_test,\n",
    "                              labels_test)"
   ]
  },
  {
   "cell_type": "code",
   "execution_count": null,
   "id": "6622de61",
   "metadata": {},
   "outputs": [],
   "source": [
    "validation_set_size = int(len(dataset_train)*0.2)\n",
    "train_set_size = int(len(dataset_train) - validation_set_size)"
   ]
  },
  {
   "cell_type": "code",
   "execution_count": 30,
   "id": "c6b2b6b4",
   "metadata": {},
   "outputs": [],
   "source": [
    "validation_dataset,train_dataset = torch.utils.data.random_split(dataset_train, [validation_set_size, train_set_size], generator=torch.Generator().manual_seed(42))"
   ]
  },
  {
   "cell_type": "code",
   "execution_count": 31,
   "id": "9c21d05a",
   "metadata": {},
   "outputs": [],
   "source": [
    "import torch, gc\n",
    "gc.collect()\n",
    "torch.cuda.empty_cache()"
   ]
  },
  {
   "cell_type": "code",
   "execution_count": 32,
   "id": "84765e25",
   "metadata": {},
   "outputs": [],
   "source": [
    "device = torch.device(\"cuda:0\" if torch.cuda.is_available() else \"cpu\")"
   ]
  },
  {
   "cell_type": "code",
   "execution_count": 33,
   "id": "d54e7f77",
   "metadata": {},
   "outputs": [
    {
     "data": {
      "text/plain": [
       "0"
      ]
     },
     "execution_count": 33,
     "metadata": {},
     "output_type": "execute_result"
    }
   ],
   "source": [
    "torch.cuda.memory_allocated(device=device)"
   ]
  },
  {
   "cell_type": "code",
   "execution_count": 34,
   "id": "6540d4cf",
   "metadata": {},
   "outputs": [],
   "source": [
    "batch_size = 32\n",
    "#train set\n",
    "dataloader_train = DataLoader(train_dataset,\n",
    "                              sampler = RandomSampler(train_dataset),\n",
    "                              batch_size = batch_size)\n",
    "dataloader_val = DataLoader(validation_dataset,sampler = RandomSampler(validation_dataset),\n",
    "                              batch_size = batch_size)"
   ]
  },
  {
   "cell_type": "code",
   "execution_count": 73,
   "id": "3b708e18",
   "metadata": {},
   "outputs": [],
   "source": [
    "#test set\n",
    "batch_size = 32\n",
    "dataloader_test = DataLoader(dataset_test,batch_size = batch_size,shuffle=True,drop_last=True)"
   ]
  },
  {
   "cell_type": "code",
   "execution_count": 36,
   "id": "62150953",
   "metadata": {},
   "outputs": [
    {
     "name": "stderr",
     "output_type": "stream",
     "text": [
      "/usr4/cs505/tvranga/.local/lib/python3.8/site-packages/transformers/optimization.py:306: FutureWarning: This implementation of AdamW is deprecated and will be removed in a future version. Use the PyTorch implementation torch.optim.AdamW instead, or set `no_deprecation_warning=True` to disable this warning\n",
      "  warnings.warn(\n"
     ]
    }
   ],
   "source": [
    "optimizer = AdamW(model.parameters(),\n",
    "                 lr = 1e-5,\n",
    "                 eps = 1e-8) #2e-5 > 5e-5\n",
    "                 \n",
    "epochs = 10\n",
    "\n",
    "scheduler = get_linear_schedule_with_warmup(optimizer,\n",
    "                                           num_warmup_steps = 0,\n",
    "                                           num_training_steps = len(dataloader_train)*epochs)\n"
   ]
  },
  {
   "cell_type": "code",
   "execution_count": 37,
   "id": "7af46a7b",
   "metadata": {},
   "outputs": [],
   "source": [
    "label_dict = {'Negative' : 0 , 'Positive' : 1}"
   ]
  },
  {
   "cell_type": "code",
   "execution_count": 59,
   "id": "75bbf5d0",
   "metadata": {},
   "outputs": [],
   "source": [
    "def evaluate(dataloader_val,model):\n",
    "\n",
    "    model.cuda()\n",
    "    #evaluation mode \n",
    "    model.eval()\n",
    "    #tracking variables\n",
    "    loss_val_total = 0\n",
    "    predictions, true_vals = [], []\n",
    "    \n",
    "    for batch in tqdm(dataloader_val):\n",
    "        \n",
    "        #load into GPU\n",
    "        batch = tuple(b.cuda() for b in batch)\n",
    "        \n",
    "        #define inputs\n",
    "        inputs = {'input_ids':      batch[0],\n",
    "                  'attention_mask': batch[1],\n",
    "                  'labels':         batch[2]}\n",
    "\n",
    "        #compute logits\n",
    "        with torch.no_grad():        \n",
    "            outputs = model(**inputs)\n",
    "        \n",
    "        #compute loss\n",
    "        loss = outputs[0]\n",
    "        logits = outputs[1]\n",
    "        loss_val_total += loss.item()\n",
    "\n",
    "        #compute accuracy\n",
    "        logits = logits.detach().cpu().numpy()\n",
    "        label_ids = inputs['labels'].cpu().numpy()\n",
    "        predictions.append(logits)\n",
    "        true_vals.append(label_ids)\n",
    "    \n",
    "    #compute average loss\n",
    "    loss_val_avg = loss_val_total/len(dataloader_val) \n",
    "    \n",
    "    predictions = np.concatenate(predictions, axis=0)\n",
    "    true_vals = np.concatenate(true_vals, axis=0)\n",
    "            \n",
    "    return loss_val_avg, predictions, true_vals"
   ]
  },
  {
   "cell_type": "code",
   "execution_count": 60,
   "id": "cad45612",
   "metadata": {},
   "outputs": [],
   "source": [
    "def f1_score_func(preds, labels):\n",
    "    preds_flat = np.argmax(preds, axis = 1).flatten()\n",
    "    labels_flat = labels.flatten()\n",
    "    return f1_score(labels_flat, preds_flat, average = 'weighted')"
   ]
  },
  {
   "cell_type": "code",
   "execution_count": 61,
   "id": "6dc7f3ea",
   "metadata": {},
   "outputs": [],
   "source": [
    "def accuracy_per_class(preds, labels):\n",
    "    label_dict = {'Negative' : 0 , 'Positive' : 1}\n",
    "    label_dict_inverse = {v: k for k, v in label_dict.items()}\n",
    "    \n",
    "    #make prediction\n",
    "    preds_flat = np.argmax(preds, axis=1).flatten()\n",
    "    labels_flat = labels.flatten()\n",
    "    \n",
    "    for label in np.unique(labels_flat):\n",
    "        y_preds = preds_flat[labels_flat==label]\n",
    "        y_true = labels_flat[labels_flat==label]\n",
    "        print(f'Class: {label_dict_inverse[label]}')\n",
    "        print(f'Accuracy:{len(y_preds[y_preds==label])}/{len(y_true)}\\n')\n",
    "    \n",
    "    print(f'Total accuracy is : {accuracy_score(labels_flat,preds_flat)}\\n')\n",
    "    \n",
    "    \n",
    "    return accuracy_score(labels_flat,preds_flat)    \n",
    "    "
   ]
  },
  {
   "cell_type": "code",
   "execution_count": null,
   "id": "17c1d8c2",
   "metadata": {
    "scrolled": true
   },
   "outputs": [],
   "source": [
    "train_loss = []\n",
    "val_loss_total = []\n",
    "for epoch in tqdm(range(1,epochs+1)):\n",
    "    \n",
    "    model.cuda()\n",
    "    model.train()\n",
    "    \n",
    "    loss_train_total = 0\n",
    "    \n",
    "    progress_bar = tqdm(dataloader_train, \n",
    "                        desc = 'Epoch {:1d}'.format(epoch), \n",
    "                        leave = False, \n",
    "                        disable = False)\n",
    "    counter = 0\n",
    "    for batch in progress_bar:\n",
    "        \n",
    "        model.zero_grad() #set gradient to 0\n",
    "        batch = tuple(b.cuda() for b in batch)\n",
    "        \n",
    "        inputs = {'input_ids': batch[0], \n",
    "                  'attention_mask': batch[1], \n",
    "                  'labels': batch[2]}        \n",
    "        outputs = model(**inputs) #unpack the dict straight into inputs\n",
    "        \n",
    "        loss = outputs[0]\n",
    "        loss_train_total += loss.item()\n",
    "        loss.backward()\n",
    "        \n",
    "        torch.nn.utils.clip_grad_norm_(model.parameters(), 1.0)\n",
    "        \n",
    "        optimizer.step()\n",
    "        scheduler.step()\n",
    "        counter += 1\n",
    "#         if counter%2000 == 0:\n",
    "#             print(\"Epoch: {}/{}...\".format(epoch, epochs),\n",
    "#                     \"Step: {}...\".format(counter),\n",
    "#                     \"Loss: {}...\".format(loss.item()))\n",
    "        progress_bar.set_postfix({'training_loss': '{:.3f}'.format(loss.item() / len(batch))})\n",
    "        \n",
    "    torch.save(model.state_dict(), f'Models/ GPT2_ft_noisy_epoch{epoch}.model')\n",
    "    \n",
    "    tqdm.write('\\n Epoch {epoch}')\n",
    "    \n",
    "    loss_train_ave = loss_train_total / len(dataloader_train)\n",
    "    train_loss.append(loss_train_ave)\n",
    "    tqdm.write('Training loss: {loss_train_avg}')\n",
    "    \n",
    "    val_loss, predictions, true_vals = evaluate(dataloader_val,model)\n",
    "    val_loss_total.append(val_loss)\n",
    "    val_f1 = f1_score_func(predictions, true_vals)\n",
    "    tqdm.write(f'Validation loss: {val_loss}')\n",
    "    tqdm.write(f'F1 Score (weighted): {val_f1}')\n",
    "    accuracy = accuracy_per_class(predictions, true_vals)\n",
    "    \n",
    "    dict1 = {'Validation_loss':val_loss,'Training_loss':loss_train_ave,'validation_F1':val_f1,'Validation_Acc':accuracy}\n",
    "    with open(f'Data/ Epoch_{epoch}_data.pickle', 'wb') as f:\n",
    "        pickle.dump(dict1, f)   \n",
    "    tqdm.write(f'Validation loss: {val_loss}')\n",
    "    tqdm.write(f'F1 Score (weighted): {val_f1}')"
   ]
  },
  {
   "cell_type": "code",
   "execution_count": 42,
   "id": "264c6e16",
   "metadata": {},
   "outputs": [],
   "source": [
    "def read_data():\n",
    "    validation_loss = []\n",
    "    training_loss = []\n",
    "    f1_scores = []\n",
    "    validation_acc = []\n",
    "    for i in range(0,7):\n",
    "        file = 'Data/ Epoch_'+str(i)+'_data.pickle'\n",
    "        with open(file, 'rb') as f:\n",
    "            dict1 = pickle.load(f, encoding='latin1')\n",
    "            validation_loss.append(dict1['Validation_loss'])\n",
    "            training_loss.append(dict1['Training_loss'])\n",
    "            f1_scores.append(dict1['validation_F1'])\n",
    "            validation_acc.append(dict1['Validation_Acc'])\n",
    "    return validation_loss,training_loss,f1_scores,validation_acc\n"
   ]
  },
  {
   "cell_type": "code",
   "execution_count": 44,
   "id": "0c7f81b6",
   "metadata": {},
   "outputs": [],
   "source": [
    "val_loss,train_loss,f1_scores,val_acc = read_data()"
   ]
  },
  {
   "cell_type": "code",
   "execution_count": 86,
   "id": "c8008c81",
   "metadata": {},
   "outputs": [
    {
     "data": {
      "image/png": "[encoded data removed]",
      "text/plain": [
       "<Figure size 1080x504 with 1 Axes>"
      ]
     },
     "metadata": {
      "needs_background": "light"
     },
     "output_type": "display_data"
    }
   ],
   "source": [
    "plt.figure(figsize=(15, 7))\n",
    "RANGE = range(1, 8)\n",
    "plt.plot(RANGE, train_loss,\n",
    "         label = \"Training Loss\")\n",
    "plt.plot(RANGE, val_loss, label = \"Validation Loss\")\n",
    "\n",
    "plt.xticks(RANGE)\n",
    "plt.ylabel('Loss')\n",
    "plt.legend()\n",
    "plt.savefig('current_Status.png')\n",
    "plt.show()"
   ]
  },
  {
   "cell_type": "code",
   "execution_count": 87,
   "id": "789844df",
   "metadata": {},
   "outputs": [
    {
     "data": {
      "image/png": "[encoded data removed]",
      "text/plain": [
       "<Figure size 1080x540 with 1 Axes>"
      ]
     },
     "metadata": {
      "needs_background": "light"
     },
     "output_type": "display_data"
    },
    {
     "name": "stdout",
     "output_type": "stream",
     "text": [
      "Max F1 Score at Epoch 6: 0.8768905773588047\n"
     ]
    }
   ],
   "source": [
    "plt.figure(figsize=(15, 7.5))\n",
    "plt.plot(RANGE, f1_scores , label='Validation Set F1 Scores')\n",
    "plt.ylabel('F1 Score')\n",
    "plt.xticks(RANGE)\n",
    "plt.legend()\n",
    "plt.show()\n",
    "max_value = max(f1_scores)\n",
    "max_index = f1_scores.index(max_value) + 1\n",
    "print(f\"Max F1 Score at Epoch {max_index}: {max_value}\")"
   ]
  },
  {
   "cell_type": "code",
   "execution_count": 88,
   "id": "9e4ac7d8",
   "metadata": {},
   "outputs": [
    {
     "data": {
      "image/png": "[encoded data removed]",
      "text/plain": [
       "<Figure size 1080x540 with 1 Axes>"
      ]
     },
     "metadata": {
      "needs_background": "light"
     },
     "output_type": "display_data"
    },
    {
     "name": "stdout",
     "output_type": "stream",
     "text": [
      "Max Accuracy Score at Epoch 6: 0.876890625\n"
     ]
    }
   ],
   "source": [
    "plt.figure(figsize=(15, 7.5))\n",
    "plt.plot(RANGE, val_acc , label='Validation Set Accuracy Scores')\n",
    "plt.ylabel('Accuracy')\n",
    "plt.xticks(RANGE)\n",
    "plt.legend()\n",
    "plt.show()\n",
    "max_value = max(val_acc)\n",
    "max_index = val_acc.index(max_value) + 1\n",
    "print(f\"Max Accuracy Score at Epoch {max_index}: {max_value}\")\n"
   ]
  },
  {
   "cell_type": "code",
   "execution_count": 89,
   "id": "4d5ee76c",
   "metadata": {},
   "outputs": [],
   "source": [
    "def plot_confusion(y_test,y_pred):\n",
    "    #Generate the confusion matrix\n",
    "    y_pred = np.argmax(y_pred, axis = 1).flatten()\n",
    "    cf_matrix = confusion_matrix(y_test, y_pred)\n",
    "    return cf_matrix"
   ]
  },
  {
   "cell_type": "code",
   "execution_count": 55,
   "id": "f536f633",
   "metadata": {},
   "outputs": [
    {
     "name": "stderr",
     "output_type": "stream",
     "text": [
      "Some weights of GPT2ForSequenceClassification were not initialized from the model checkpoint at gpt2 and are newly initialized: ['score.weight']\n",
      "You should probably TRAIN this model on a down-stream task to be able to use it for predictions and inference.\n"
     ]
    }
   ],
   "source": [
    "model =  GPT2ForSequenceClassification.from_pretrained('gpt2',\n",
    "                                                      num_labels = len(label_dict),\n",
    "                                                      output_attentions = False,\n",
    "                                                      output_hidden_states = False)\n",
    "model.config.pad_token_id = model.config.eos_token_id"
   ]
  },
  {
   "cell_type": "code",
   "execution_count": 57,
   "id": "836c070f",
   "metadata": {},
   "outputs": [
    {
     "data": {
      "text/plain": [
       "<All keys matched successfully>"
      ]
     },
     "execution_count": 57,
     "metadata": {},
     "output_type": "execute_result"
    }
   ],
   "source": [
    "#The models were stored from numbers 0-7 and not 1-8. Hence the difference in the filename\n",
    "model.load_state_dict(torch.load(f'Models/ GPT2_ft_noisy_epoch5.model'))"
   ]
  },
  {
   "cell_type": "code",
   "execution_count": 74,
   "id": "81f493a8",
   "metadata": {},
   "outputs": [
    {
     "name": "stderr",
     "output_type": "stream",
     "text": [
      "100%|██████████| 465/465 [01:14<00:00,  6.25it/s]\n"
     ]
    }
   ],
   "source": [
    "loss_test_avg, predictions, true_vals = evaluate(dataloader_test,model)"
   ]
  },
  {
   "cell_type": "code",
   "execution_count": 77,
   "id": "e333dc6c",
   "metadata": {},
   "outputs": [],
   "source": [
    "matrix = plot_confusion(true_vals,predictions)"
   ]
  },
  {
   "cell_type": "code",
   "execution_count": 78,
   "id": "9f67336e",
   "metadata": {},
   "outputs": [
    {
     "name": "stdout",
     "output_type": "stream",
     "text": [
      "[[3319 1031]\n",
      " [2008 8522]]\n"
     ]
    }
   ],
   "source": [
    "print(matrix)"
   ]
  },
  {
   "cell_type": "code",
   "execution_count": 79,
   "id": "04312385",
   "metadata": {},
   "outputs": [
    {
     "data": {
      "image/png": "[encoded data removed]",
      "text/plain": [
       "<Figure size 1080x540 with 2 Axes>"
      ]
     },
     "metadata": {
      "needs_background": "light"
     },
     "output_type": "display_data"
    }
   ],
   "source": [
    "import seaborn as sns\n",
    "plt.figure(figsize=(15, 7.5))\n",
    "\n",
    "matrix = matrix.astype('float') / matrix.sum(axis=1)[:, np.newaxis]\n",
    "\n",
    "ax = sns.heatmap(matrix, annot=True, cmap='Blues')\n",
    "\n",
    "ax.set_title('Seaborn Confusion Matrix with labels\\n\\n');\n",
    "ax.set_xlabel('\\nPredicted Values')\n",
    "ax.set_ylabel('Actual Values ');\n",
    "\n",
    "## Ticket labels - List must be in alphabetical order\n",
    "ax.xaxis.set_ticklabels(['False','True'])\n",
    "ax.yaxis.set_ticklabels(['False','True'])\n",
    "\n",
    "## Display the visualization of the Confusion Matrix.\n",
    "plt.show()"
   ]
  },
  {
   "cell_type": "code",
   "execution_count": 80,
   "id": "b649f158",
   "metadata": {},
   "outputs": [
    {
     "name": "stdout",
     "output_type": "stream",
     "text": [
      "Class: Negative\n",
      "Accuracy:3319/4350\n",
      "\n",
      "Class: Positive\n",
      "Accuracy:8522/10530\n",
      "\n",
      "Total accuracy is : 0.7957661290322581\n",
      "\n"
     ]
    },
    {
     "data": {
      "text/plain": [
       "0.7957661290322581"
      ]
     },
     "execution_count": 80,
     "metadata": {},
     "output_type": "execute_result"
    }
   ],
   "source": [
    "accuracy_per_class(predictions, true_vals)"
   ]
  },
  {
   "cell_type": "code",
   "execution_count": 81,
   "id": "7b053dae",
   "metadata": {},
   "outputs": [
    {
     "name": "stdout",
     "output_type": "stream",
     "text": [
      "F1 score is:  0.8011081652631046\n"
     ]
    }
   ],
   "source": [
    "print(\"F1 score is: \",f1_score_func(predictions, true_vals))"
   ]
  },
  {
   "cell_type": "code",
   "execution_count": null,
   "id": "fd874a58",
   "metadata": {},
   "outputs": [],
   "source": []
  }
 ],
 "metadata": {
  "kernelspec": {
   "display_name": "Python 3",
   "language": "python",
   "name": "python3"
  },
  "language_info": {
   "codemirror_mode": {
    "name": "ipython",
    "version": 3
   },
   "file_extension": ".py",
   "mimetype": "text/x-python",
   "name": "python",
   "nbconvert_exporter": "python",
   "pygments_lexer": "ipython3",
   "version": "3.8.10"
  }
 },
 "nbformat": 4,
 "nbformat_minor": 5
}
