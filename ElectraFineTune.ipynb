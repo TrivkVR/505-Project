{
 "cells": [
  {
   "cell_type": "code",
   "execution_count": 6,
   "id": "c3fb8297",
   "metadata": {},
   "outputs": [
    {
     "name": "stdout",
     "output_type": "stream",
     "text": [
      "**** Missing build for a loaded module for Python version \"3.8.10\". \n",
      "Directory does not exist: /share/pkg.7/tensorflow/2.0.0/install/lib/SCC/../python3.8/site-packages\n",
      "\n",
      "Defaulting to user installation because normal site-packages is not writeable\n",
      "Collecting imblearn\n",
      "  Downloading imblearn-0.0-py2.py3-none-any.whl (1.9 kB)\n",
      "Collecting imbalanced-learn\n",
      "  Downloading imbalanced_learn-0.9.0-py3-none-any.whl (199 kB)\n",
      "\u001b[K     |████████████████████████████████| 199 kB 8.5 MB/s eta 0:00:01\n",
      "\u001b[?25hRequirement already satisfied: scipy>=1.1.0 in /share/pkg.7/python3/3.8.10/install/lib/python3.8/site-packages/scipy-1.6.2-py3.8-linux-x86_64.egg (from imbalanced-learn->imblearn) (1.6.2)\n",
      "Requirement already satisfied: joblib>=0.11 in /share/pkg.7/python3/3.8.10/install/lib/python3.8/site-packages (from imbalanced-learn->imblearn) (1.0.1)\n",
      "Requirement already satisfied: threadpoolctl>=2.0.0 in /share/pkg.7/python3/3.8.10/install/lib/python3.8/site-packages (from imbalanced-learn->imblearn) (2.1.0)\n",
      "Requirement already satisfied: numpy>=1.14.6 in /usr4/cs505/orawal/.local/lib/python3.8/site-packages (from imbalanced-learn->imblearn) (1.22.3)\n",
      "Collecting scikit-learn>=1.0.1\n",
      "  Downloading scikit_learn-1.0.2-cp38-cp38-manylinux_2_17_x86_64.manylinux2014_x86_64.whl (26.7 MB)\n",
      "\u001b[K     |████████████████████████████████| 26.7 MB 27.4 MB/s eta 0:00:01\n",
      "\u001b[?25hInstalling collected packages: scikit-learn, imbalanced-learn, imblearn\n",
      "Successfully installed imbalanced-learn-0.9.0 imblearn-0.0 scikit-learn-1.0.2\n",
      "\u001b[33mWARNING: You are using pip version 21.1.1; however, version 22.0.4 is available.\n",
      "You should consider upgrading via the '/share/pkg.7/python3/3.8.10/install/bin/python3.8 -m pip install --upgrade pip' command.\u001b[0m\n"
     ]
    }
   ],
   "source": [
    "!pip install imblearn "
   ]
  },
  {
   "cell_type": "code",
   "execution_count": 1,
   "id": "f445197f",
   "metadata": {},
   "outputs": [],
   "source": [
    "# Import packages\n",
    "import os\n",
    "os.environ['WANDB_DISABLED'] = 'true'\n",
    "import numpy as np\n",
    "import pandas as pd\n",
    "import seaborn as sns\n",
    "import torch\n",
    "from transformers import pipeline, BertTokenizer, BertForSequenceClassification\n",
    "import matplotlib.pyplot as plt\n",
    "from torch.utils.data import TensorDataset\n",
    "from torch.utils.data import DataLoader, RandomSampler, SequentialSampler\n",
    "from transformers import AdamW, get_linear_schedule_with_warmup\n",
    "from tqdm import tqdm\n",
    "import imblearn\n",
    "from imblearn.over_sampling import RandomOverSampler\n",
    "from sklearn.metrics import f1_score\n",
    "import re\n",
    "from sklearn.model_selection import train_test_split\n",
    "from sklearn.model_selection import train_test_split\n",
    "from sklearn.metrics import classification_report\n",
    "import transformers\n",
    "from transformers import AutoModelForSequenceClassification, AutoTokenizer\n",
    "from transformers import TrainingArguments, Trainer\n",
    "from datasets import Dataset, DatasetDict, load_metric\n",
    "import matplotlib.pyplot as plt\n",
    "from sklearn.metrics import confusion_matrix\n",
    "from sklearn.metrics import f1_score,accuracy_score\n",
    "\n",
    "\n",
    "def preprocessing(tweet):\n",
    "    temp = tweet.lower()\n",
    "    temp = re.sub('@[A-Za-z]+[A-Za-z0-9-_]+', ' ', temp)\n",
    "    temp = re.sub(r'https\\S+', '', temp)\n",
    "    temp = re.sub(r'http\\S+', '', temp)\n",
    "    temp = re.sub(\"[0-9]\", \" \", temp)\n",
    "    temp = re.sub(\"\\s\\s+\", \" \", temp)\n",
    "    return temp"
   ]
  },
  {
   "cell_type": "code",
   "execution_count": 2,
   "id": "7ee65664",
   "metadata": {},
   "outputs": [],
   "source": [
    "# Define constants\n",
    "EPOCHS = 5\n",
    "BATCH_SIZE = 16\n",
    "LEARNING_RATE = 1e-5\n",
    "SEED = 4222\n",
    "\n",
    "MODEL_SAVE_PATH = \"Model_3/electra\"\n",
    "MODEL_CHECKPOINT_PATH = \"Model_3/electra_checkpoint\"\n",
    "MODEL_LOGGING_PATH = \"Model_3/electra_checkpoint/logs\""
   ]
  },
  {
   "cell_type": "code",
   "execution_count": 3,
   "id": "c86a1f8a",
   "metadata": {},
   "outputs": [
    {
     "name": "stdout",
     "output_type": "stream",
     "text": [
      "1    6935\n",
      "0    2420\n",
      "Name: label, dtype: int64\n",
      "0    6935\n",
      "1    6935\n",
      "Name: label, dtype: int64\n",
      "['theo walcott is still shit\\\\u c watch rafa and johnny deal with him on saturday.', 'its not that i\\\\u m a gsp fan\\\\u c i just hate nick diaz. can\\\\u t wait for february.', 'iranian general says israel\\\\u s iron dome can\\\\u t deal with their missiles (keep talking like that and we may end up finding out)', 'with j davlar th. main rivals are team poland. hopefully we an make it a successful end to a tough week of training tomorrow.', 'talking about act\\\\u s && sat\\\\u s\\\\u c deciding where i want to go to college\\\\u c applying to colleges and everything about college stresses me out.', 'they may have a superbowl in dallas\\\\u c but dallas ain\\\\u t winning a superbowl. not with that quarterback and owner. ', ' i just watched it! sridevi\\\\u s comeback.... u remember her from the s?? sun mornings on nta ;)', 'one of my best th graders kory was excited after his touchdown today!! he did the victor cruz!!lol ', ' i didnt want to just pop up... but yep we have chapel hill next wednesday you should come.. and shes great ill tell her you asked', ' serge is amazing... like hes actually a god the lanky sex god... i saw kasabian and noel together in august. it was amazing.']\n"
     ]
    }
   ],
   "source": [
    "#oversampling since there are much less negative sentiment tweets than positive or neutral\n",
    "oversample = RandomOverSampler(sampling_strategy='minority', random_state = 17)\n",
    "\n",
    "full_training_data = pd.read_csv('full_training_data_noneutral.csv')\n",
    "X_training_data_imb2 = pd.read_csv('full_training_data_noneutral.csv', usecols = [2])\n",
    "Y_training_data_imb2 = pd.read_csv('full_training_data_noneutral.csv', usecols = [3])\n",
    "\n",
    "X_training_data_over, Y_training_data_over = oversample.fit_resample(X_training_data_imb2, Y_training_data_imb2)\n",
    "\n",
    "\n",
    "\n",
    "label_dict = {}\n",
    "possible_labels = full_training_data.sentiment.unique()\n",
    "\n",
    "for index, possible_label in enumerate(possible_labels):\n",
    "    label_dict[possible_label] = index\n",
    "\n",
    "\n",
    "print(Y_training_data_imb2['label'].value_counts())\n",
    "print(Y_training_data_over['label'].value_counts())\n",
    "\n",
    "X_training_data_over2 = X_training_data_over.tweet_text\n",
    "Y_training_data_over2 = Y_training_data_over.label\n",
    "\n",
    "#preprocessing the tweets\n",
    "\n",
    "X_training_data_over2 = [preprocessing(tweet) for tweet in X_training_data_over2]\n",
    "print(X_training_data_over2[:10])"
   ]
  },
  {
   "cell_type": "code",
   "execution_count": 4,
   "id": "65be5d2d",
   "metadata": {},
   "outputs": [],
   "source": [
    "# Remember to change between imb and over\n",
    "X_training_data_full = X_training_data_over2\n",
    "Y_training_data_full = Y_training_data_over2\n",
    "d = {'Polarity':Y_training_data_full,'text':X_training_data_full}\n",
    "df = pd.DataFrame(data=d)"
   ]
  },
  {
   "cell_type": "code",
   "execution_count": 5,
   "id": "67434fe7",
   "metadata": {},
   "outputs": [],
   "source": [
    "test = pd.read_csv('full_test_data.csv')"
   ]
  },
  {
   "cell_type": "code",
   "execution_count": 6,
   "id": "a73acf70",
   "metadata": {},
   "outputs": [
    {
     "data": {
      "text/html": [
       "<div>\n",
       "<style scoped>\n",
       "    .dataframe tbody tr th:only-of-type {\n",
       "        vertical-align: middle;\n",
       "    }\n",
       "\n",
       "    .dataframe tbody tr th {\n",
       "        vertical-align: top;\n",
       "    }\n",
       "\n",
       "    .dataframe thead th {\n",
       "        text-align: right;\n",
       "    }\n",
       "</style>\n",
       "<table border=\"1\" class=\"dataframe\">\n",
       "  <thead>\n",
       "    <tr style=\"text-align: right;\">\n",
       "      <th></th>\n",
       "      <th>Unnamed: 0</th>\n",
       "      <th>Polarity</th>\n",
       "      <th>text</th>\n",
       "    </tr>\n",
       "  </thead>\n",
       "  <tbody>\n",
       "    <tr>\n",
       "      <th>0</th>\n",
       "      <td>0</td>\n",
       "      <td>1</td>\n",
       "      <td>musical awareness: great big beautiful tomorro...</td>\n",
       "    </tr>\n",
       "    <tr>\n",
       "      <th>1</th>\n",
       "      <td>1</td>\n",
       "      <td>0</td>\n",
       "      <td>kapan sih lo ngebuktiin,jan ngomong doang susa...</td>\n",
       "    </tr>\n",
       "    <tr>\n",
       "      <th>2</th>\n",
       "      <td>2</td>\n",
       "      <td>1</td>\n",
       "      <td>show your love for your local field &amp; it might...</td>\n",
       "    </tr>\n",
       "    <tr>\n",
       "      <th>3</th>\n",
       "      <td>3</td>\n",
       "      <td>1</td>\n",
       "      <td>can you tell me when an update for the apple ...</td>\n",
       "    </tr>\n",
       "    <tr>\n",
       "      <th>4</th>\n",
       "      <td>4</td>\n",
       "      <td>1</td>\n",
       "      <td>the crown, filthy mcnastys, katy dalys or the...</td>\n",
       "    </tr>\n",
       "  </tbody>\n",
       "</table>\n",
       "</div>"
      ],
      "text/plain": [
       "   Unnamed: 0  Polarity                                               text\n",
       "0           0         1  musical awareness: great big beautiful tomorro...\n",
       "1           1         0  kapan sih lo ngebuktiin,jan ngomong doang susa...\n",
       "2           2         1  show your love for your local field & it might...\n",
       "3           3         1   can you tell me when an update for the apple ...\n",
       "4           4         1   the crown, filthy mcnastys, katy dalys or the..."
      ]
     },
     "execution_count": 6,
     "metadata": {},
     "output_type": "execute_result"
    }
   ],
   "source": [
    "test.head()"
   ]
  },
  {
   "cell_type": "code",
   "execution_count": null,
   "id": "8b1b8696",
   "metadata": {},
   "outputs": [],
   "source": [
    "# #preprocessing test data\n",
    "# full_testing_data = pd.read_csv('full_testing_data_noneutral.csv')\n",
    "\n",
    "# X_testing_data_full = full_testing_data.tweet_text\n",
    "# Y_testing_data_full = full_testing_data.label\n",
    "\n",
    "# X_testing_data_full = [preprocessing(tweet) for tweet in X_testing_data_full]\n",
    "# print(X_testing_data_full[:10])"
   ]
  },
  {
   "cell_type": "code",
   "execution_count": null,
   "id": "5eb70bd9",
   "metadata": {},
   "outputs": [],
   "source": [
    "# Split dataset into train, validation and test sets\n",
    "# train, val = train_test_split(df,\n",
    "#                                random_state=SEED,\n",
    "#                                test_size=0.1,\n",
    "#                                stratify=df['Polarity'])"
   ]
  },
  {
   "cell_type": "code",
   "execution_count": 7,
   "id": "f4daa988",
   "metadata": {},
   "outputs": [],
   "source": [
    "# Load ELECTRA tokenizer\n",
    "tokenizer = AutoTokenizer.from_pretrained(\"google/electra-small-discriminator\", do_lower_case = True)"
   ]
  },
  {
   "cell_type": "code",
   "execution_count": 8,
   "id": "3b3a6969",
   "metadata": {},
   "outputs": [],
   "source": [
    "# Import ELECTRA-base pretrained model\n",
    "model = AutoModelForSequenceClassification.from_pretrained(\"Model_2/electra_checkpoint/checkpoint-160500\")"
   ]
  },
  {
   "cell_type": "code",
   "execution_count": 9,
   "id": "779a4a46",
   "metadata": {},
   "outputs": [],
   "source": [
    "def dataset_conversion(train, test):\n",
    "  \"\"\"Converts pandas dataframe to Dataset.\"\"\"\n",
    "\n",
    "  train.reset_index(drop=True, inplace=True)\n",
    "  test.reset_index(drop=True, inplace=True)\n",
    "#   val.reset_index(drop=True, inplace=True)\n",
    "\n",
    "  train_dataset = Dataset.from_pandas(train)\n",
    "  test_dataset = Dataset.from_pandas(test)\n",
    "#   val_dataset = Dataset.from_pandas(val)\n",
    "\n",
    "  return DatasetDict({\"train\": train_dataset,\n",
    "                      \"test\": test_dataset})\n",
    "#                       \"val\": val_dataset})\n",
    "\n",
    "raw_datasets = dataset_conversion(df, test)"
   ]
  },
  {
   "cell_type": "code",
   "execution_count": 10,
   "id": "624cfaf0",
   "metadata": {},
   "outputs": [
    {
     "data": {
      "application/vnd.jupyter.widget-view+json": {
       "model_id": "d390bf3d9fae408f8254841f2057c49e",
       "version_major": 2,
       "version_minor": 0
      },
      "text/plain": [
       "  0%|          | 0/14 [00:00<?, ?ba/s]"
      ]
     },
     "metadata": {},
     "output_type": "display_data"
    },
    {
     "data": {
      "application/vnd.jupyter.widget-view+json": {
       "model_id": "3bd4997cd5664e35b479fc44b0b2684a",
       "version_major": 2,
       "version_minor": 0
      },
      "text/plain": [
       "  0%|          | 0/15 [00:00<?, ?ba/s]"
      ]
     },
     "metadata": {},
     "output_type": "display_data"
    }
   ],
   "source": [
    "def tokenize_function(dataset):\n",
    "    return tokenizer(dataset[\"text\"], padding=\"max_length\", truncation=True)\n",
    "\n",
    "tokenized_datasets = raw_datasets.map(tokenize_function, batched=True)"
   ]
  },
  {
   "cell_type": "code",
   "execution_count": 11,
   "id": "cbb211e3",
   "metadata": {},
   "outputs": [],
   "source": [
    "# Tokenise datasets\n",
    "SAMPLE_SIZE = 20\n",
    "small_train_dataset = tokenized_datasets[\"train\"].shuffle(seed=SEED).select(range(SAMPLE_SIZE))\n",
    "small_test_dataset = tokenized_datasets[\"test\"].shuffle(seed=SEED).select(range(SAMPLE_SIZE))\n",
    "# small_val_dataset = tokenized_datasets[\"val\"].shuffle(seed=SEED).select(range(SAMPLE_SIZE))\n",
    "\n",
    "full_train_dataset = tokenized_datasets[\"train\"]\n",
    "full_test_dataset = tokenized_datasets[\"test\"]\n",
    "# full_val_dataset = tokenized_datasets[\"val\"]"
   ]
  },
  {
   "cell_type": "code",
   "execution_count": 12,
   "id": "7496c8a0",
   "metadata": {},
   "outputs": [],
   "source": [
    "full_train_dataset = full_train_dataset.rename_column(\"Polarity\", \"label\")\n",
    "full_test_dataset = full_test_dataset.rename_column(\"Polarity\", \"label\")\n",
    "# full_val_dataset = full_val_dataset.rename_column(\"Polarity\", \"label\")"
   ]
  },
  {
   "cell_type": "code",
   "execution_count": 13,
   "id": "fde2e323",
   "metadata": {},
   "outputs": [
    {
     "name": "stdout",
     "output_type": "stream",
     "text": [
      "13870\n"
     ]
    }
   ],
   "source": [
    "print(len(full_train_dataset))"
   ]
  },
  {
   "cell_type": "code",
   "execution_count": 14,
   "id": "1ec25f2a",
   "metadata": {},
   "outputs": [],
   "source": [
    "# Define custom metrics for computation\n",
    "def compute_metrics(eval_pred):\n",
    "    metric_acc = load_metric(\"accuracy\")\n",
    "    metric_rec = load_metric(\"recall\")\n",
    "    metric_pre = load_metric(\"precision\")\n",
    "    metric_f1 = load_metric(\"f1\")\n",
    "    \n",
    "    logits, labels = eval_pred\n",
    "    predictions = np.argmax(logits, axis=-1)\n",
    "    \n",
    "    accuracy = metric_acc.compute(predictions=predictions, references=labels)[\"accuracy\"]\n",
    "    recall = metric_rec.compute(predictions=predictions, references=labels)[\"recall\"]\n",
    "    precision = metric_pre.compute(predictions=predictions, references=labels)[\"precision\"]\n",
    "    f1 = metric_f1.compute(predictions=predictions, references=labels)[\"f1\"]\n",
    "\n",
    "    return {\"accuracy\": accuracy, \"recall\": recall, \"precision\": precision, \"f1\": f1}"
   ]
  },
  {
   "cell_type": "code",
   "execution_count": 15,
   "id": "be90d266",
   "metadata": {},
   "outputs": [],
   "source": [
    "BATCH_SIZE = 32"
   ]
  },
  {
   "cell_type": "code",
   "execution_count": 36,
   "id": "74875852",
   "metadata": {},
   "outputs": [
    {
     "name": "stderr",
     "output_type": "stream",
     "text": [
      "loading configuration file Model_3/electra_checkpoint/checkpoint-433/config.json\n",
      "Model config ElectraConfig {\n",
      "  \"_name_or_path\": \"Model_3/electra_checkpoint/checkpoint-433\",\n",
      "  \"architectures\": [\n",
      "    \"ElectraForSequenceClassification\"\n",
      "  ],\n",
      "  \"attention_probs_dropout_prob\": 0.1,\n",
      "  \"classifier_dropout\": null,\n",
      "  \"embedding_size\": 128,\n",
      "  \"hidden_act\": \"gelu\",\n",
      "  \"hidden_dropout_prob\": 0.1,\n",
      "  \"hidden_size\": 256,\n",
      "  \"initializer_range\": 0.02,\n",
      "  \"intermediate_size\": 1024,\n",
      "  \"layer_norm_eps\": 1e-12,\n",
      "  \"max_position_embeddings\": 512,\n",
      "  \"model_type\": \"electra\",\n",
      "  \"num_attention_heads\": 4,\n",
      "  \"num_hidden_layers\": 12,\n",
      "  \"pad_token_id\": 0,\n",
      "  \"position_embedding_type\": \"absolute\",\n",
      "  \"problem_type\": \"single_label_classification\",\n",
      "  \"summary_activation\": \"gelu\",\n",
      "  \"summary_last_dropout\": 0.1,\n",
      "  \"summary_type\": \"first\",\n",
      "  \"summary_use_proj\": true,\n",
      "  \"torch_dtype\": \"float32\",\n",
      "  \"transformers_version\": \"4.18.0\",\n",
      "  \"type_vocab_size\": 2,\n",
      "  \"use_cache\": true,\n",
      "  \"vocab_size\": 30522\n",
      "}\n",
      "\n",
      "loading weights file Model_3/electra_checkpoint/checkpoint-433/pytorch_model.bin\n",
      "All model checkpoint weights were used when initializing ElectraForSequenceClassification.\n",
      "\n",
      "All the weights of ElectraForSequenceClassification were initialized from the model checkpoint at Model_3/electra_checkpoint/checkpoint-433.\n",
      "If your task is similar to the task the model of the checkpoint was trained on, you can already use ElectraForSequenceClassification for predictions without further training.\n"
     ]
    }
   ],
   "source": [
    "# Error occured so again resuming the training from 433 checkpoint\n",
    "model = AutoModelForSequenceClassification.from_pretrained(\"Model_3/electra_checkpoint/checkpoint-433\")"
   ]
  },
  {
   "cell_type": "code",
   "execution_count": 38,
   "id": "a207fb45",
   "metadata": {},
   "outputs": [],
   "source": [
    "EPOCHS = 4"
   ]
  },
  {
   "cell_type": "code",
   "execution_count": 16,
   "id": "fcd88379",
   "metadata": {},
   "outputs": [
    {
     "name": "stderr",
     "output_type": "stream",
     "text": [
      "Using the `WAND_DISABLED` environment variable is deprecated and will be removed in v5. Use the --report_to flag to control the integrations used for logging result (for instance --report_to none).\n"
     ]
    }
   ],
   "source": [
    "# Define model and training parameters\n",
    "training_args = TrainingArguments(\n",
    "    output_dir=MODEL_CHECKPOINT_PATH,\n",
    "    overwrite_output_dir = True,\n",
    "#     report_to = 'wandb',\n",
    "    learning_rate=LEARNING_RATE,\n",
    "    num_train_epochs=EPOCHS,\n",
    "    per_device_train_batch_size=BATCH_SIZE,\n",
    "    per_device_eval_batch_size=BATCH_SIZE,\n",
    "    seed=SEED,\n",
    "    # evaluation_strategy=\"epoch\",\n",
    "    logging_dir=MODEL_LOGGING_PATH,\n",
    "    save_strategy=\"steps\",\n",
    "    save_steps=433\n",
    ")\n",
    "\n",
    "trainer = Trainer(\n",
    "    model=model,\n",
    "    args=training_args,\n",
    "    train_dataset=full_train_dataset,\n",
    "    eval_dataset=full_test_dataset,\n",
    "    tokenizer=tokenizer,\n",
    "    compute_metrics=compute_metrics\n",
    ")"
   ]
  },
  {
   "cell_type": "code",
   "execution_count": 17,
   "id": "c1867c2d",
   "metadata": {},
   "outputs": [
    {
     "name": "stderr",
     "output_type": "stream",
     "text": [
      "The following columns in the training set  don't have a corresponding argument in `ElectraForSequenceClassification.forward` and have been ignored: text. If text are not expected by `ElectraForSequenceClassification.forward`,  you can safely ignore this message.\n",
      "/usr4/cs505/orawal/.local/lib/python3.8/site-packages/transformers/optimization.py:306: FutureWarning: This implementation of AdamW is deprecated and will be removed in a future version. Use the PyTorch implementation torch.optim.AdamW instead, or set `no_deprecation_warning=True` to disable this warning\n",
      "  warnings.warn(\n",
      "***** Running training *****\n",
      "  Num examples = 13870\n",
      "  Num Epochs = 5\n",
      "  Instantaneous batch size per device = 32\n",
      "  Total train batch size (w. parallel, distributed & accumulation) = 32\n",
      "  Gradient Accumulation steps = 1\n",
      "  Total optimization steps = 2170\n"
     ]
    },
    {
     "data": {
      "text/html": [
       "\n",
       "    <div>\n",
       "      \n",
       "      <progress value='2170' max='2170' style='width:300px; height:20px; vertical-align: middle;'></progress>\n",
       "      [2170/2170 07:56, Epoch 5/5]\n",
       "    </div>\n",
       "    <table border=\"1\" class=\"dataframe\">\n",
       "  <thead>\n",
       " <tr style=\"text-align: left;\">\n",
       "      <th>Step</th>\n",
       "      <th>Training Loss</th>\n",
       "    </tr>\n",
       "  </thead>\n",
       "  <tbody>\n",
       "    <tr>\n",
       "      <td>500</td>\n",
       "      <td>0.289300</td>\n",
       "    </tr>\n",
       "    <tr>\n",
       "      <td>1000</td>\n",
       "      <td>0.204100</td>\n",
       "    </tr>\n",
       "    <tr>\n",
       "      <td>1500</td>\n",
       "      <td>0.164000</td>\n",
       "    </tr>\n",
       "    <tr>\n",
       "      <td>2000</td>\n",
       "      <td>0.137000</td>\n",
       "    </tr>\n",
       "  </tbody>\n",
       "</table><p>"
      ],
      "text/plain": [
       "<IPython.core.display.HTML object>"
      ]
     },
     "metadata": {},
     "output_type": "display_data"
    },
    {
     "name": "stderr",
     "output_type": "stream",
     "text": [
      "Saving model checkpoint to Model_3/electra_checkpoint/checkpoint-433\n",
      "Configuration saved in Model_3/electra_checkpoint/checkpoint-433/config.json\n",
      "Model weights saved in Model_3/electra_checkpoint/checkpoint-433/pytorch_model.bin\n",
      "tokenizer config file saved in Model_3/electra_checkpoint/checkpoint-433/tokenizer_config.json\n",
      "Special tokens file saved in Model_3/electra_checkpoint/checkpoint-433/special_tokens_map.json\n",
      "Saving model checkpoint to Model_3/electra_checkpoint/checkpoint-866\n",
      "Configuration saved in Model_3/electra_checkpoint/checkpoint-866/config.json\n",
      "Model weights saved in Model_3/electra_checkpoint/checkpoint-866/pytorch_model.bin\n",
      "tokenizer config file saved in Model_3/electra_checkpoint/checkpoint-866/tokenizer_config.json\n",
      "Special tokens file saved in Model_3/electra_checkpoint/checkpoint-866/special_tokens_map.json\n",
      "Saving model checkpoint to Model_3/electra_checkpoint/checkpoint-1299\n",
      "Configuration saved in Model_3/electra_checkpoint/checkpoint-1299/config.json\n",
      "Model weights saved in Model_3/electra_checkpoint/checkpoint-1299/pytorch_model.bin\n",
      "tokenizer config file saved in Model_3/electra_checkpoint/checkpoint-1299/tokenizer_config.json\n",
      "Special tokens file saved in Model_3/electra_checkpoint/checkpoint-1299/special_tokens_map.json\n",
      "Saving model checkpoint to Model_3/electra_checkpoint/checkpoint-1732\n",
      "Configuration saved in Model_3/electra_checkpoint/checkpoint-1732/config.json\n",
      "Model weights saved in Model_3/electra_checkpoint/checkpoint-1732/pytorch_model.bin\n",
      "tokenizer config file saved in Model_3/electra_checkpoint/checkpoint-1732/tokenizer_config.json\n",
      "Special tokens file saved in Model_3/electra_checkpoint/checkpoint-1732/special_tokens_map.json\n",
      "Saving model checkpoint to Model_3/electra_checkpoint/checkpoint-2165\n",
      "Configuration saved in Model_3/electra_checkpoint/checkpoint-2165/config.json\n",
      "Model weights saved in Model_3/electra_checkpoint/checkpoint-2165/pytorch_model.bin\n",
      "tokenizer config file saved in Model_3/electra_checkpoint/checkpoint-2165/tokenizer_config.json\n",
      "Special tokens file saved in Model_3/electra_checkpoint/checkpoint-2165/special_tokens_map.json\n",
      "\n",
      "\n",
      "Training completed. Do not forget to share your model on huggingface.co/models =)\n",
      "\n",
      "\n"
     ]
    },
    {
     "data": {
      "text/plain": [
       "TrainOutput(global_step=2170, training_loss=0.1939410126154324, metrics={'train_runtime': 476.4974, 'train_samples_per_second': 145.541, 'train_steps_per_second': 4.554, 'total_flos': 2040252091699200.0, 'train_loss': 0.1939410126154324, 'epoch': 5.0})"
      ]
     },
     "execution_count": 17,
     "metadata": {},
     "output_type": "execute_result"
    }
   ],
   "source": [
    "trainer.train()"
   ]
  },
  {
   "cell_type": "code",
   "execution_count": 18,
   "id": "fcef9957",
   "metadata": {},
   "outputs": [
    {
     "data": {
      "text/plain": [
       "[{'loss': 0.2893,\n",
       "  'learning_rate': 7.695852534562212e-06,\n",
       "  'epoch': 1.15,\n",
       "  'step': 500},\n",
       " {'loss': 0.2041,\n",
       "  'learning_rate': 5.391705069124424e-06,\n",
       "  'epoch': 2.3,\n",
       "  'step': 1000},\n",
       " {'loss': 0.164,\n",
       "  'learning_rate': 3.087557603686636e-06,\n",
       "  'epoch': 3.46,\n",
       "  'step': 1500},\n",
       " {'loss': 0.137,\n",
       "  'learning_rate': 7.834101382488479e-07,\n",
       "  'epoch': 4.61,\n",
       "  'step': 2000},\n",
       " {'train_runtime': 476.4974,\n",
       "  'train_samples_per_second': 145.541,\n",
       "  'train_steps_per_second': 4.554,\n",
       "  'total_flos': 2040252091699200.0,\n",
       "  'train_loss': 0.1939410126154324,\n",
       "  'epoch': 5.0,\n",
       "  'step': 2170}]"
      ]
     },
     "execution_count": 18,
     "metadata": {},
     "output_type": "execute_result"
    }
   ],
   "source": [
    "trainer.state.log_history"
   ]
  },
  {
   "cell_type": "code",
   "execution_count": 19,
   "id": "2f5df0fa",
   "metadata": {},
   "outputs": [
    {
     "name": "stderr",
     "output_type": "stream",
     "text": [
      "The following columns in the test set  don't have a corresponding argument in `ElectraForSequenceClassification.forward` and have been ignored: Unnamed: 0, text. If Unnamed: 0, text are not expected by `ElectraForSequenceClassification.forward`,  you can safely ignore this message.\n",
      "***** Running Prediction *****\n",
      "  Num examples = 14908\n",
      "  Batch size = 32\n"
     ]
    },
    {
     "data": {
      "text/html": [
       "\n",
       "    <div>\n",
       "      \n",
       "      <progress value='466' max='466' style='width:300px; height:20px; vertical-align: middle;'></progress>\n",
       "      [466/466 00:37]\n",
       "    </div>\n",
       "    "
      ],
      "text/plain": [
       "<IPython.core.display.HTML object>"
      ]
     },
     "metadata": {},
     "output_type": "display_data"
    }
   ],
   "source": [
    "predictions = trainer.predict(full_test_dataset)"
   ]
  },
  {
   "cell_type": "code",
   "execution_count": 20,
   "id": "3935675d",
   "metadata": {},
   "outputs": [
    {
     "name": "stdout",
     "output_type": "stream",
     "text": [
      "PredictionOutput(predictions=array([[-1.3758761,  1.238755 ],\n",
      "       [ 1.2941712, -1.2746354],\n",
      "       [-3.5365274,  3.253805 ],\n",
      "       ...,\n",
      "       [-3.6035192,  3.3570707],\n",
      "       [ 1.1570964, -1.1871762],\n",
      "       [ 1.2365952, -1.2137597]], dtype=float32), label_ids=array([1, 0, 1, ..., 1, 1, 0]), metrics={'test_loss': 0.29812321066856384, 'test_accuracy': 0.9026697075395761, 'test_recall': 0.9043783169067475, 'test_precision': 0.9557336004006008, 'test_f1': 0.9293470321858109, 'test_runtime': 39.3854, 'test_samples_per_second': 378.516, 'test_steps_per_second': 11.832})\n"
     ]
    }
   ],
   "source": [
    "print(predictions)"
   ]
  },
  {
   "cell_type": "code",
   "execution_count": 21,
   "id": "80826abe",
   "metadata": {},
   "outputs": [],
   "source": [
    "logits = predictions.predictions\n",
    "predicted_val = np.argmax(logits, axis=-1)\n",
    "true_vals = predictions.label_ids"
   ]
  },
  {
   "cell_type": "code",
   "execution_count": 22,
   "id": "a143e097",
   "metadata": {},
   "outputs": [
    {
     "name": "stdout",
     "output_type": "stream",
     "text": [
      "Confusion matrix is: \n",
      "\n",
      "[[3914  442]\n",
      " [1009 9543]]\n"
     ]
    }
   ],
   "source": [
    "cf_matrix = confusion_matrix(true_vals,predicted_val)\n",
    "print(\"Confusion matrix is: \\n\")\n",
    "print(cf_matrix)"
   ]
  },
  {
   "cell_type": "code",
   "execution_count": 23,
   "id": "f620b9e9",
   "metadata": {},
   "outputs": [
    {
     "data": {
      "image/png": "[encoded data removed]",
      "text/plain": [
       "<Figure size 1080x540 with 2 Axes>"
      ]
     },
     "metadata": {
      "needs_background": "light"
     },
     "output_type": "display_data"
    }
   ],
   "source": [
    "import seaborn as sns\n",
    "plt.figure(figsize=(15, 7.5))\n",
    "\n",
    "cf_matrix = cf_matrix.astype('float') / cf_matrix.sum(axis=1)[:, np.newaxis]\n",
    "\n",
    "ax = sns.heatmap(cf_matrix, annot=True, cmap='Blues')\n",
    "\n",
    "ax.set_title('Seaborn Confusion Matrix with labels\\n\\n');\n",
    "ax.set_xlabel('\\nPredicted Values')\n",
    "ax.set_ylabel('Actual Values ');\n",
    "\n",
    "## Ticket labels - List must be in alphabetical order\n",
    "ax.xaxis.set_ticklabels(['False','True'])\n",
    "ax.yaxis.set_ticklabels(['False','True'])\n",
    "\n",
    "plt.savefig('NoisyConfusionPlot.png')\n",
    "## Display the visualization of the Confusion Matrix.\n",
    "plt.show()"
   ]
  },
  {
   "cell_type": "code",
   "execution_count": 24,
   "id": "2ae5c3c9",
   "metadata": {},
   "outputs": [
    {
     "name": "stdout",
     "output_type": "stream",
     "text": [
      "Weighted F1 score is : \n",
      " \n",
      "0.9042998447391035\n"
     ]
    }
   ],
   "source": [
    "print(\"Weighted F1 score is : \\n \")\n",
    "print(f1_score(true_vals,predicted_val,average='weighted'))"
   ]
  },
  {
   "cell_type": "code",
   "execution_count": 25,
   "id": "c5fb2e64",
   "metadata": {},
   "outputs": [],
   "source": [
    "def accuracy_per_class(preds, labels):\n",
    "    label_dict = {'Negative' : 0 , 'Positive' : 1}\n",
    "    label_dict_inverse = {v: k for k, v in label_dict.items()}\n",
    "    \n",
    "    #make prediction\n",
    "    preds_flat = preds.flatten()\n",
    "    labels_flat = labels.flatten()\n",
    "    \n",
    "    for label in np.unique(labels_flat):\n",
    "        y_preds = preds_flat[labels_flat==label]\n",
    "        y_true = labels_flat[labels_flat==label]\n",
    "        print(f'Class: {label_dict_inverse[label]}')\n",
    "        print(f'Accuracy:{len(y_preds[y_preds==label])}/{len(y_true)}\\n')\n",
    "    \n",
    "    print(f'Total accuracy is : {accuracy_score(labels_flat,preds_flat)}\\n')\n",
    "    \n",
    "    return accuracy_score(labels_flat,preds_flat)"
   ]
  },
  {
   "cell_type": "code",
   "execution_count": 26,
   "id": "c5fb6311",
   "metadata": {},
   "outputs": [
    {
     "name": "stdout",
     "output_type": "stream",
     "text": [
      "Class: Negative\n",
      "Accuracy:3914/4356\n",
      "\n",
      "Class: Positive\n",
      "Accuracy:9543/10552\n",
      "\n",
      "Total accuracy is : 0.9026697075395761\n",
      "\n"
     ]
    },
    {
     "data": {
      "text/plain": [
       "0.9026697075395761"
      ]
     },
     "execution_count": 26,
     "metadata": {},
     "output_type": "execute_result"
    }
   ],
   "source": [
    "accuracy_per_class(predicted_val, true_vals)"
   ]
  },
  {
   "cell_type": "markdown",
   "id": "904a02d8",
   "metadata": {},
   "source": [
    "# Final accuracy is 0.902 and weighted F1 score is 0.904"
   ]
  },
  {
   "cell_type": "code",
   "execution_count": null,
   "id": "4c06e490",
   "metadata": {},
   "outputs": [],
   "source": []
  }
 ],
 "metadata": {
  "kernelspec": {
   "display_name": "Python 3",
   "language": "python",
   "name": "python3"
  },
  "language_info": {
   "codemirror_mode": {
    "name": "ipython",
    "version": 3
   },
   "file_extension": ".py",
   "mimetype": "text/x-python",
   "name": "python",
   "nbconvert_exporter": "python",
   "pygments_lexer": "ipython3",
   "version": "3.8.10"
  }
 },
 "nbformat": 4,
 "nbformat_minor": 5
}
