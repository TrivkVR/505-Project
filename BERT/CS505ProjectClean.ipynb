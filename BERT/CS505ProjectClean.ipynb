{
 "cells": [
  {
   "cell_type": "code",
   "execution_count": 29,
   "id": "add1022b",
   "metadata": {},
   "outputs": [],
   "source": [
    "import numpy as np\n",
    "import pandas as pd\n",
    "import seaborn as sns\n",
    "import torch\n",
    "from transformers import pipeline, BertTokenizer, BertForSequenceClassification\n",
    "import matplotlib.pyplot as plt\n",
    "from torch.utils.data import TensorDataset\n",
    "from torch.utils.data import DataLoader, RandomSampler, SequentialSampler\n",
    "from transformers import AdamW, get_linear_schedule_with_warmup\n",
    "from tqdm import tqdm\n",
    "import imblearn\n",
    "from imblearn.over_sampling import RandomOverSampler\n",
    "from sklearn.metrics import f1_score\n",
    "import re"
   ]
  },
  {
   "cell_type": "code",
   "execution_count": 54,
   "id": "6f193ee9",
   "metadata": {},
   "outputs": [],
   "source": [
    "#read the train and test data\n",
    "prefix = '2017_English_final/GOLD/Subtask_A/'\n",
    "train2013 = pd.read_csv(prefix + 'twitter-2013train-A.txt', header=0, sep = '\\t', usecols = [1,2], names = ['sentiment', 'tweet_text'])\n",
    "train2014 = pd.read_csv(prefix + 'twitter-2014sarcasm-A.txt', header=0, sep = '\\t', usecols = [1,2], names = ['sentiment', 'tweet_text'])\n",
    "train2015 = pd.read_csv(prefix + 'twitter-2015train-A.txt', header=0, sep = '\\t', usecols = [1,2], names = ['sentiment', 'tweet_text'])\n",
    "train2016 = pd.read_csv(prefix + 'twitter-2016train-A.txt', header=0, sep = '\\t', usecols = [1,2], names = ['sentiment', 'tweet_text'])\n",
    "\n",
    "test2013 = pd.read_csv(prefix + 'twitter-2013test-A.txt', header=0, sep = '\\t', usecols = [1,2],  names = ['sentiment', 'tweet_text'])\n",
    "test2014 = pd.read_csv(prefix + 'twitter-2014test-A.txt', header=0, sep = '\\t', usecols = [1,2], names = ['sentiment', 'tweet_text'])\n",
    "test2015 = pd.read_csv(prefix + 'twitter-2015test-A.txt', header=0, sep = '\\t', usecols = [1,2], names = ['sentiment', 'tweet_text'])\n",
    "test2016 = pd.read_csv(prefix + 'twitter-2016test-A.txt', header=0, sep = '\\t', usecols = [1,2], names = ['sentiment', 'tweet_text'])\n",
    "\n",
    "traindf = pd.concat([train2013, train2014, train2015, train2016], ignore_index=True)\n",
    "testdf = pd.concat([test2013, test2014, test2015, test2016], ignore_index=True)"
   ]
  },
  {
   "cell_type": "code",
   "execution_count": 55,
   "id": "58a9383c",
   "metadata": {},
   "outputs": [
    {
     "name": "stderr",
     "output_type": "stream",
     "text": [
      "/share/pkg.7/python3/3.8.10/install/lib/python3.8/site-packages/seaborn/_decorators.py:36: FutureWarning: Pass the following variable as a keyword arg: x. From version 0.12, the only valid positional argument will be `data`, and passing other arguments without an explicit keyword will result in an error or misinterpretation.\n",
      "  warnings.warn(\n"
     ]
    },
    {
     "data": {
      "text/plain": [
       "Text(0.5, 0, 'Sentiment')"
      ]
     },
     "execution_count": 55,
     "metadata": {},
     "output_type": "execute_result"
    },
    {
     "data": {
      "image/png": "[encoded data removed]",
      "text/plain": [
       "<Figure size 432x288 with 1 Axes>"
      ]
     },
     "metadata": {
      "needs_background": "light"
     },
     "output_type": "display_data"
    }
   ],
   "source": [
    "sns.countplot(traindf.sentiment)\n",
    "\n",
    "plt.xlabel('Sentiment')"
   ]
  },
  {
   "cell_type": "code",
   "execution_count": 56,
   "id": "e0b67c84",
   "metadata": {},
   "outputs": [
    {
     "name": "stdout",
     "output_type": "stream",
     "text": [
      "16250 28418\n",
      "9355 14908\n"
     ]
    }
   ],
   "source": [
    "def preprocessing(tweet):\n",
    "    temp = tweet.lower()\n",
    "    temp = re.sub('@[A-Za-z]+[A-Za-z0-9-_]+', ' ', temp)\n",
    "    temp = re.sub(r'https\\S+', '', temp)\n",
    "    temp = re.sub(r'http\\S+', '', temp)\n",
    "    temp = re.sub(\"[0-9]\", \" \", temp)\n",
    "    temp = re.sub(\"\\s\\s+\", \" \", temp)\n",
    "    return temp\n",
    "\n",
    "print(len(traindf), len(testdf))\n",
    "\n",
    "\n",
    "traindf = traindf.drop(traindf[traindf.sentiment == 'neutral'].index)\n",
    "testdf = testdf.drop(testdf[testdf.sentiment == 'neutral'].index)\n",
    "\n",
    "print(len(traindf), len(testdf))"
   ]
  },
  {
   "cell_type": "code",
   "execution_count": 57,
   "id": "c2bb7cdb",
   "metadata": {},
   "outputs": [],
   "source": [
    "possible_labels = traindf.sentiment.unique()\n",
    "label_dict = {}\n",
    "for index, possible_label in enumerate(possible_labels):\n",
    "    label_dict[possible_label] = index\n",
    "\n",
    "traindf['label'] = traindf.sentiment.replace(label_dict)\n",
    "testdf['label'] = testdf.sentiment.replace(label_dict)\n",
    "\n",
    "\n",
    "traindf.to_csv(\"full_training_data_noneutral.csv\",index=True)\n",
    "testdf.to_csv(\"full_testing_data_noneutral.csv\",index=True)"
   ]
  },
  {
   "cell_type": "code",
   "execution_count": 94,
   "id": "051cdc54",
   "metadata": {},
   "outputs": [
    {
     "data": {
      "text/plain": [
       "{'negative': 0, 'positive': 1}"
      ]
     },
     "execution_count": 94,
     "metadata": {},
     "output_type": "execute_result"
    }
   ],
   "source": [
    "label_dict"
   ]
  },
  {
   "cell_type": "code",
   "execution_count": 58,
   "id": "48caf484",
   "metadata": {},
   "outputs": [
    {
     "data": {
      "text/html": [
       "<div>\n",
       "<style scoped>\n",
       "    .dataframe tbody tr th:only-of-type {\n",
       "        vertical-align: middle;\n",
       "    }\n",
       "\n",
       "    .dataframe tbody tr th {\n",
       "        vertical-align: top;\n",
       "    }\n",
       "\n",
       "    .dataframe thead th {\n",
       "        text-align: right;\n",
       "    }\n",
       "</style>\n",
       "<table border=\"1\" class=\"dataframe\">\n",
       "  <thead>\n",
       "    <tr style=\"text-align: right;\">\n",
       "      <th></th>\n",
       "      <th>Unnamed: 0</th>\n",
       "      <th>sentiment</th>\n",
       "      <th>tweet_text</th>\n",
       "      <th>label</th>\n",
       "    </tr>\n",
       "  </thead>\n",
       "  <tbody>\n",
       "    <tr>\n",
       "      <th>0</th>\n",
       "      <td>0</td>\n",
       "      <td>negative</td>\n",
       "      <td>Theo Walcott is still shit\\u002c watch Rafa an...</td>\n",
       "      <td>0</td>\n",
       "    </tr>\n",
       "    <tr>\n",
       "      <th>1</th>\n",
       "      <td>1</td>\n",
       "      <td>negative</td>\n",
       "      <td>its not that I\\u2019m a GSP fan\\u002c i just h...</td>\n",
       "      <td>0</td>\n",
       "    </tr>\n",
       "    <tr>\n",
       "      <th>2</th>\n",
       "      <td>2</td>\n",
       "      <td>negative</td>\n",
       "      <td>Iranian general says Israel\\u2019s Iron Dome c...</td>\n",
       "      <td>0</td>\n",
       "    </tr>\n",
       "    <tr>\n",
       "      <th>3</th>\n",
       "      <td>5</td>\n",
       "      <td>positive</td>\n",
       "      <td>with J Davlar 11th. Main rivals are team Polan...</td>\n",
       "      <td>1</td>\n",
       "    </tr>\n",
       "    <tr>\n",
       "      <th>4</th>\n",
       "      <td>6</td>\n",
       "      <td>negative</td>\n",
       "      <td>Talking about ACT\\u2019s &amp;&amp; SAT\\u2019s\\u002c d...</td>\n",
       "      <td>0</td>\n",
       "    </tr>\n",
       "  </tbody>\n",
       "</table>\n",
       "</div>"
      ],
      "text/plain": [
       "   Unnamed: 0 sentiment                                         tweet_text  \\\n",
       "0           0  negative  Theo Walcott is still shit\\u002c watch Rafa an...   \n",
       "1           1  negative  its not that I\\u2019m a GSP fan\\u002c i just h...   \n",
       "2           2  negative  Iranian general says Israel\\u2019s Iron Dome c...   \n",
       "3           5  positive  with J Davlar 11th. Main rivals are team Polan...   \n",
       "4           6  negative  Talking about ACT\\u2019s && SAT\\u2019s\\u002c d...   \n",
       "\n",
       "   label  \n",
       "0      0  \n",
       "1      0  \n",
       "2      0  \n",
       "3      1  \n",
       "4      0  "
      ]
     },
     "execution_count": 58,
     "metadata": {},
     "output_type": "execute_result"
    }
   ],
   "source": [
    "#without oversampling\n",
    "full_training_data = pd.read_csv('full_training_data_noneutral.csv')\n",
    "\n",
    "\n",
    "X_training_data_imb = full_training_data.tweet_text\n",
    "Y_training_data_imb = full_training_data.label\n",
    "full_training_data.head()"
   ]
  },
  {
   "cell_type": "code",
   "execution_count": 59,
   "id": "777466fa",
   "metadata": {},
   "outputs": [
    {
     "name": "stdout",
     "output_type": "stream",
     "text": [
      "1    6935\n",
      "0    2420\n",
      "Name: label, dtype: int64\n",
      "0    6935\n",
      "1    6935\n",
      "Name: label, dtype: int64\n",
      "['theo walcott is still shit\\\\u c watch rafa and johnny deal with him on saturday.', 'its not that i\\\\u m a gsp fan\\\\u c i just hate nick diaz. can\\\\u t wait for february.', 'iranian general says israel\\\\u s iron dome can\\\\u t deal with their missiles (keep talking like that and we may end up finding out)', 'with j davlar th. main rivals are team poland. hopefully we an make it a successful end to a tough week of training tomorrow.', 'talking about act\\\\u s && sat\\\\u s\\\\u c deciding where i want to go to college\\\\u c applying to colleges and everything about college stresses me out.', 'they may have a superbowl in dallas\\\\u c but dallas ain\\\\u t winning a superbowl. not with that quarterback and owner. ', ' i just watched it! sridevi\\\\u s comeback.... u remember her from the s?? sun mornings on nta ;)', 'one of my best th graders kory was excited after his touchdown today!! he did the victor cruz!!lol ', ' i didnt want to just pop up... but yep we have chapel hill next wednesday you should come.. and shes great ill tell her you asked', ' serge is amazing... like hes actually a god the lanky sex god... i saw kasabian and noel together in august. it was amazing.']\n"
     ]
    }
   ],
   "source": [
    "#oversampling since there are much less negative sentiment tweets than positive or neutral\n",
    "oversample = RandomOverSampler(sampling_strategy='minority', random_state = 17)\n",
    "\n",
    "X_training_data_imb2 = pd.read_csv('full_training_data_noneutral.csv', usecols = [2])\n",
    "Y_training_data_imb2 = pd.read_csv('full_training_data_noneutral.csv', usecols = [3])\n",
    "\n",
    "X_training_data_over, Y_training_data_over = oversample.fit_resample(X_training_data_imb2, Y_training_data_imb2)\n",
    "\n",
    "\n",
    "print(Y_training_data_imb2['label'].value_counts())\n",
    "print(Y_training_data_over['label'].value_counts())\n",
    "\n",
    "X_training_data_over2 = X_training_data_over.tweet_text\n",
    "Y_training_data_over2 = Y_training_data_over.label\n",
    "\n",
    "#preprocessing the tweets\n",
    "\n",
    "X_training_data_over2 = [preprocessing(tweet) for tweet in X_training_data_over2]\n",
    "print(X_training_data_over2[:10])"
   ]
  },
  {
   "cell_type": "code",
   "execution_count": 60,
   "id": "3f997594",
   "metadata": {},
   "outputs": [],
   "source": [
    "# Remember to change between imb and over\n",
    "X_training_data_full = X_training_data_over2\n",
    "Y_training_data_full = Y_training_data_over2"
   ]
  },
  {
   "cell_type": "code",
   "execution_count": 61,
   "id": "c4cab796",
   "metadata": {},
   "outputs": [],
   "source": [
    "tokenizer = BertTokenizer.from_pretrained('bert-base-uncased', do_lower_case = True)"
   ]
  },
  {
   "cell_type": "code",
   "execution_count": 62,
   "id": "347a4022",
   "metadata": {},
   "outputs": [
    {
     "name": "stderr",
     "output_type": "stream",
     "text": [
      "/usr4/cs505/tmei/.local/lib/python3.8/site-packages/transformers/tokenization_utils_base.py:2271: FutureWarning: The `pad_to_max_length` argument is deprecated and will be removed in a future version, use `padding=True` or `padding='longest'` to pad to the longest sequence in the batch, or use `padding='max_length'` to pad to a max length. In this case, you can give a specific length with `max_length` (e.g. `max_length=45`) or leave max_length to None to pad to the maximal input size of the model (e.g. 512 for Bert).\n",
      "  warnings.warn(\n"
     ]
    }
   ],
   "source": [
    "#encode train\n",
    "encoded_data_train = tokenizer.batch_encode_plus(X_training_data_full,\n",
    "                                                add_special_tokens = True,\n",
    "                                                return_attention_mask = True,\n",
    "                                                pad_to_max_length = True,\n",
    "                                                return_tensors = 'pt')\n",
    "\n",
    "input_ids_train = encoded_data_train['input_ids']\n",
    "attention_masks_train = encoded_data_train['attention_mask']\n",
    "labels_train = torch.tensor(Y_training_data_full)\n"
   ]
  },
  {
   "cell_type": "code",
   "execution_count": 63,
   "id": "77466778",
   "metadata": {},
   "outputs": [
    {
     "name": "stderr",
     "output_type": "stream",
     "text": [
      "Some weights of the model checkpoint at bert-base-uncased were not used when initializing BertForSequenceClassification: ['cls.seq_relationship.bias', 'cls.predictions.transform.dense.weight', 'cls.predictions.bias', 'cls.seq_relationship.weight', 'cls.predictions.decoder.weight', 'cls.predictions.transform.LayerNorm.weight', 'cls.predictions.transform.dense.bias', 'cls.predictions.transform.LayerNorm.bias']\n",
      "- This IS expected if you are initializing BertForSequenceClassification from the checkpoint of a model trained on another task or with another architecture (e.g. initializing a BertForSequenceClassification model from a BertForPreTraining model).\n",
      "- This IS NOT expected if you are initializing BertForSequenceClassification from the checkpoint of a model that you expect to be exactly identical (initializing a BertForSequenceClassification model from a BertForSequenceClassification model).\n",
      "Some weights of BertForSequenceClassification were not initialized from the model checkpoint at bert-base-uncased and are newly initialized: ['classifier.bias', 'classifier.weight']\n",
      "You should probably TRAIN this model on a down-stream task to be able to use it for predictions and inference.\n"
     ]
    }
   ],
   "source": [
    "model = BertForSequenceClassification.from_pretrained('bert-base-uncased',\n",
    "                                                      num_labels = len(label_dict),\n",
    "                                                      output_attentions = False,\n",
    "                                                      output_hidden_states = False)"
   ]
  },
  {
   "cell_type": "code",
   "execution_count": 64,
   "id": "f1f64539",
   "metadata": {},
   "outputs": [],
   "source": [
    "#train set\n",
    "dataset_train = TensorDataset(input_ids_train, attention_masks_train, labels_train)\n",
    "\n",
    "batch_size = 32\n",
    "#train set\n",
    "dataloader_train = DataLoader(dataset_train, sampler = RandomSampler(dataset_train), batch_size = batch_size)"
   ]
  },
  {
   "cell_type": "code",
   "execution_count": 65,
   "id": "148361af",
   "metadata": {},
   "outputs": [
    {
     "name": "stderr",
     "output_type": "stream",
     "text": [
      "/usr4/cs505/tmei/.local/lib/python3.8/site-packages/transformers/optimization.py:306: FutureWarning: This implementation of AdamW is deprecated and will be removed in a future version. Use the PyTorch implementation torch.optim.AdamW instead, or set `no_deprecation_warning=True` to disable this warning\n",
      "  warnings.warn(\n"
     ]
    }
   ],
   "source": [
    "optimizer = AdamW(model.parameters(),\n",
    "                 lr = 1e-5,\n",
    "                 eps = 1e-8) #2e-5 > 5e-5\n",
    "                 \n",
    "epochs = 10\n",
    "\n",
    "scheduler = get_linear_schedule_with_warmup(optimizer,\n",
    "                                           num_warmup_steps = 0,\n",
    "                                           num_training_steps = len(dataloader_train)*epochs)\n"
   ]
  },
  {
   "cell_type": "code",
   "execution_count": 66,
   "id": "35c6db64",
   "metadata": {},
   "outputs": [],
   "source": [
    "#set seed and device\n",
    "import random\n",
    "\n",
    "seed_val = 17\n",
    "random.seed(seed_val)\n",
    "np.random.seed(seed_val)\n",
    "torch.manual_seed(seed_val)\n",
    "torch.cuda.manual_seed_all(seed_val)\n",
    "\n",
    "device = torch.device(\"cuda\")"
   ]
  },
  {
   "cell_type": "code",
   "execution_count": 72,
   "id": "68704f1c",
   "metadata": {
    "scrolled": true
   },
   "outputs": [
    {
     "name": "stderr",
     "output_type": "stream",
     "text": [
      "  0%|          | 0/10 [00:54<?, ?it/s]"
     ]
    },
    {
     "name": "stdout",
     "output_type": "stream",
     "text": [
      "Epoch 1\n",
      "Training loss: 0.3173873992593882\n"
     ]
    },
    {
     "name": "stderr",
     "output_type": "stream",
     "text": [
      "\r",
      " 10%|█         | 1/10 [01:10<10:33, 70.42s/it]"
     ]
    },
    {
     "name": "stdout",
     "output_type": "stream",
     "text": [
      "Validation loss: 0.20874911988785594\n",
      "Class: negative\n",
      "Accuracy:3657/4356 83.95316804407713%\n",
      "Class: positive\n",
      "Accuracy:10062/10552 95.35633055344958%\n"
     ]
    },
    {
     "name": "stderr",
     "output_type": "stream",
     "text": [
      " 10%|█         | 1/10 [02:05<10:33, 70.42s/it]"
     ]
    },
    {
     "name": "stdout",
     "output_type": "stream",
     "text": [
      "Epoch 2\n",
      "Training loss: 0.13520133267864928\n"
     ]
    },
    {
     "name": "stderr",
     "output_type": "stream",
     "text": [
      "\r",
      " 20%|██        | 2/10 [02:20<09:24, 70.51s/it]"
     ]
    },
    {
     "name": "stdout",
     "output_type": "stream",
     "text": [
      "Validation loss: 0.27436043283414463\n",
      "Class: negative\n",
      "Accuracy:3709/4356 85.14692378328742%\n",
      "Class: positive\n",
      "Accuracy:9946/10552 94.25701288855194%\n"
     ]
    },
    {
     "name": "stderr",
     "output_type": "stream",
     "text": [
      " 20%|██        | 2/10 [03:15<09:24, 70.51s/it]"
     ]
    },
    {
     "name": "stdout",
     "output_type": "stream",
     "text": [
      "Epoch 3\n",
      "Training loss: 0.06535056155107374\n"
     ]
    },
    {
     "name": "stderr",
     "output_type": "stream",
     "text": [
      "\r",
      " 30%|███       | 3/10 [03:31<08:13, 70.52s/it]"
     ]
    },
    {
     "name": "stdout",
     "output_type": "stream",
     "text": [
      "Validation loss: 0.3769697798863193\n",
      "Class: negative\n",
      "Accuracy:3600/4356 82.64462809917356%\n",
      "Class: positive\n",
      "Accuracy:10057/10552 95.30894617134193%\n"
     ]
    },
    {
     "name": "stderr",
     "output_type": "stream",
     "text": [
      " 30%|███       | 3/10 [04:26<08:13, 70.52s/it]"
     ]
    },
    {
     "name": "stdout",
     "output_type": "stream",
     "text": [
      "Epoch 4\n",
      "Training loss: 0.041563640578761524\n"
     ]
    },
    {
     "name": "stderr",
     "output_type": "stream",
     "text": [
      "\r",
      " 40%|████      | 4/10 [04:42<07:03, 70.51s/it]"
     ]
    },
    {
     "name": "stdout",
     "output_type": "stream",
     "text": [
      "Validation loss: 0.42227699761598697\n",
      "Class: negative\n",
      "Accuracy:3510/4356 80.57851239669421%\n",
      "Class: positive\n",
      "Accuracy:10107/10552 95.78278999241849%\n"
     ]
    },
    {
     "name": "stderr",
     "output_type": "stream",
     "text": [
      " 40%|████      | 4/10 [05:36<07:03, 70.51s/it]"
     ]
    },
    {
     "name": "stdout",
     "output_type": "stream",
     "text": [
      "Epoch 5\n",
      "Training loss: 0.025635446164561735\n"
     ]
    },
    {
     "name": "stderr",
     "output_type": "stream",
     "text": [
      "\r",
      " 50%|█████     | 5/10 [05:52<05:52, 70.45s/it]"
     ]
    },
    {
     "name": "stdout",
     "output_type": "stream",
     "text": [
      "Validation loss: 0.4883773777133769\n",
      "Class: negative\n",
      "Accuracy:3473/4356 79.72910927456383%\n",
      "Class: positive\n",
      "Accuracy:10133/10552 96.02918877937832%\n"
     ]
    },
    {
     "name": "stderr",
     "output_type": "stream",
     "text": [
      " 50%|█████     | 5/10 [06:47<05:52, 70.45s/it]"
     ]
    },
    {
     "name": "stdout",
     "output_type": "stream",
     "text": [
      "Epoch 6\n",
      "Training loss: 0.015787290641166213\n"
     ]
    },
    {
     "name": "stderr",
     "output_type": "stream",
     "text": [
      "\r",
      " 60%|██████    | 6/10 [07:02<04:41, 70.46s/it]"
     ]
    },
    {
     "name": "stdout",
     "output_type": "stream",
     "text": [
      "Validation loss: 0.5177093008548109\n",
      "Class: negative\n",
      "Accuracy:3555/4356 81.61157024793388%\n",
      "Class: positive\n",
      "Accuracy:10071/10552 95.44162244124337%\n"
     ]
    },
    {
     "name": "stderr",
     "output_type": "stream",
     "text": [
      " 60%|██████    | 6/10 [07:57<04:41, 70.46s/it]"
     ]
    },
    {
     "name": "stdout",
     "output_type": "stream",
     "text": [
      "Epoch 7\n",
      "Training loss: 0.01418371703763399\n"
     ]
    },
    {
     "name": "stderr",
     "output_type": "stream",
     "text": [
      "\r",
      " 70%|███████   | 7/10 [08:13<03:31, 70.41s/it]"
     ]
    },
    {
     "name": "stdout",
     "output_type": "stream",
     "text": [
      "Validation loss: 0.5353993158710669\n",
      "Class: negative\n",
      "Accuracy:3675/4356 84.366391184573%\n",
      "Class: positive\n",
      "Accuracy:9974/10552 94.52236542835482%\n"
     ]
    },
    {
     "name": "stderr",
     "output_type": "stream",
     "text": [
      " 70%|███████   | 7/10 [09:07<03:31, 70.41s/it]"
     ]
    },
    {
     "name": "stdout",
     "output_type": "stream",
     "text": [
      "Epoch 8\n",
      "Training loss: 0.008724700511680767\n"
     ]
    },
    {
     "name": "stderr",
     "output_type": "stream",
     "text": [
      "\r",
      " 80%|████████  | 8/10 [09:23<02:20, 70.39s/it]"
     ]
    },
    {
     "name": "stdout",
     "output_type": "stream",
     "text": [
      "Validation loss: 0.5320553361949593\n",
      "Class: negative\n",
      "Accuracy:3649/4356 83.76951331496785%\n",
      "Class: positive\n",
      "Accuracy:10022/10552 94.97725549658831%\n"
     ]
    },
    {
     "name": "stderr",
     "output_type": "stream",
     "text": [
      " 80%|████████  | 8/10 [10:18<02:20, 70.39s/it]"
     ]
    },
    {
     "name": "stdout",
     "output_type": "stream",
     "text": [
      "Epoch 9\n",
      "Training loss: 0.00589367861854538\n"
     ]
    },
    {
     "name": "stderr",
     "output_type": "stream",
     "text": [
      "\r",
      " 90%|█████████ | 9/10 [10:33<01:10, 70.37s/it]"
     ]
    },
    {
     "name": "stdout",
     "output_type": "stream",
     "text": [
      "Validation loss: 0.5555228858199952\n",
      "Class: negative\n",
      "Accuracy:3613/4356 82.94306703397612%\n",
      "Class: positive\n",
      "Accuracy:10028/10552 95.03411675511751%\n"
     ]
    },
    {
     "name": "stderr",
     "output_type": "stream",
     "text": [
      " 90%|█████████ | 9/10 [11:28<01:10, 70.37s/it]"
     ]
    },
    {
     "name": "stdout",
     "output_type": "stream",
     "text": [
      "Epoch 10\n",
      "Training loss: 0.004966232171803895\n"
     ]
    },
    {
     "name": "stderr",
     "output_type": "stream",
     "text": [
      "100%|██████████| 10/10 [11:44<00:00, 70.41s/it]"
     ]
    },
    {
     "name": "stdout",
     "output_type": "stream",
     "text": [
      "Validation loss: 0.5582756873848124\n",
      "Class: negative\n",
      "Accuracy:3700/4356 84.94031221303948%\n",
      "Class: positive\n",
      "Accuracy:9962/10552 94.40864291129644%\n"
     ]
    },
    {
     "name": "stderr",
     "output_type": "stream",
     "text": [
      "\n"
     ]
    }
   ],
   "source": [
    "#remember to run the cells below first before running this one, need dataloader and evaluate etc...\n",
    "#also remember to oversample\n",
    "vallosses = []\n",
    "predvtrue = []\n",
    "trainlosses = []\n",
    "\n",
    "with torch.no_grad():\n",
    "    torch.cuda.empty_cache()\n",
    "    \n",
    "for epoch in tqdm(range(1, epochs+1)):\n",
    "    \n",
    "    model.cuda()\n",
    "    model.train()\n",
    "    \n",
    "    loss_train_total = 0\n",
    "    \n",
    "# #     progress_bar = tqdm(dataloader_train, \n",
    "#                         desc = 'Epoch {:1d}'.format(epoch), \n",
    "#                         leave = False, \n",
    "#                         disable = False)\n",
    "    counter = 0\n",
    "    for batch in dataloader_train:\n",
    "        \n",
    "        model.zero_grad() #set gradient to 0\n",
    "    \n",
    "        batch = tuple(b.to(device) for b in batch)\n",
    "        \n",
    "        inputs = {'input_ids': batch[0], \n",
    "                  'attention_mask': batch[1], \n",
    "                  'labels': batch[2]}\n",
    "        \n",
    "        outputs = model(**inputs) #unpack the dict straight into inputs\n",
    "        \n",
    "        loss = outputs[0]\n",
    "        loss_train_total += loss.item()\n",
    "        loss.backward()\n",
    "        \n",
    "        torch.nn.utils.clip_grad_norm_(model.parameters(), 1.0)\n",
    "        \n",
    "        optimizer.step()\n",
    "        scheduler.step()\n",
    "        counter += 1\n",
    "\n",
    "    torch.save(model.state_dict(), f'Models/BERTOVER_ft_epoch{epoch}.model')\n",
    "    \n",
    "    tqdm.write(f'Epoch {epoch}')\n",
    "    \n",
    "    loss_train_ave = loss_train_total / len(dataloader_train)\n",
    "    print(f'Training loss: {loss_train_ave}')\n",
    "    trainlosses.append(loss_train_ave)\n",
    "    \n",
    "    val_loss, predictions, true_vals = evaluate(dataloader_test)\n",
    "    print(f'Validation loss: {val_loss}')\n",
    "    accuracy_per_class(predictions, true_vals)\n",
    "    \n",
    "    vallosses.append(val_loss)\n",
    "    predvtrue.append([predictions, true_vals])"
   ]
  },
  {
   "cell_type": "code",
   "execution_count": 67,
   "id": "37dca43e",
   "metadata": {},
   "outputs": [
    {
     "name": "stdout",
     "output_type": "stream",
     "text": [
      "['musical awareness: great big beautiful tomorrow has an ending, now is the time does not', \"kapan sih lo ngebuktiin,jan ngomong doang susah susah.usaha aja blm udh nyerah,inget.if you never try you'll never know.cowok kok gentle bgt\", 'show your love for your local field & it might win an award! gallagher park #bedlington current th in national award ', ' can you tell me when an update for the apple tv rd gen becomes available? the missing update holds me back from buying #appletv ', \" the crown, filthy mcnastys, katy dalys or the duke if york in belfast! can't wait to catch you guys tomorrow night!\", 'my #cre blog oklahoma per square foot returns to the blog hub tomorrow. i will have some interesting local data to share.', 'trey burke has been suspended for the northern michigan game (exhibition) tomorrow. ', 'w.o.w wednesday!marni lands this lumberjack vest for the ladies looking to bring a little tom boy toughness ', 'activists in deir ezzor captured this image of musab bin umair mosque after regime forces set it on fire wednesday. ', ' you will appreciate this.. sunday brunch coffee: normal cup in b/g and then the bowl of java. yowza. ']\n"
     ]
    }
   ],
   "source": [
    "#preprocessing test data\n",
    "full_testing_data = pd.read_csv('full_testing_data_noneutral.csv')\n",
    "\n",
    "X_testing_data_full = full_testing_data.tweet_text\n",
    "Y_testing_data_full = full_testing_data.label\n",
    "\n",
    "X_testing_data_full = [preprocessing(tweet) for tweet in X_testing_data_full]\n",
    "print(X_testing_data_full[:10])\n",
    "\n",
    "encoded_data_test = tokenizer.batch_encode_plus(X_testing_data_full,\n",
    "                                                add_special_tokens = True,\n",
    "                                                return_attention_mask = True,\n",
    "                                                padding = True,\n",
    "                                                return_tensors = 'pt')\n",
    "\n",
    "input_ids_test = encoded_data_test['input_ids']\n",
    "attention_masks_test = encoded_data_test['attention_mask']\n",
    "labels_test = torch.tensor(Y_testing_data_full)"
   ]
  },
  {
   "cell_type": "code",
   "execution_count": 68,
   "id": "351cbc99",
   "metadata": {},
   "outputs": [],
   "source": [
    "#test set\n",
    "dataset_test = TensorDataset(input_ids_test, attention_masks_test, labels_test)\n",
    "\n",
    "batch_size = 32\n",
    "#train set\n",
    "\n",
    "dataloader_test = DataLoader(dataset_test,\n",
    "                              sampler = RandomSampler(dataset_test),\n",
    "                              batch_size = 32) "
   ]
  },
  {
   "cell_type": "code",
   "execution_count": 69,
   "id": "0b0ba44f",
   "metadata": {},
   "outputs": [
    {
     "data": {
      "text/plain": [
       "tensor([1, 0, 1,  ..., 1, 1, 0])"
      ]
     },
     "execution_count": 69,
     "metadata": {},
     "output_type": "execute_result"
    }
   ],
   "source": [
    "labels_test"
   ]
  },
  {
   "cell_type": "code",
   "execution_count": 71,
   "id": "2e957880",
   "metadata": {},
   "outputs": [],
   "source": [
    "def evaluate(dataloader_test):\n",
    "\n",
    "    #evaluation mode \n",
    "    model.eval()\n",
    "    \n",
    "    #tracking variables\n",
    "    loss_val_total = 0\n",
    "    predictions, true_vals = [], []\n",
    "    \n",
    "    for batch in dataloader_test:\n",
    "        \n",
    "        #load into GPU\n",
    "        batch = tuple(b.to(device)  for b in batch)\n",
    "        \n",
    "        #define inputs\n",
    "        inputs = {'input_ids':      batch[0],\n",
    "                  'attention_mask': batch[1],\n",
    "                  'labels':         batch[2]}\n",
    "\n",
    "        #compute logits\n",
    "        with torch.no_grad():        \n",
    "            outputs = model(**inputs)\n",
    "        \n",
    "        #compute loss\n",
    "        loss = outputs[0]\n",
    "        logits = outputs[1]\n",
    "        loss_val_total += loss.item()\n",
    "\n",
    "        #compute accuracy\n",
    "        logits = logits.detach().cpu().numpy()\n",
    "        label_ids = inputs['labels'].cpu().numpy()\n",
    "        predictions.append(logits)\n",
    "        true_vals.append(label_ids)\n",
    "    \n",
    "    #compute average loss\n",
    "    loss_val_avg = loss_val_total/len(dataloader_test) \n",
    "    \n",
    "    predictions = np.concatenate(predictions, axis=0)\n",
    "    true_vals = np.concatenate(true_vals, axis=0)\n",
    "            \n",
    "    return loss_val_avg, predictions, true_vals\n",
    "\n",
    "def accuracy_per_class(preds, labels):\n",
    "    label_dict_inverse = {v: k for k, v in label_dict.items()}\n",
    "    \n",
    "    #make prediction\n",
    "    preds_flat = np.argmax(preds, axis=1).flatten()\n",
    "    labels_flat = labels.flatten()\n",
    "    \n",
    "    for label in np.unique(labels_flat):\n",
    "        y_preds = preds_flat[labels_flat==label]\n",
    "        y_true = labels_flat[labels_flat==label]\n",
    "        print(f'Class: {label_dict_inverse[label]}')\n",
    "        percent = (len(y_preds[y_preds==label]) / len(y_true)) * 100\n",
    "        print(f'Accuracy:{len(y_preds[y_preds==label])}/{len(y_true)} {percent}%')"
   ]
  },
  {
   "cell_type": "code",
   "execution_count": 30,
   "id": "6225670d",
   "metadata": {},
   "outputs": [],
   "source": [
    "#You don't need to run this cell and the ones below for the training\n",
    "#No need to run this cell if you've just trained the model in current session\n",
    "vallosses = []\n",
    "predvtrue = []\n",
    "\n",
    "#validation losses\n",
    "for i in range(1,epochs+1):\n",
    "    model.load_state_dict(torch.load(f'Models/BERTOVER_ft_epoch{i}.model'))\n",
    "    val_loss, predictions, true_vals = evaluate(dataloader_test)\n",
    "    vallosses.append(val_loss)\n",
    "    predvtrue.append([predictions, true_vals])"
   ]
  },
  {
   "cell_type": "code",
   "execution_count": 88,
   "id": "0e8d4725",
   "metadata": {},
   "outputs": [
    {
     "data": {
      "image/png": "[encoded data removed]",
      "text/plain": [
       "<Figure size 1080x504 with 1 Axes>"
      ]
     },
     "metadata": {
      "needs_background": "light"
     },
     "output_type": "display_data"
    }
   ],
   "source": [
    "#Plot the training and validation loss\n",
    "plt.figure(figsize=(15, 7))\n",
    "RANGE = range(1, 11)\n",
    "#trainlosses =  [0.317, 0.135, 0.065, 0.042, 0.026, 0.015, 0.014, 0.009, 0.006, 0.005]\n",
    "plt.plot(RANGE, trainlosses,\n",
    "         label = \"Training Loss\")\n",
    "plt.plot(RANGE, vallosses, label = \"Validation Loss\")\n",
    "\n",
    "plt.xticks(RANGE)\n",
    "plt.ylabel('Loss')\n",
    "plt.legend()\n",
    "plt.show()"
   ]
  },
  {
   "cell_type": "code",
   "execution_count": 89,
   "id": "3218e1a4",
   "metadata": {},
   "outputs": [],
   "source": [
    "#Predictions for calculating F1score, just reusing code from accuracyscore\n",
    "predvtrue2 = []\n",
    "\n",
    "def predictions(preds, labels):\n",
    "    label_dict_inverse = {v: k for k, v in label_dict.items()}\n",
    "    \n",
    "    #make prediction\n",
    "    preds_flat = np.argmax(preds, axis=1).flatten()\n",
    "    labels_flat = labels.flatten()\n",
    "    \n",
    "    for label in np.unique(labels_flat):\n",
    "        y_preds = preds_flat[labels_flat==label]\n",
    "        y_true = labels_flat[labels_flat==label]\n",
    "    \n",
    "    return y_preds, y_true\n",
    "\n",
    "for preds, labels in predvtrue:\n",
    "    predlabels, truelabels = predictions(preds, labels)\n",
    "    predvtrue2.append([predlabels,truelabels])"
   ]
  },
  {
   "cell_type": "code",
   "execution_count": 90,
   "id": "26dfa737",
   "metadata": {},
   "outputs": [],
   "source": [
    "#Calculating F1 Scores\n",
    "f1scores = []\n",
    "for i in range(len(predvtrue2)):\n",
    "    f1scores.append(f1_score(predvtrue2[i][0], predvtrue2[i][1], average='weighted'))"
   ]
  },
  {
   "cell_type": "code",
   "execution_count": 93,
   "id": "c7f9c769",
   "metadata": {},
   "outputs": [
    {
     "data": {
      "image/png": "[encoded data removed]",
      "text/plain": [
       "<Figure size 1080x540 with 1 Axes>"
      ]
     },
     "metadata": {
      "needs_background": "light"
     },
     "output_type": "display_data"
    },
    {
     "name": "stdout",
     "output_type": "stream",
     "text": [
      "Max F1 Score at Epoch 5: 0.9408399999047043\n"
     ]
    }
   ],
   "source": [
    "#Plotting F1 Scores\n",
    "plt.figure(figsize=(15, 7.5))\n",
    "plt.plot(RANGE, f1scores)\n",
    "plt.ylabel('F1 Score')\n",
    "plt.xticks(RANGE)\n",
    "plt.show()\n",
    "max_value = max(f1scores)\n",
    "max_index = f1scores.index(max_value) + 1\n",
    "print(f\"Max F1 Score at Epoch {max_index}: {max_value}\")"
   ]
  },
  {
   "cell_type": "code",
   "execution_count": null,
   "id": "460a9d6c",
   "metadata": {},
   "outputs": [],
   "source": []
  }
 ],
 "metadata": {
  "kernelspec": {
   "display_name": "Python 3",
   "language": "python",
   "name": "python3"
  },
  "language_info": {
   "codemirror_mode": {
    "name": "ipython",
    "version": 3
   },
   "file_extension": ".py",
   "mimetype": "text/x-python",
   "name": "python",
   "nbconvert_exporter": "python",
   "pygments_lexer": "ipython3",
   "version": "3.8.10"
  }
 },
 "nbformat": 4,
 "nbformat_minor": 5
}
