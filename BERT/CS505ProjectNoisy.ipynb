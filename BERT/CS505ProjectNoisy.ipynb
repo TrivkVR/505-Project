{
 "cells": [
  {
   "cell_type": "code",
   "execution_count": null,
   "id": "90f993b6",
   "metadata": {},
   "outputs": [],
   "source": [
    "!pip install transformers"
   ]
  },
  {
   "cell_type": "code",
   "execution_count": 52,
   "id": "6269df76",
   "metadata": {},
   "outputs": [],
   "source": [
    "import pandas as pd\n",
    "import numpy as np\n",
    "from transformers import BertTokenizer\n",
    "from transformers import BertForSequenceClassification\n",
    "from torch.utils.data import TensorDataset\n",
    "from torch.utils.data import DataLoader, RandomSampler, SequentialSampler\n",
    "from transformers import AdamW, get_linear_schedule_with_warmup\n",
    "import torch\n",
    "from tqdm import tqdm\n",
    "import random\n",
    "import numpy as np\n",
    "from sklearn.metrics import f1_score\n",
    "from sklearn.metrics import accuracy_score\n",
    "import re\n",
    "import pickle\n",
    "import matplotlib.pyplot as plt\n",
    "from sklearn.metrics import confusion_matrix\n",
    "seed_val = 17\n",
    "random.seed(seed_val)\n",
    "np.random.seed(seed_val)\n",
    "torch.manual_seed(seed_val)\n",
    "torch.cuda.manual_seed_all(seed_val)"
   ]
  },
  {
   "cell_type": "code",
   "execution_count": 7,
   "id": "a0a6a54e",
   "metadata": {},
   "outputs": [],
   "source": [
    "device = torch.device(\"cuda:0\" if torch.cuda.is_available() else \"cpu\")"
   ]
  },
  {
   "cell_type": "code",
   "execution_count": 7,
   "id": "76c103bc",
   "metadata": {},
   "outputs": [
    {
     "data": {
      "text/plain": [
       "0"
      ]
     },
     "execution_count": 7,
     "metadata": {},
     "output_type": "execute_result"
    }
   ],
   "source": [
    "torch.cuda.current_device()"
   ]
  },
  {
   "cell_type": "code",
   "execution_count": 3,
   "id": "80b7612a",
   "metadata": {},
   "outputs": [],
   "source": [
    "## Reading the full data\n",
    "full_train_data = pd.read_csv(\"training.1600000.processed.noemoticon.csv\",encoding='latin-1')"
   ]
  },
  {
   "cell_type": "code",
   "execution_count": 11,
   "id": "46b32939",
   "metadata": {},
   "outputs": [],
   "source": [
    "# Reading full test data\n",
    "full_test_data = pd.read_csv('full_test_data.csv')"
   ]
  },
  {
   "cell_type": "code",
   "execution_count": 9,
   "id": "f86b2363",
   "metadata": {},
   "outputs": [
    {
     "data": {
      "text/plain": [
       "'Musical awareness: Great Big Beautiful Tomorrow has an ending, Now is the time does not'"
      ]
     },
     "execution_count": 9,
     "metadata": {},
     "output_type": "execute_result"
    }
   ],
   "source": [
    "full_test_data.iloc[0,:].tweet_text"
   ]
  },
  {
   "cell_type": "code",
   "execution_count": 6,
   "id": "44c06660",
   "metadata": {},
   "outputs": [],
   "source": [
    "## Defining the preprocessing function removing twitter handles ,  website links , digits and double spacing\n",
    "def preprocessing(tweet):\n",
    "  temp = tweet.lower()\n",
    "  temp = re.sub('(@[A-Za-z]+[A-Za-z0-9-_]+)', ' ', temp)\n",
    "  temp = re.sub(r'https\\S+', '', temp)\n",
    "  temp = re.sub(r'http\\S+', '', temp)\n",
    "  temp = re.sub(r'www\\S+', '', temp)\n",
    "  temp = re.sub(r\"([^ ]+(?<=\\.[a-z]{3}))\", \" \", temp)\n",
    "  temp = re.sub(\"[0-9]\", \" \", temp)\n",
    "  temp = re.sub(\"\\s\\s+\", \" \", temp)\n",
    "  return temp"
   ]
  },
  {
   "cell_type": "code",
   "execution_count": 11,
   "id": "f3b15097",
   "metadata": {},
   "outputs": [
    {
     "name": "stderr",
     "output_type": "stream",
     "text": [
      "100%|██████████| 28418/28418 [00:03<00:00, 7593.01it/s]\n"
     ]
    }
   ],
   "source": [
    "preprocessed_test_tweets = []\n",
    "labels = []\n",
    "for i in tqdm(range(full_test_data.shape[0])):\n",
    "    row_val = full_test_data.iloc[i,:]\n",
    "    if row_val.label == 1:\n",
    "        continue\n",
    "    tweet = preprocessing(row_val.tweet_text)\n",
    "    preprocessed_test_tweets.append(tweet)\n",
    "    if row_val.label == 2:\n",
    "        labels.append(1)\n",
    "    else:\n",
    "        labels.append(0)"
   ]
  },
  {
   "cell_type": "code",
   "execution_count": 13,
   "id": "aa7801bb",
   "metadata": {},
   "outputs": [],
   "source": [
    "test_info = {'Polarity':labels,'text':preprocessed_test_tweets}\n",
    "full_test_data = pd.DataFrame(data=test_info)\n",
    "full_test_data.to_csv(\"full_test_data.csv\",index=True)"
   ]
  },
  {
   "cell_type": "code",
   "execution_count": 14,
   "id": "1b92aada",
   "metadata": {},
   "outputs": [
    {
     "data": {
      "text/plain": [
       "1    10552\n",
       "0     4356\n",
       "Name: Polarity, dtype: int64"
      ]
     },
     "execution_count": 14,
     "metadata": {},
     "output_type": "execute_result"
    }
   ],
   "source": [
    "full_test_data.Polarity.value_counts()"
   ]
  },
  {
   "cell_type": "code",
   "execution_count": 16,
   "id": "bdf41fc1",
   "metadata": {},
   "outputs": [],
   "source": [
    "columns = full_train_data.columns"
   ]
  },
  {
   "cell_type": "code",
   "execution_count": 18,
   "id": "8f781a23",
   "metadata": {},
   "outputs": [],
   "source": [
    "## renaming the columns\n",
    "full_train_data.rename(columns={columns[0]: 'Polarity', columns[1]: 'tweetID', columns[2]:'date', columns[3]:'query', columns[4]:'user', columns[5]:'text'}, inplace=True)"
   ]
  },
  {
   "cell_type": "code",
   "execution_count": 19,
   "id": "ffa56d49",
   "metadata": {},
   "outputs": [
    {
     "name": "stderr",
     "output_type": "stream",
     "text": [
      "100%|██████████| 1599999/1599999 [00:17<00:00, 93384.72it/s]\n"
     ]
    }
   ],
   "source": [
    "pre_processed_all_tweets = []\n",
    "for tweet in tqdm(full_train_data.text):\n",
    "  tweet = preprocessing(tweet)\n",
    "  pre_processed_all_tweets.append(tweet)"
   ]
  },
  {
   "cell_type": "code",
   "execution_count": 20,
   "id": "3fb3cb12",
   "metadata": {},
   "outputs": [],
   "source": [
    "info = {'Polarity':full_train_data['Polarity'],'text':pre_processed_all_tweets}\n",
    "full_training_data = pd.DataFrame(data = info)"
   ]
  },
  {
   "cell_type": "code",
   "execution_count": 21,
   "id": "a1d5dcb7",
   "metadata": {},
   "outputs": [],
   "source": [
    "## Changing the polarity of the positive tweet to 1\n",
    "full_training_data['Polarity'].mask(full_training_data['Polarity'] == 4, 1, inplace=True)"
   ]
  },
  {
   "cell_type": "code",
   "execution_count": 22,
   "id": "08555b1b",
   "metadata": {},
   "outputs": [],
   "source": [
    "## Writing to CSV file\n",
    "full_training_data.to_csv(\"full_training_data.csv\",index=True)"
   ]
  },
  {
   "cell_type": "code",
   "execution_count": 8,
   "id": "05ce6d7f",
   "metadata": {},
   "outputs": [],
   "source": [
    "# Reading full training set\n",
    "full_training_data = pd.read_csv('full_training_data.csv')"
   ]
  },
  {
   "cell_type": "code",
   "execution_count": 9,
   "id": "c22f2564",
   "metadata": {},
   "outputs": [],
   "source": [
    "#Reading full test data\n",
    "full_test_data = pd.read_csv('full_test_data.csv')"
   ]
  },
  {
   "cell_type": "code",
   "execution_count": 10,
   "id": "20f9d771",
   "metadata": {},
   "outputs": [],
   "source": [
    "X_training_data_full = full_training_data.text\n",
    "Y_training_data_full = full_training_data.Polarity"
   ]
  },
  {
   "cell_type": "code",
   "execution_count": 11,
   "id": "72fb2e97",
   "metadata": {},
   "outputs": [],
   "source": [
    "X_testing_data = full_test_data.text\n",
    "Y_testing_data = full_test_data.Polarity"
   ]
  },
  {
   "cell_type": "code",
   "execution_count": 12,
   "id": "3cb711a6",
   "metadata": {},
   "outputs": [],
   "source": [
    "# Using the BERT tokenizer to tokenize the values\n",
    "tokenizer = BertTokenizer.from_pretrained('bert-base-uncased')"
   ]
  },
  {
   "cell_type": "code",
   "execution_count": 38,
   "id": "fc96b51c",
   "metadata": {},
   "outputs": [
    {
     "name": "stderr",
     "output_type": "stream",
     "text": [
      "100%|██████████| 1599999/1599999 [08:11<00:00, 3255.31it/s]"
     ]
    },
    {
     "name": "stdout",
     "output_type": "stream",
     "text": [
      "Max sentence length:  229\n"
     ]
    },
    {
     "name": "stderr",
     "output_type": "stream",
     "text": [
      "\n"
     ]
    }
   ],
   "source": [
    "max_len = 0\n",
    "\n",
    "# For every sentence...\n",
    "for sent in tqdm(X_training_data_full):\n",
    "\n",
    "    # Tokenize the text and add `[CLS]` and `[SEP]` tokens.\n",
    "    input_ids = tokenizer.encode(sent, add_special_tokens=True)\n",
    "\n",
    "    # Update the maximum sentence length.\n",
    "    max_len = max(max_len, len(input_ids))\n",
    "\n",
    "print('Max sentence length: ', max_len)"
   ]
  },
  {
   "cell_type": "code",
   "execution_count": 13,
   "id": "5e1227c0",
   "metadata": {},
   "outputs": [
    {
     "name": "stderr",
     "output_type": "stream",
     "text": [
      "Truncation was not explicitly activated but `max_length` is provided a specific value, please use `truncation=True` to explicitly truncate examples to max length. Defaulting to 'longest_first' truncation strategy. If you encode pairs of sequences (GLUE-style) with the tokenizer you can select this strategy more precisely by providing a specific strategy to `truncation`.\n",
      "/usr4/cs505/orawal/.local/lib/python3.8/site-packages/transformers/tokenization_utils_base.py:2263: FutureWarning: The `pad_to_max_length` argument is deprecated and will be removed in a future version, use `padding=True` or `padding='longest'` to pad to the longest sequence in the batch, or use `padding='max_length'` to pad to a max length. In this case, you can give a specific length with `max_length` (e.g. `max_length=45`) or leave max_length to None to pad to the maximal input size of the model (e.g. 512 for Bert).\n",
      "  warnings.warn(\n"
     ]
    }
   ],
   "source": [
    "#encode train set\n",
    "encoded_data_train = tokenizer.batch_encode_plus(X_training_data_full,\n",
    "                                                add_special_tokens = True,\n",
    "                                                return_attention_mask = True,\n",
    "                                                pad_to_max_length = True,\n",
    "                                                max_length = 256,\n",
    "                                                return_tensors = 'pt')"
   ]
  },
  {
   "cell_type": "code",
   "execution_count": 14,
   "id": "64c40a0f",
   "metadata": {},
   "outputs": [],
   "source": [
    "#encode test set\n",
    "encoded_data_test = tokenizer.batch_encode_plus(X_testing_data,\n",
    "                                                add_special_tokens = True,\n",
    "                                                return_attention_mask = True,\n",
    "                                                pad_to_max_length = True,\n",
    "                                                max_length = 256,\n",
    "                                                return_tensors = 'pt')"
   ]
  },
  {
   "cell_type": "code",
   "execution_count": 15,
   "id": "6b45a059",
   "metadata": {},
   "outputs": [],
   "source": [
    "#train set\n",
    "input_ids_train = encoded_data_train['input_ids']\n",
    "attention_masks_train = encoded_data_train['attention_mask']\n",
    "labels_train = torch.tensor(Y_training_data_full)\n"
   ]
  },
  {
   "cell_type": "code",
   "execution_count": 16,
   "id": "5373cbb9",
   "metadata": {},
   "outputs": [],
   "source": [
    "#test set\n",
    "input_ids_test = encoded_data_test['input_ids']\n",
    "attention_masks_test = encoded_data_test['attention_mask']\n",
    "labels_test = torch.tensor(Y_testing_data)"
   ]
  },
  {
   "cell_type": "code",
   "execution_count": 17,
   "id": "ab0bb3f2",
   "metadata": {},
   "outputs": [],
   "source": [
    "#train set\n",
    "dataset_train = TensorDataset(input_ids_train, \n",
    "                              attention_masks_train,\n",
    "                              labels_train)"
   ]
  },
  {
   "cell_type": "code",
   "execution_count": 18,
   "id": "b6632531",
   "metadata": {},
   "outputs": [],
   "source": [
    "#test set\n",
    "dataset_test = TensorDataset(input_ids_test, \n",
    "                              attention_masks_test,\n",
    "                              labels_test)"
   ]
  },
  {
   "cell_type": "code",
   "execution_count": 19,
   "id": "6622de61",
   "metadata": {},
   "outputs": [],
   "source": [
    "validation_set_size = int(len(dataset_train)*0.2)\n",
    "train_set_size = int(len(dataset_train) - validation_set_size)\n",
    "\n",
    "validation_dataset,train_dataset = torch.utils.data.random_split(dataset_train, [validation_set_size, train_set_size], generator=torch.Generator().manual_seed(42))"
   ]
  },
  {
   "cell_type": "code",
   "execution_count": 20,
   "id": "720573b4",
   "metadata": {},
   "outputs": [],
   "source": [
    "batch_size = 32\n",
    "#train set\n",
    "dataloader_train = DataLoader(train_dataset,\n",
    "                              sampler = RandomSampler(train_dataset),\n",
    "                              batch_size = batch_size)\n",
    "dataloader_val = DataLoader(validation_dataset,sampler = RandomSampler(validation_dataset),\n",
    "                              batch_size = batch_size)\n",
    "dataloader_test = DataLoader(dataset_test,batch_size = batch_size,drop_last=True)"
   ]
  },
  {
   "cell_type": "code",
   "execution_count": 15,
   "id": "9c21d05a",
   "metadata": {},
   "outputs": [],
   "source": [
    "import torch, gc\n",
    "gc.collect()\n",
    "torch.cuda.empty_cache()"
   ]
  },
  {
   "cell_type": "code",
   "execution_count": null,
   "id": "d54e7f77",
   "metadata": {},
   "outputs": [],
   "source": [
    "torch.cuda.memory_allocated(device=device)"
   ]
  },
  {
   "cell_type": "code",
   "execution_count": 21,
   "id": "6c140df7",
   "metadata": {},
   "outputs": [
    {
     "name": "stderr",
     "output_type": "stream",
     "text": [
      "Some weights of the model checkpoint at bert-base-uncased were not used when initializing BertForSequenceClassification: ['cls.predictions.bias', 'cls.predictions.decoder.weight', 'cls.predictions.transform.dense.bias', 'cls.seq_relationship.weight', 'cls.predictions.transform.LayerNorm.weight', 'cls.seq_relationship.bias', 'cls.predictions.transform.dense.weight', 'cls.predictions.transform.LayerNorm.bias']\n",
      "- This IS expected if you are initializing BertForSequenceClassification from the checkpoint of a model trained on another task or with another architecture (e.g. initializing a BertForSequenceClassification model from a BertForPreTraining model).\n",
      "- This IS NOT expected if you are initializing BertForSequenceClassification from the checkpoint of a model that you expect to be exactly identical (initializing a BertForSequenceClassification model from a BertForSequenceClassification model).\n",
      "Some weights of BertForSequenceClassification were not initialized from the model checkpoint at bert-base-uncased and are newly initialized: ['classifier.bias', 'classifier.weight']\n",
      "You should probably TRAIN this model on a down-stream task to be able to use it for predictions and inference.\n"
     ]
    }
   ],
   "source": [
    "model = BertForSequenceClassification.from_pretrained('bert-base-uncased',\n",
    "                                                      num_labels = 2,\n",
    "                                                      output_attentions = False,\n",
    "                                                      output_hidden_states = False)"
   ]
  },
  {
   "cell_type": "code",
   "execution_count": 22,
   "id": "f5e21ea0",
   "metadata": {},
   "outputs": [
    {
     "data": {
      "text/plain": [
       "<All keys matched successfully>"
      ]
     },
     "execution_count": 22,
     "metadata": {},
     "output_type": "execute_result"
    }
   ],
   "source": [
    "# Code for laoding for pre trained model checkpoint\n",
    "model.load_state_dict(torch.load(f'Models/ BERT_ft_epoch3.model'))"
   ]
  },
  {
   "cell_type": "code",
   "execution_count": 24,
   "id": "62150953",
   "metadata": {},
   "outputs": [],
   "source": [
    "optimizer = AdamW(model.parameters(),\n",
    "                 lr = 1e-5,\n",
    "                 eps = 1e-8) #2e-5 > 5e-5\n",
    "                 \n",
    "epochs = 5\n",
    "\n",
    "scheduler = get_linear_schedule_with_warmup(optimizer,\n",
    "                                           num_warmup_steps = 0,\n",
    "                                           num_training_steps = len(dataloader_train)*epochs)\n"
   ]
  },
  {
   "cell_type": "code",
   "execution_count": 25,
   "id": "75bbf5d0",
   "metadata": {},
   "outputs": [],
   "source": [
    "def evaluate(dataloader_val,model):\n",
    "\n",
    "    model.cuda()\n",
    "    #evaluation mode \n",
    "    model.eval()\n",
    "    #tracking variables\n",
    "    loss_val_total = 0\n",
    "    predictions, true_vals = [], []\n",
    "    \n",
    "    for batch in tqdm(dataloader_val):\n",
    "        \n",
    "        #load into GPU\n",
    "        batch = tuple(b.cuda() for b in batch)\n",
    "        \n",
    "        #define inputs\n",
    "        inputs = {'input_ids':      batch[0],\n",
    "                  'attention_mask': batch[1],\n",
    "                  'labels':         batch[2]}\n",
    "\n",
    "        #compute logits\n",
    "        with torch.no_grad():        \n",
    "            outputs = model(**inputs)\n",
    "        \n",
    "        #compute loss\n",
    "        loss = outputs[0]\n",
    "        logits = outputs[1]\n",
    "        loss_val_total += loss.item()\n",
    "\n",
    "        #compute accuracy\n",
    "        logits = logits.detach().cpu().numpy()\n",
    "        label_ids = inputs['labels'].cpu().numpy()\n",
    "        predictions.append(logits)\n",
    "        true_vals.append(label_ids)\n",
    "    \n",
    "    #compute average loss\n",
    "    loss_val_avg = loss_val_total/len(dataloader_val) \n",
    "    \n",
    "    predictions = np.concatenate(predictions, axis=0)\n",
    "    true_vals = np.concatenate(true_vals, axis=0)\n",
    "            \n",
    "    return loss_val_avg, predictions, true_vals"
   ]
  },
  {
   "cell_type": "code",
   "execution_count": 26,
   "id": "cad45612",
   "metadata": {},
   "outputs": [],
   "source": [
    "def f1_score_func(preds, labels):\n",
    "    preds_flat = np.argmax(preds, axis = 1).flatten()\n",
    "    return f1_score(list(labels), list(preds_flat),average='weighted')"
   ]
  },
  {
   "cell_type": "code",
   "execution_count": 27,
   "id": "6dc7f3ea",
   "metadata": {},
   "outputs": [],
   "source": [
    "def accuracy_per_class(preds, labels):\n",
    "    label_dict = {'Negative' : 0 , 'Positive' : 1}\n",
    "    label_dict_inverse = {v: k for k, v in label_dict.items()}\n",
    "    \n",
    "    #make prediction\n",
    "    preds_flat = np.argmax(preds, axis=1).flatten()\n",
    "    labels_flat = labels.flatten()\n",
    "    \n",
    "    for label in np.unique(labels_flat):\n",
    "        y_preds = preds_flat[labels_flat==label]\n",
    "        y_true = labels_flat[labels_flat==label]\n",
    "        print(f'Class: {label_dict_inverse[label]}')\n",
    "        print(f'Accuracy:{len(y_preds[y_preds==label])}/{len(y_true)}\\n')\n",
    "    \n",
    "    print(f'Total accuracy is : {accuracy_score(labels_flat,preds_flat)}\\n')\n",
    "    \n",
    "    return accuracy_score(labels_flat,preds_flat)\n",
    "        \n",
    "    "
   ]
  },
  {
   "cell_type": "code",
   "execution_count": 35,
   "id": "ddd27ba8",
   "metadata": {},
   "outputs": [],
   "source": [
    "torch.cuda.empty_cache()"
   ]
  },
  {
   "cell_type": "code",
   "execution_count": null,
   "id": "17c1d8c2",
   "metadata": {
    "scrolled": true
   },
   "outputs": [],
   "source": [
    "import pickle\n",
    "train_loss = []\n",
    "val_loss_total = []\n",
    "for epoch in tqdm(range(4, epochs+1)):\n",
    "    \n",
    "    model.cuda()\n",
    "    model.train()\n",
    "    \n",
    "    loss_train_total = 0\n",
    "    \n",
    "    progress_bar = tqdm(dataloader_train, \n",
    "                        desc = 'Epoch {:1d}'.format(epoch), \n",
    "                        leave = False, \n",
    "                        disable = False)\n",
    "    counter = 0\n",
    "    for batch in progress_bar:\n",
    "        \n",
    "        model.zero_grad() #set gradient to 0\n",
    "        batch = tuple(b.cuda() for b in batch)\n",
    "        \n",
    "        inputs = {'input_ids': batch[0], \n",
    "                  'attention_mask': batch[1], \n",
    "                  'labels': batch[2]}        \n",
    "        outputs = model(**inputs) #unpack the dict straight into inputs\n",
    "        \n",
    "        loss = outputs[0]\n",
    "        loss_train_total += loss.item()\n",
    "        loss.backward()\n",
    "        \n",
    "        torch.nn.utils.clip_grad_norm_(model.parameters(), 1.0)\n",
    "        \n",
    "        optimizer.step()\n",
    "        scheduler.step()\n",
    "        counter += 1\n",
    "#         if counter%2000 == 0:\n",
    "#             print(\"Epoch: {}/{}...\".format(epoch, epochs),\n",
    "#                     \"Step: {}...\".format(counter),\n",
    "#                     \"Loss: {}...\".format(loss.item()))\n",
    "        progress_bar.set_postfix({'training_loss': '{:.3f}'.format(loss.item() / len(batch))})\n",
    "        \n",
    "    torch.save(model.state_dict(), f'Models/ BERT_ft_epoch{epoch}.model')\n",
    "    \n",
    "    tqdm.write('\\n Epoch {epoch}')\n",
    "    \n",
    "    loss_train_ave = loss_train_total / len(dataloader_train)\n",
    "    train_loss.append(loss_train_ave)\n",
    "    tqdm.write('Training loss: {loss_train_avg}')\n",
    "    \n",
    "    val_loss, predictions, true_vals = evaluate(dataloader_val,model)\n",
    "    val_loss_total.append(val_loss)\n",
    "    val_f1 = f1_score_func(predictions, true_vals)\n",
    "    accuracy =  accuracy_per_class(predictions, true_vals)\n",
    "    \n",
    "    dict1 = {'Validation_loss':val_loss,'Training_loss':loss_train_ave,'validation_F1':val_f1,'Validation_Acc':accuracy}\n",
    "    with open(f'Data\\Epoch_{epoch}_data.pickle', 'wb') as f:\n",
    "        pickle.dump(dict1, f)   \n",
    "    tqdm.write(f'Validation loss: {val_loss}')\n",
    "    tqdm.write(f'F1 Score (weighted): {val_f1}')\n"
   ]
  },
  {
   "cell_type": "code",
   "execution_count": 39,
   "id": "4f54e42e",
   "metadata": {},
   "outputs": [],
   "source": [
    "def read_data():\n",
    "    validation_loss = []\n",
    "    training_loss = []\n",
    "    f1_scores = []\n",
    "    validation_acc = []\n",
    "    for i in range(1,6):\n",
    "        with open(f'Data\\Epoch_{i}_data.pickle', 'rb') as f:\n",
    "            dict1 = pickle.load(f, encoding='latin1')\n",
    "            validation_loss.append(dict1['Validation_loss'])\n",
    "            training_loss.append(dict1['Training_loss'])\n",
    "            f1_scores.append(dict1['validation_F1'])\n",
    "            validation_acc.append(dict1['Validation_Acc'])\n",
    "    return validation_loss,training_loss,f1_scores,validation_acc"
   ]
  },
  {
   "cell_type": "code",
   "execution_count": 40,
   "id": "c3c96ab6",
   "metadata": {},
   "outputs": [],
   "source": [
    "val_loss,train_loss,f1_scores,val_acc = read_data()"
   ]
  },
  {
   "cell_type": "code",
   "execution_count": 43,
   "id": "458de686",
   "metadata": {},
   "outputs": [
    {
     "data": {
      "image/png": "[encoded data removed]",
      "text/plain": [
       "<Figure size 1080x504 with 1 Axes>"
      ]
     },
     "metadata": {
      "needs_background": "light"
     },
     "output_type": "display_data"
    }
   ],
   "source": [
    "##Plot the training and validation loss\n",
    "plt.figure(figsize=(15, 7))\n",
    "RANGE = range(1, 6)\n",
    "plt.plot(RANGE, train_loss,\n",
    "         label = \"Training Loss\")\n",
    "plt.plot(RANGE, val_loss, label = \"Validation Loss\")\n",
    "\n",
    "plt.xticks(RANGE)\n",
    "plt.ylabel('Loss')\n",
    "plt.legend()\n",
    "plt.show()"
   ]
  },
  {
   "cell_type": "code",
   "execution_count": 48,
   "id": "d4accd6a",
   "metadata": {},
   "outputs": [
    {
     "data": {
      "image/png": "[encoded data removed]",
      "text/plain": [
       "<Figure size 1080x540 with 1 Axes>"
      ]
     },
     "metadata": {
      "needs_background": "light"
     },
     "output_type": "display_data"
    },
    {
     "name": "stdout",
     "output_type": "stream",
     "text": [
      "Max F1 Score at Epoch 3: 0.8676583551025191\n"
     ]
    }
   ],
   "source": [
    "#Plotting F1 Scores\n",
    "plt.figure(figsize=(15, 7.5))\n",
    "plt.plot(RANGE, f1_scores , label='Validation Set F1 Scores')\n",
    "plt.ylabel('F1 Score')\n",
    "plt.xticks(RANGE)\n",
    "plt.legend()\n",
    "plt.show()\n",
    "max_value = max(f1_scores)\n",
    "max_index = f1_scores.index(max_value) + 1\n",
    "print(f\"Max F1 Score at Epoch {max_index}: {max_value}\")"
   ]
  },
  {
   "cell_type": "code",
   "execution_count": 49,
   "id": "d07e5f2f",
   "metadata": {},
   "outputs": [
    {
     "data": {
      "image/png": "[encoded data removed]",
      "text/plain": [
       "<Figure size 1080x540 with 1 Axes>"
      ]
     },
     "metadata": {
      "needs_background": "light"
     },
     "output_type": "display_data"
    },
    {
     "name": "stdout",
     "output_type": "stream",
     "text": [
      "Max Accuracy Score at Epoch 3: 0.8676589614342545\n"
     ]
    }
   ],
   "source": [
    "#Plotting validation accuracy\n",
    "plt.figure(figsize=(15, 7.5))\n",
    "plt.plot(RANGE, val_acc , label='Validation Set Accuracy Scores')\n",
    "plt.ylabel('Accuracy')\n",
    "plt.xticks(RANGE)\n",
    "plt.legend()\n",
    "plt.show()\n",
    "max_value = max(val_acc)\n",
    "max_index = val_acc.index(max_value) + 1\n",
    "print(f\"Max Accuracy Score at Epoch {max_index}: {max_value}\")"
   ]
  },
  {
   "cell_type": "markdown",
   "id": "bfc1dbe2",
   "metadata": {},
   "source": [
    "# From the above plots we analyzed that epoch 3 model is the best model so we will be testing the test set on model from epoch 3 ."
   ]
  },
  {
   "cell_type": "code",
   "execution_count": 57,
   "id": "281427af",
   "metadata": {},
   "outputs": [],
   "source": [
    "def plot_confusion(y_test,y_pred):\n",
    "    #Generate the confusion matrix\n",
    "    y_pred = np.argmax(y_pred, axis = 1).flatten()\n",
    "    cf_matrix = confusion_matrix(y_test, y_pred)\n",
    "    return cf_matrix"
   ]
  },
  {
   "cell_type": "code",
   "execution_count": 50,
   "id": "9e9671c9",
   "metadata": {},
   "outputs": [
    {
     "data": {
      "text/plain": [
       "<All keys matched successfully>"
      ]
     },
     "execution_count": 50,
     "metadata": {},
     "output_type": "execute_result"
    }
   ],
   "source": [
    "# Code for laoding for pre trained model checkpoint\n",
    "model.load_state_dict(torch.load(f'Models/ BERT_ft_epoch3.model'))"
   ]
  },
  {
   "cell_type": "code",
   "execution_count": 51,
   "id": "ff86e0e5",
   "metadata": {},
   "outputs": [
    {
     "name": "stderr",
     "output_type": "stream",
     "text": [
      "100%|██████████| 465/465 [01:07<00:00,  6.88it/s]\n"
     ]
    }
   ],
   "source": [
    "loss_test_avg, predictions, true_vals = evaluate(dataloader_test,model)"
   ]
  },
  {
   "cell_type": "code",
   "execution_count": 58,
   "id": "53282d12",
   "metadata": {},
   "outputs": [],
   "source": [
    "matrix = plot_confusion(true_vals,predictions)"
   ]
  },
  {
   "cell_type": "code",
   "execution_count": 61,
   "id": "21ce33c7",
   "metadata": {},
   "outputs": [
    {
     "name": "stdout",
     "output_type": "stream",
     "text": [
      "[[2942 1403]\n",
      " [1433 9102]]\n"
     ]
    }
   ],
   "source": [
    "print(matrix)"
   ]
  },
  {
   "cell_type": "code",
   "execution_count": 64,
   "id": "48ef2ed2",
   "metadata": {},
   "outputs": [
    {
     "data": {
      "image/png": "[encoded data removed]",
      "text/plain": [
       "<Figure size 1080x540 with 2 Axes>"
      ]
     },
     "metadata": {
      "needs_background": "light"
     },
     "output_type": "display_data"
    }
   ],
   "source": [
    "#Plot Normalized confusion matrix\n",
    "import seaborn as sns\n",
    "plt.figure(figsize=(15, 7.5))\n",
    "\n",
    "matrix = matrix.astype('float') / matrix.sum(axis=1)[:, np.newaxis]\n",
    "\n",
    "ax = sns.heatmap(matrix, annot=True, cmap='Blues')\n",
    "\n",
    "ax.set_title('Seaborn Confusion Matrix with labels\\n\\n');\n",
    "ax.set_xlabel('\\nPredicted Values')\n",
    "ax.set_ylabel('Actual Values ');\n",
    "\n",
    "## Ticket labels - List must be in alphabetical order\n",
    "ax.xaxis.set_ticklabels(['False','True'])\n",
    "ax.yaxis.set_ticklabels(['False','True'])\n",
    "\n",
    "## Display the visualization of the Confusion Matrix.\n",
    "plt.show()"
   ]
  },
  {
   "cell_type": "code",
   "execution_count": 65,
   "id": "da9e6991",
   "metadata": {},
   "outputs": [
    {
     "name": "stdout",
     "output_type": "stream",
     "text": [
      "Class: Negative\n",
      "Accuracy:2942/4345\n",
      "\n",
      "Class: Positive\n",
      "Accuracy:9102/10535\n",
      "\n",
      "Total accuracy is : 0.8094086021505377\n",
      "\n"
     ]
    },
    {
     "data": {
      "text/plain": [
       "0.8094086021505377"
      ]
     },
     "execution_count": 65,
     "metadata": {},
     "output_type": "execute_result"
    }
   ],
   "source": [
    "accuracy_per_class(predictions, true_vals)"
   ]
  },
  {
   "cell_type": "code",
   "execution_count": 66,
   "id": "7a3184a2",
   "metadata": {},
   "outputs": [
    {
     "name": "stdout",
     "output_type": "stream",
     "text": [
      "F1 score is:  0.8096005764280311\n"
     ]
    }
   ],
   "source": [
    "print(\"F1 score is: \",f1_score_func(predictions, true_vals))"
   ]
  },
  {
   "cell_type": "markdown",
   "id": "21dfd003",
   "metadata": {},
   "source": [
    "# Total accuracy is : 80.9% and F1 score is : 0.8096005764280311"
   ]
  }
 ],
 "metadata": {
  "kernelspec": {
   "display_name": "Python 3",
   "language": "python",
   "name": "python3"
  },
  "language_info": {
   "codemirror_mode": {
    "name": "ipython",
    "version": 3
   },
   "file_extension": ".py",
   "mimetype": "text/x-python",
   "name": "python",
   "nbconvert_exporter": "python",
   "pygments_lexer": "ipython3",
   "version": "3.8.10"
  }
 },
 "nbformat": 4,
 "nbformat_minor": 5
}
